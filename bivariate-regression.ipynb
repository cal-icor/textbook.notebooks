{
 "cells": [
  {
   "cell_type": "markdown",
   "metadata": {},
   "source": [
    "# Bivariate Regression\n",
    "Professor: Jason Wittenberg  \n",
    "Authors: Eric Van Dusen, William McEachen"
   ]
  },
  {
   "cell_type": "markdown",
   "metadata": {},
   "source": [
    "## Table of Contents\n",
    "1) Defining a Linear Model  \n",
    "2) Why OLS?  \n",
    "3) Formula for OLS  \n",
    "4) Defining line fitness"
   ]
  },
  {
   "cell_type": "code",
   "execution_count": 2,
   "metadata": {},
   "outputs": [],
   "source": [
    "!pip install -U seaborn --quiet\n",
    "import numpy as np\n",
    "from scipy import stats\n",
    "import pandas as pd\n",
    "from ipywidgets import *\n",
    "import seaborn as sns\n",
    "import matplotlib.pyplot as plt\n",
    "import statsmodels.formula.api as smf\n",
    "from IPython.display import display, Markdown\n",
    "%matplotlib inline"
   ]
  },
  {
   "cell_type": "markdown",
   "metadata": {},
   "source": [
    "## Linear Models:\n",
    "When we have two continuous variables (one dependent, one independent), we can use *bivariate regression* to determine how closely the two are related. Biviarate regression is used to determine how changes in one variable -- the independent variable, often denoted $X$ -- can predict changes in another, the dependent variable, often denoted $y$. Bivariate regression relies on a linear model, which follows the form $ y= \\alpha + \\beta X$, where $\\alpha$ is the y-intercept and $\\beta$ is the slope. \n",
    "\n",
    "If we assume that the relationship between our variables is not perfect (or, in the real world, if there is some predictable inaccuracy in our measurement), we add an error term $\\epsilon$: $ y= \\alpha + \\beta X + \\epsilon$. "
   ]
  },
  {
   "cell_type": "markdown",
   "metadata": {},
   "source": [
    "## Motivating Ordinary Least Squares"
   ]
  },
  {
   "cell_type": "markdown",
   "metadata": {},
   "source": [
    "To understand how we might create an equation for two variables, let's consider the relationship between GDP growth and incumbent vote share (from Lecture I). Let's load in the data table where the GROWTH column represents GDP growth and the VOTE column represents incumbent vote share."
   ]
  },
  {
   "cell_type": "code",
   "execution_count": 3,
   "metadata": {},
   "outputs": [
    {
     "data": {
      "application/vnd.microsoft.datawrangler.viewer.v0+json": {
       "columns": [
        {
         "name": "index",
         "rawType": "int64",
         "type": "integer"
        },
        {
         "name": "YEAR",
         "rawType": "int64",
         "type": "integer"
        },
        {
         "name": "VOTE",
         "rawType": "float64",
         "type": "float"
        },
        {
         "name": "PARTY",
         "rawType": "int64",
         "type": "integer"
        },
        {
         "name": "PERSON",
         "rawType": "int64",
         "type": "integer"
        },
        {
         "name": "DURATION",
         "rawType": "float64",
         "type": "float"
        },
        {
         "name": "WAR",
         "rawType": "int64",
         "type": "integer"
        },
        {
         "name": "GROWTH",
         "rawType": "float64",
         "type": "float"
        },
        {
         "name": "INFLATION",
         "rawType": "float64",
         "type": "float"
        },
        {
         "name": "GOODNEWS",
         "rawType": "int64",
         "type": "integer"
        }
       ],
       "ref": "28e227e5-542a-4bfe-b1f8-2f50f9b6cdd2",
       "rows": [
        [
         "0",
         "1880",
         "50.22",
         "-1",
         "0",
         "1.75",
         "0",
         "3.879",
         "1.974",
         "9"
        ],
        [
         "1",
         "1884",
         "49.846",
         "-1",
         "0",
         "2.0",
         "0",
         "1.589",
         "1.055",
         "2"
        ],
        [
         "2",
         "1888",
         "50.414",
         "1",
         "1",
         "0.0",
         "0",
         "-5.553",
         "0.604",
         "3"
        ],
        [
         "3",
         "1892",
         "48.268",
         "-1",
         "1",
         "0.0",
         "0",
         "2.763",
         "2.274",
         "7"
        ],
        [
         "4",
         "1896",
         "47.76",
         "1",
         "0",
         "0.0",
         "0",
         "-10.024",
         "3.41",
         "6"
        ],
        [
         "5",
         "1900",
         "53.171",
         "-1",
         "1",
         "0.0",
         "0",
         "-1.425",
         "2.548",
         "7"
        ],
        [
         "6",
         "1904",
         "60.006",
         "-1",
         "0",
         "1.0",
         "0",
         "-2.421",
         "1.442",
         "5"
        ],
        [
         "7",
         "1908",
         "54.483",
         "-1",
         "0",
         "1.25",
         "0",
         "-6.281",
         "1.879",
         "8"
        ],
        [
         "8",
         "1912",
         "54.708",
         "-1",
         "1",
         "1.5",
         "0",
         "4.164",
         "2.172",
         "8"
        ],
        [
         "9",
         "1916",
         "51.682",
         "1",
         "1",
         "0.0",
         "0",
         "2.229",
         "4.252",
         "3"
        ],
        [
         "10",
         "1920",
         "36.119",
         "1",
         "0",
         "1.0",
         "1",
         "-11.463",
         "0.0",
         "0"
        ],
        [
         "11",
         "1924",
         "58.244",
         "-1",
         "1",
         "0.0",
         "0",
         "-3.872",
         "5.161",
         "10"
        ],
        [
         "12",
         "1928",
         "58.82",
         "-1",
         "0",
         "1.0",
         "0",
         "4.623",
         "0.183",
         "7"
        ],
        [
         "13",
         "1932",
         "40.841",
         "-1",
         "1",
         "1.25",
         "0",
         "-14.557",
         "7.16",
         "4"
        ],
        [
         "14",
         "1936",
         "62.458",
         "1",
         "1",
         "0.0",
         "0",
         "11.677",
         "2.454",
         "9"
        ],
        [
         "15",
         "1940",
         "54.999",
         "1",
         "1",
         "1.0",
         "0",
         "3.611",
         "0.055",
         "8"
        ],
        [
         "16",
         "1944",
         "53.774",
         "1",
         "1",
         "1.25",
         "1",
         "4.433",
         "0.0",
         "0"
        ],
        [
         "17",
         "1948",
         "52.37",
         "1",
         "1",
         "1.5",
         "1",
         "2.858",
         "0.0",
         "0"
        ],
        [
         "18",
         "1952",
         "44.595",
         "1",
         "0",
         "1.75",
         "0",
         "0.84",
         "2.316",
         "6"
        ],
        [
         "19",
         "1956",
         "57.764",
         "-1",
         "1",
         "0.0",
         "0",
         "-1.394",
         "1.93",
         "5"
        ],
        [
         "20",
         "1960",
         "49.913",
         "-1",
         "0",
         "1.0",
         "0",
         "0.417",
         "1.963",
         "5"
        ],
        [
         "21",
         "1964",
         "61.344",
         "1",
         "1",
         "0.0",
         "0",
         "5.109",
         "1.267",
         "10"
        ],
        [
         "22",
         "1968",
         "49.596",
         "1",
         "0",
         "1.0",
         "0",
         "5.07",
         "3.156",
         "7"
        ],
        [
         "23",
         "1972",
         "61.789",
         "-1",
         "1",
         "0.0",
         "0",
         "6.125",
         "4.813",
         "4"
        ],
        [
         "24",
         "1976",
         "48.948",
         "-1",
         "0",
         "1.0",
         "0",
         "4.026",
         "7.579",
         "4"
        ],
        [
         "25",
         "1980",
         "44.697",
         "1",
         "1",
         "0.0",
         "0",
         "-3.594",
         "7.926",
         "5"
        ],
        [
         "26",
         "1984",
         "59.17",
         "-1",
         "1",
         "0.0",
         "0",
         "5.568",
         "5.286",
         "8"
        ],
        [
         "27",
         "1988",
         "53.902",
         "-1",
         "0",
         "1.0",
         "0",
         "2.261",
         "3.001",
         "4"
        ],
        [
         "28",
         "1992",
         "46.545",
         "-1",
         "1",
         "1.25",
         "0",
         "2.223",
         "3.333",
         "2"
        ],
        [
         "29",
         "1996",
         "54.736",
         "1",
         "1",
         "0.0",
         "0",
         "2.712",
         "2.146",
         "4"
        ],
        [
         "30",
         "2000",
         "50.265",
         "1",
         "0",
         "1.0",
         "0",
         "1.603",
         "1.679",
         "7"
        ],
        [
         "31",
         "2004",
         "51.2",
         "-1",
         "1",
         "0.0",
         "0",
         "2.9",
         "2.0",
         "2"
        ]
       ],
       "shape": {
        "columns": 9,
        "rows": 32
       }
      },
      "text/html": [
       "<div>\n",
       "<style scoped>\n",
       "    .dataframe tbody tr th:only-of-type {\n",
       "        vertical-align: middle;\n",
       "    }\n",
       "\n",
       "    .dataframe tbody tr th {\n",
       "        vertical-align: top;\n",
       "    }\n",
       "\n",
       "    .dataframe thead th {\n",
       "        text-align: right;\n",
       "    }\n",
       "</style>\n",
       "<table border=\"1\" class=\"dataframe\">\n",
       "  <thead>\n",
       "    <tr style=\"text-align: right;\">\n",
       "      <th></th>\n",
       "      <th>YEAR</th>\n",
       "      <th>VOTE</th>\n",
       "      <th>PARTY</th>\n",
       "      <th>PERSON</th>\n",
       "      <th>DURATION</th>\n",
       "      <th>WAR</th>\n",
       "      <th>GROWTH</th>\n",
       "      <th>INFLATION</th>\n",
       "      <th>GOODNEWS</th>\n",
       "    </tr>\n",
       "  </thead>\n",
       "  <tbody>\n",
       "    <tr>\n",
       "      <th>0</th>\n",
       "      <td>1880</td>\n",
       "      <td>50.220</td>\n",
       "      <td>-1</td>\n",
       "      <td>0</td>\n",
       "      <td>1.75</td>\n",
       "      <td>0</td>\n",
       "      <td>3.879</td>\n",
       "      <td>1.974</td>\n",
       "      <td>9</td>\n",
       "    </tr>\n",
       "    <tr>\n",
       "      <th>1</th>\n",
       "      <td>1884</td>\n",
       "      <td>49.846</td>\n",
       "      <td>-1</td>\n",
       "      <td>0</td>\n",
       "      <td>2.00</td>\n",
       "      <td>0</td>\n",
       "      <td>1.589</td>\n",
       "      <td>1.055</td>\n",
       "      <td>2</td>\n",
       "    </tr>\n",
       "    <tr>\n",
       "      <th>2</th>\n",
       "      <td>1888</td>\n",
       "      <td>50.414</td>\n",
       "      <td>1</td>\n",
       "      <td>1</td>\n",
       "      <td>0.00</td>\n",
       "      <td>0</td>\n",
       "      <td>-5.553</td>\n",
       "      <td>0.604</td>\n",
       "      <td>3</td>\n",
       "    </tr>\n",
       "    <tr>\n",
       "      <th>3</th>\n",
       "      <td>1892</td>\n",
       "      <td>48.268</td>\n",
       "      <td>-1</td>\n",
       "      <td>1</td>\n",
       "      <td>0.00</td>\n",
       "      <td>0</td>\n",
       "      <td>2.763</td>\n",
       "      <td>2.274</td>\n",
       "      <td>7</td>\n",
       "    </tr>\n",
       "    <tr>\n",
       "      <th>4</th>\n",
       "      <td>1896</td>\n",
       "      <td>47.760</td>\n",
       "      <td>1</td>\n",
       "      <td>0</td>\n",
       "      <td>0.00</td>\n",
       "      <td>0</td>\n",
       "      <td>-10.024</td>\n",
       "      <td>3.410</td>\n",
       "      <td>6</td>\n",
       "    </tr>\n",
       "    <tr>\n",
       "      <th>5</th>\n",
       "      <td>1900</td>\n",
       "      <td>53.171</td>\n",
       "      <td>-1</td>\n",
       "      <td>1</td>\n",
       "      <td>0.00</td>\n",
       "      <td>0</td>\n",
       "      <td>-1.425</td>\n",
       "      <td>2.548</td>\n",
       "      <td>7</td>\n",
       "    </tr>\n",
       "    <tr>\n",
       "      <th>6</th>\n",
       "      <td>1904</td>\n",
       "      <td>60.006</td>\n",
       "      <td>-1</td>\n",
       "      <td>0</td>\n",
       "      <td>1.00</td>\n",
       "      <td>0</td>\n",
       "      <td>-2.421</td>\n",
       "      <td>1.442</td>\n",
       "      <td>5</td>\n",
       "    </tr>\n",
       "    <tr>\n",
       "      <th>7</th>\n",
       "      <td>1908</td>\n",
       "      <td>54.483</td>\n",
       "      <td>-1</td>\n",
       "      <td>0</td>\n",
       "      <td>1.25</td>\n",
       "      <td>0</td>\n",
       "      <td>-6.281</td>\n",
       "      <td>1.879</td>\n",
       "      <td>8</td>\n",
       "    </tr>\n",
       "    <tr>\n",
       "      <th>8</th>\n",
       "      <td>1912</td>\n",
       "      <td>54.708</td>\n",
       "      <td>-1</td>\n",
       "      <td>1</td>\n",
       "      <td>1.50</td>\n",
       "      <td>0</td>\n",
       "      <td>4.164</td>\n",
       "      <td>2.172</td>\n",
       "      <td>8</td>\n",
       "    </tr>\n",
       "    <tr>\n",
       "      <th>9</th>\n",
       "      <td>1916</td>\n",
       "      <td>51.682</td>\n",
       "      <td>1</td>\n",
       "      <td>1</td>\n",
       "      <td>0.00</td>\n",
       "      <td>0</td>\n",
       "      <td>2.229</td>\n",
       "      <td>4.252</td>\n",
       "      <td>3</td>\n",
       "    </tr>\n",
       "    <tr>\n",
       "      <th>10</th>\n",
       "      <td>1920</td>\n",
       "      <td>36.119</td>\n",
       "      <td>1</td>\n",
       "      <td>0</td>\n",
       "      <td>1.00</td>\n",
       "      <td>1</td>\n",
       "      <td>-11.463</td>\n",
       "      <td>0.000</td>\n",
       "      <td>0</td>\n",
       "    </tr>\n",
       "    <tr>\n",
       "      <th>11</th>\n",
       "      <td>1924</td>\n",
       "      <td>58.244</td>\n",
       "      <td>-1</td>\n",
       "      <td>1</td>\n",
       "      <td>0.00</td>\n",
       "      <td>0</td>\n",
       "      <td>-3.872</td>\n",
       "      <td>5.161</td>\n",
       "      <td>10</td>\n",
       "    </tr>\n",
       "    <tr>\n",
       "      <th>12</th>\n",
       "      <td>1928</td>\n",
       "      <td>58.820</td>\n",
       "      <td>-1</td>\n",
       "      <td>0</td>\n",
       "      <td>1.00</td>\n",
       "      <td>0</td>\n",
       "      <td>4.623</td>\n",
       "      <td>0.183</td>\n",
       "      <td>7</td>\n",
       "    </tr>\n",
       "    <tr>\n",
       "      <th>13</th>\n",
       "      <td>1932</td>\n",
       "      <td>40.841</td>\n",
       "      <td>-1</td>\n",
       "      <td>1</td>\n",
       "      <td>1.25</td>\n",
       "      <td>0</td>\n",
       "      <td>-14.557</td>\n",
       "      <td>7.160</td>\n",
       "      <td>4</td>\n",
       "    </tr>\n",
       "    <tr>\n",
       "      <th>14</th>\n",
       "      <td>1936</td>\n",
       "      <td>62.458</td>\n",
       "      <td>1</td>\n",
       "      <td>1</td>\n",
       "      <td>0.00</td>\n",
       "      <td>0</td>\n",
       "      <td>11.677</td>\n",
       "      <td>2.454</td>\n",
       "      <td>9</td>\n",
       "    </tr>\n",
       "    <tr>\n",
       "      <th>15</th>\n",
       "      <td>1940</td>\n",
       "      <td>54.999</td>\n",
       "      <td>1</td>\n",
       "      <td>1</td>\n",
       "      <td>1.00</td>\n",
       "      <td>0</td>\n",
       "      <td>3.611</td>\n",
       "      <td>0.055</td>\n",
       "      <td>8</td>\n",
       "    </tr>\n",
       "    <tr>\n",
       "      <th>16</th>\n",
       "      <td>1944</td>\n",
       "      <td>53.774</td>\n",
       "      <td>1</td>\n",
       "      <td>1</td>\n",
       "      <td>1.25</td>\n",
       "      <td>1</td>\n",
       "      <td>4.433</td>\n",
       "      <td>0.000</td>\n",
       "      <td>0</td>\n",
       "    </tr>\n",
       "    <tr>\n",
       "      <th>17</th>\n",
       "      <td>1948</td>\n",
       "      <td>52.370</td>\n",
       "      <td>1</td>\n",
       "      <td>1</td>\n",
       "      <td>1.50</td>\n",
       "      <td>1</td>\n",
       "      <td>2.858</td>\n",
       "      <td>0.000</td>\n",
       "      <td>0</td>\n",
       "    </tr>\n",
       "    <tr>\n",
       "      <th>18</th>\n",
       "      <td>1952</td>\n",
       "      <td>44.595</td>\n",
       "      <td>1</td>\n",
       "      <td>0</td>\n",
       "      <td>1.75</td>\n",
       "      <td>0</td>\n",
       "      <td>0.840</td>\n",
       "      <td>2.316</td>\n",
       "      <td>6</td>\n",
       "    </tr>\n",
       "    <tr>\n",
       "      <th>19</th>\n",
       "      <td>1956</td>\n",
       "      <td>57.764</td>\n",
       "      <td>-1</td>\n",
       "      <td>1</td>\n",
       "      <td>0.00</td>\n",
       "      <td>0</td>\n",
       "      <td>-1.394</td>\n",
       "      <td>1.930</td>\n",
       "      <td>5</td>\n",
       "    </tr>\n",
       "    <tr>\n",
       "      <th>20</th>\n",
       "      <td>1960</td>\n",
       "      <td>49.913</td>\n",
       "      <td>-1</td>\n",
       "      <td>0</td>\n",
       "      <td>1.00</td>\n",
       "      <td>0</td>\n",
       "      <td>0.417</td>\n",
       "      <td>1.963</td>\n",
       "      <td>5</td>\n",
       "    </tr>\n",
       "    <tr>\n",
       "      <th>21</th>\n",
       "      <td>1964</td>\n",
       "      <td>61.344</td>\n",
       "      <td>1</td>\n",
       "      <td>1</td>\n",
       "      <td>0.00</td>\n",
       "      <td>0</td>\n",
       "      <td>5.109</td>\n",
       "      <td>1.267</td>\n",
       "      <td>10</td>\n",
       "    </tr>\n",
       "    <tr>\n",
       "      <th>22</th>\n",
       "      <td>1968</td>\n",
       "      <td>49.596</td>\n",
       "      <td>1</td>\n",
       "      <td>0</td>\n",
       "      <td>1.00</td>\n",
       "      <td>0</td>\n",
       "      <td>5.070</td>\n",
       "      <td>3.156</td>\n",
       "      <td>7</td>\n",
       "    </tr>\n",
       "    <tr>\n",
       "      <th>23</th>\n",
       "      <td>1972</td>\n",
       "      <td>61.789</td>\n",
       "      <td>-1</td>\n",
       "      <td>1</td>\n",
       "      <td>0.00</td>\n",
       "      <td>0</td>\n",
       "      <td>6.125</td>\n",
       "      <td>4.813</td>\n",
       "      <td>4</td>\n",
       "    </tr>\n",
       "    <tr>\n",
       "      <th>24</th>\n",
       "      <td>1976</td>\n",
       "      <td>48.948</td>\n",
       "      <td>-1</td>\n",
       "      <td>0</td>\n",
       "      <td>1.00</td>\n",
       "      <td>0</td>\n",
       "      <td>4.026</td>\n",
       "      <td>7.579</td>\n",
       "      <td>4</td>\n",
       "    </tr>\n",
       "    <tr>\n",
       "      <th>25</th>\n",
       "      <td>1980</td>\n",
       "      <td>44.697</td>\n",
       "      <td>1</td>\n",
       "      <td>1</td>\n",
       "      <td>0.00</td>\n",
       "      <td>0</td>\n",
       "      <td>-3.594</td>\n",
       "      <td>7.926</td>\n",
       "      <td>5</td>\n",
       "    </tr>\n",
       "    <tr>\n",
       "      <th>26</th>\n",
       "      <td>1984</td>\n",
       "      <td>59.170</td>\n",
       "      <td>-1</td>\n",
       "      <td>1</td>\n",
       "      <td>0.00</td>\n",
       "      <td>0</td>\n",
       "      <td>5.568</td>\n",
       "      <td>5.286</td>\n",
       "      <td>8</td>\n",
       "    </tr>\n",
       "    <tr>\n",
       "      <th>27</th>\n",
       "      <td>1988</td>\n",
       "      <td>53.902</td>\n",
       "      <td>-1</td>\n",
       "      <td>0</td>\n",
       "      <td>1.00</td>\n",
       "      <td>0</td>\n",
       "      <td>2.261</td>\n",
       "      <td>3.001</td>\n",
       "      <td>4</td>\n",
       "    </tr>\n",
       "    <tr>\n",
       "      <th>28</th>\n",
       "      <td>1992</td>\n",
       "      <td>46.545</td>\n",
       "      <td>-1</td>\n",
       "      <td>1</td>\n",
       "      <td>1.25</td>\n",
       "      <td>0</td>\n",
       "      <td>2.223</td>\n",
       "      <td>3.333</td>\n",
       "      <td>2</td>\n",
       "    </tr>\n",
       "    <tr>\n",
       "      <th>29</th>\n",
       "      <td>1996</td>\n",
       "      <td>54.736</td>\n",
       "      <td>1</td>\n",
       "      <td>1</td>\n",
       "      <td>0.00</td>\n",
       "      <td>0</td>\n",
       "      <td>2.712</td>\n",
       "      <td>2.146</td>\n",
       "      <td>4</td>\n",
       "    </tr>\n",
       "    <tr>\n",
       "      <th>30</th>\n",
       "      <td>2000</td>\n",
       "      <td>50.265</td>\n",
       "      <td>1</td>\n",
       "      <td>0</td>\n",
       "      <td>1.00</td>\n",
       "      <td>0</td>\n",
       "      <td>1.603</td>\n",
       "      <td>1.679</td>\n",
       "      <td>7</td>\n",
       "    </tr>\n",
       "    <tr>\n",
       "      <th>31</th>\n",
       "      <td>2004</td>\n",
       "      <td>51.200</td>\n",
       "      <td>-1</td>\n",
       "      <td>1</td>\n",
       "      <td>0.00</td>\n",
       "      <td>0</td>\n",
       "      <td>2.900</td>\n",
       "      <td>2.000</td>\n",
       "      <td>2</td>\n",
       "    </tr>\n",
       "  </tbody>\n",
       "</table>\n",
       "</div>"
      ],
      "text/plain": [
       "    YEAR    VOTE  PARTY  PERSON  DURATION  WAR  GROWTH  INFLATION  GOODNEWS\n",
       "0   1880  50.220     -1       0      1.75    0   3.879      1.974         9\n",
       "1   1884  49.846     -1       0      2.00    0   1.589      1.055         2\n",
       "2   1888  50.414      1       1      0.00    0  -5.553      0.604         3\n",
       "3   1892  48.268     -1       1      0.00    0   2.763      2.274         7\n",
       "4   1896  47.760      1       0      0.00    0 -10.024      3.410         6\n",
       "5   1900  53.171     -1       1      0.00    0  -1.425      2.548         7\n",
       "6   1904  60.006     -1       0      1.00    0  -2.421      1.442         5\n",
       "7   1908  54.483     -1       0      1.25    0  -6.281      1.879         8\n",
       "8   1912  54.708     -1       1      1.50    0   4.164      2.172         8\n",
       "9   1916  51.682      1       1      0.00    0   2.229      4.252         3\n",
       "10  1920  36.119      1       0      1.00    1 -11.463      0.000         0\n",
       "11  1924  58.244     -1       1      0.00    0  -3.872      5.161        10\n",
       "12  1928  58.820     -1       0      1.00    0   4.623      0.183         7\n",
       "13  1932  40.841     -1       1      1.25    0 -14.557      7.160         4\n",
       "14  1936  62.458      1       1      0.00    0  11.677      2.454         9\n",
       "15  1940  54.999      1       1      1.00    0   3.611      0.055         8\n",
       "16  1944  53.774      1       1      1.25    1   4.433      0.000         0\n",
       "17  1948  52.370      1       1      1.50    1   2.858      0.000         0\n",
       "18  1952  44.595      1       0      1.75    0   0.840      2.316         6\n",
       "19  1956  57.764     -1       1      0.00    0  -1.394      1.930         5\n",
       "20  1960  49.913     -1       0      1.00    0   0.417      1.963         5\n",
       "21  1964  61.344      1       1      0.00    0   5.109      1.267        10\n",
       "22  1968  49.596      1       0      1.00    0   5.070      3.156         7\n",
       "23  1972  61.789     -1       1      0.00    0   6.125      4.813         4\n",
       "24  1976  48.948     -1       0      1.00    0   4.026      7.579         4\n",
       "25  1980  44.697      1       1      0.00    0  -3.594      7.926         5\n",
       "26  1984  59.170     -1       1      0.00    0   5.568      5.286         8\n",
       "27  1988  53.902     -1       0      1.00    0   2.261      3.001         4\n",
       "28  1992  46.545     -1       1      1.25    0   2.223      3.333         2\n",
       "29  1996  54.736      1       1      0.00    0   2.712      2.146         4\n",
       "30  2000  50.265      1       0      1.00    0   1.603      1.679         7\n",
       "31  2004  51.200     -1       1      0.00    0   2.900      2.000         2"
      ]
     },
     "execution_count": 3,
     "metadata": {},
     "output_type": "execute_result"
    }
   ],
   "source": [
    "fair_df = pd.read_csv('https://cal-icor.github.io/textbook.data/ucb/pols-3/fair.csv')\n",
    "fair_df"
   ]
  },
  {
   "cell_type": "markdown",
   "metadata": {},
   "source": [
    "Now we can plot these variables:\n",
    "*Review*: Why is GDP growth our independent variable (represented on the x-axis)?"
   ]
  },
  {
   "cell_type": "code",
   "execution_count": 34,
   "metadata": {},
   "outputs": [
    {
     "data": {
      "image/png": "[encoded data removed]",
      "text/plain": [
       "<Figure size 640x480 with 1 Axes>"
      ]
     },
     "metadata": {},
     "output_type": "display_data"
    }
   ],
   "source": [
    "plot = sns.scatterplot(data=fair_df, x='GROWTH', y='VOTE', color='black')\n",
    "plot.set_xlabel('GDP Growth per Capita')\n",
    "plot.set_ylabel('Incumbent Vote Share')\n",
    "plot;"
   ]
  },
  {
   "cell_type": "markdown",
   "metadata": {},
   "source": [
    "Above, it appears that as GROWTH increases (as we move further to the right on the x-axis), VOTE also increases. If we wanted to use this data to make future predictions, we could use a linear model to represent the variables' relationship. Below, you can change the slope and intercept of the line to best fit the data:"
   ]
  },
  {
   "cell_type": "code",
   "execution_count": 35,
   "metadata": {
    "scrolled": false
   },
   "outputs": [
    {
     "data": {
      "application/vnd.jupyter.widget-view+json": {
       "model_id": "2dc3049f3c304fe191023782f2ebf6f7",
       "version_major": 2,
       "version_minor": 0
      },
      "text/plain": [
       "interactive(children=(FloatSlider(value=1.5, description='slope', max=3.0), IntSlider(value=50, description='i…"
      ]
     },
     "metadata": {},
     "output_type": "display_data"
    },
    {
     "data": {
      "image/png": "[encoded data removed]",
      "text/plain": [
       "<Figure size 640x480 with 1 Axes>"
      ]
     },
     "metadata": {},
     "output_type": "display_data"
    }
   ],
   "source": [
    "def draw_line(slope, intercept):\n",
    "    #The Linear Model\n",
    "    def f(x):\n",
    "        return intercept*(slope-1)/30*x +intercept\n",
    "    x = np.arange(-15,15)\n",
    "    y_pred = f(x)\n",
    "    #The line\n",
    "    plt.plot(x,y_pred)\n",
    "    #The actual data\n",
    "    sns.scatterplot(data=fair_df, x='GROWTH', y='VOTE', color='black')\n",
    "    plt.xlabel('GDP Growth per Capita')\n",
    "    plt.ylabel('Incumbent Vote Share')\n",
    "    display(Markdown(rf'$\\hat y$= {slope}$X$ + {intercept}:'))\n",
    "    \n",
    "interact(draw_line, slope=(0.0,3), intercept=(30,70));"
   ]
  },
  {
   "cell_type": "markdown",
   "metadata": {},
   "source": [
    "### What line is best?\n",
    "When we are evaulating how \"good\" a line is, we must address the *residuals*, the difference between the real and predicted values of y: $u_i = Y_i - \\hat{Y_i}$. Because every real y value has an associated residual, we need some way to aggregate the residuals if we are to measure the overall quality of a line\n",
    "\n",
    "#### Absolute value\n",
    "One measurement of loss is calculated by adding the absolute value of the residuals together:\n",
    "$$\\sum_{i=1}^n |u_i| = \\sum_{i=1}^n |Y_i - \\hat{Y_i}|$$\n",
    "\n",
    "#### Squared error:\n",
    "Another measurement is the *squared error*, calculated by adding the squared values of the residuals:\n",
    "$$\\sum_{i=1}^n |u_i^2| = \\sum_{i=1}^n (Y_i-\\hat{Y_i})^2$$\n",
    "\n",
    "For either measurement, we want the line that results in the smallest value (indicating that the total difference between the predicted and actual values is small). Below, try to minimize either the absolute or squared loss:"
   ]
  },
  {
   "cell_type": "code",
   "execution_count": 37,
   "metadata": {},
   "outputs": [
    {
     "data": {
      "application/vnd.jupyter.widget-view+json": {
       "model_id": "010bb9191f8846c5bcc64ebced2b5a11",
       "version_major": 2,
       "version_minor": 0
      },
      "text/plain": [
       "interactive(children=(FloatSlider(value=1.5, description='slope', max=3.0), IntSlider(value=50, description='i…"
      ]
     },
     "metadata": {},
     "output_type": "display_data"
    },
    {
     "data": {
      "image/png": "[encoded data removed]",
      "text/plain": [
       "<Figure size 640x480 with 1 Axes>"
      ]
     },
     "metadata": {},
     "output_type": "display_data"
    }
   ],
   "source": [
    "def draw_line(slope, intercept):\n",
    "    #The Linear Model\n",
    "    def f(x):\n",
    "        return intercept*(slope-1)/30*x +intercept\n",
    "    x = np.arange(-15,15)\n",
    "    y_pred = f(x)\n",
    "    points = zip(fair_df.GROWTH, fair_df.VOTE)\n",
    "    display(Markdown(rf'$\\hat y$= {slope}$X$ + {intercept}:'))\n",
    "    #The line\n",
    "    plt.plot(x,y_pred)\n",
    "    #The Data\n",
    "    sns.scatterplot(data=fair_df, x='GROWTH', y='VOTE', color='black')\n",
    "    plt.xlabel('GDP Growth per Capita')\n",
    "    plt.ylabel('Incumbent Vote Share')\n",
    "    #Print the loss\n",
    "    print(\"Square Residual Sum:\", sum([(y-f(x))**2 for x,y in points]))\n",
    "    print(\"Absolute Residual Sum:\", sum([abs(y-f(x))for x, y in points]))\n",
    "    \n",
    "interact(draw_line, slope=(0.0,3), intercept=(30,70), continuous_update=False);"
   ]
  },
  {
   "cell_type": "markdown",
   "metadata": {},
   "source": [
    "What's the smallest squared error/absolute error you can produce?"
   ]
  },
  {
   "cell_type": "markdown",
   "metadata": {},
   "source": [
    "## Ordinary Least Squares\n",
    "Statisticians prefer to use the line that minimizes the squared residuals. To find the slope ($\\beta$) and y-intercept ($\\alpha$), the following equations are used:\n",
    "$$\\beta = \\frac{\\sum_{i=1}^n (X_i - \\overline{X})(Y_i - \\overline{Y})}{\\sum_{i=1}^n (X_i - \\overline{X})^2}$$\n",
    "$$\\alpha = \\overline{Y}-\\beta\\overline{X}$$\n",
    "*Reminder*: $\\overline{X}$ represents the mean value of X."
   ]
  },
  {
   "cell_type": "markdown",
   "metadata": {},
   "source": [
    "### Using Python:\n",
    "To calculate the slope and y-intercept for the linear model of X and Y, use <code>stats.linregress(X, Y)</code>. This returns a LinregressResult which holds the slope, intercept, the associated r and p values, and standard error (we'll cover what those mean next). To access the slope and intercept, you can index into the LinregressResult, as shown below:"
   ]
  },
  {
   "cell_type": "code",
   "execution_count": 38,
   "metadata": {},
   "outputs": [
    {
     "data": {
      "text/plain": [
       "(0.653586912630961, 51.85976616886776)"
      ]
     },
     "execution_count": 38,
     "metadata": {},
     "output_type": "execute_result"
    }
   ],
   "source": [
    "gdp_vote_result = stats.linregress(fair_df.GROWTH, fair_df.VOTE)\n",
    "slope = gdp_vote_result[0]\n",
    "intercept = gdp_vote_result[1]\n",
    "slope, intercept"
   ]
  },
  {
   "cell_type": "markdown",
   "metadata": {},
   "source": [
    "Now that we have the slope and intercept, we can plot the line of best fit alongside the original data:"
   ]
  },
  {
   "cell_type": "code",
   "execution_count": 39,
   "metadata": {
    "scrolled": true
   },
   "outputs": [
    {
     "data": {
      "text/plain": [
       "<matplotlib.legend.Legend at 0x14f1aa990>"
      ]
     },
     "execution_count": 39,
     "metadata": {},
     "output_type": "execute_result"
    },
    {
     "data": {
      "image/png": "[encoded data removed]",
      "text/plain": [
       "<Figure size 640x480 with 1 Axes>"
      ]
     },
     "metadata": {},
     "output_type": "display_data"
    }
   ],
   "source": [
    "sns.scatterplot(data=fair_df, x='GROWTH', y='VOTE', color='black')\n",
    "plt.plot(fair_df.GROWTH, fair_df.GROWTH*slope +intercept, label='OLS model')\n",
    "plt.xlabel('GDP Growth per Capita')\n",
    "plt.ylabel('Incumbent Vote Share')\n",
    "plt.legend()"
   ]
  },
  {
   "cell_type": "markdown",
   "metadata": {},
   "source": [
    "## Goodness of Fit\n",
    "Now that we have our linear model, we want to evaulate how well it tracks the relationship between the independent and dependent variables (X and Y). Below, which models are fit well by a linear model?"
   ]
  },
  {
   "cell_type": "code",
   "execution_count": 42,
   "metadata": {},
   "outputs": [],
   "source": [
    "#A Generic Plotting function for some f(x)\n",
    "def plot_func(f, label):\n",
    "    x = np.random.randint(1,25, size=50)\n",
    "    y = f(x)\n",
    "    sns.scatterplot(x=x, y=y, label=label)\n",
    "    result = stats.linregress(x, y)\n",
    "    slope = result[0]\n",
    "    intercept = result[1]\n",
    "    plt.plot(x, x * slope + intercept, label='OLS model')\n",
    "    plt.legend()"
   ]
  },
  {
   "cell_type": "code",
   "execution_count": 43,
   "metadata": {},
   "outputs": [
    {
     "data": {
      "image/png": "[encoded data removed]",
      "text/plain": [
       "<Figure size 640x480 with 1 Axes>"
      ]
     },
     "metadata": {},
     "output_type": "display_data"
    }
   ],
   "source": [
    "def f(x):\n",
    "    return 2*x\n",
    "plot_func(f, 'linear')"
   ]
  },
  {
   "cell_type": "code",
   "execution_count": 44,
   "metadata": {},
   "outputs": [
    {
     "data": {
      "image/png": "[encoded data removed]",
      "text/plain": [
       "<Figure size 640x480 with 1 Axes>"
      ]
     },
     "metadata": {},
     "output_type": "display_data"
    }
   ],
   "source": [
    "def f(x): \n",
    "    return 4*x**2 + np.random.random(50)\n",
    "plot_func(f, 'quadratic')"
   ]
  },
  {
   "cell_type": "code",
   "execution_count": 45,
   "metadata": {},
   "outputs": [
    {
     "data": {
      "image/png": "[encoded data removed]",
      "text/plain": [
       "<Figure size 640x480 with 1 Axes>"
      ]
     },
     "metadata": {},
     "output_type": "display_data"
    }
   ],
   "source": [
    "def f(x):\n",
    "    return  8*np.log(x) + np.random.random(50)\n",
    "plot_func(f, 'logarithmic')"
   ]
  },
  {
   "cell_type": "markdown",
   "metadata": {},
   "source": [
    "As we can see, linear models can better represent some relationships than others! We need some measure to quantify if a linear model is appropriate."
   ]
  },
  {
   "cell_type": "markdown",
   "metadata": {},
   "source": [
    "## $R^2$  Statistic\n",
    "In order to determine if our linear model is a good fit, we need to understand how much of the variance in the values of Y can be captured in our model. In the 3 plots above, a linear model had differing abilities to represent that variation.  \n",
    "*Review*: Which functions variation was best captured by a linear model?  \n",
    "\n",
    "We need a measurement that compares the overall variation in Y values with the variation that is not represented by our OLS model. This second kind is the *residual variation* because it is the difference between true values of Y and those predicted by our model. The $R^2$ statistic is a value between 0 and 1 that represents the proportion of variation in our Y value that can be accounted for by our model:\n",
    "$$R^2 = 1-\\frac{residual-variation}{total-variation}$$\n",
    "The residual variation, or Residual Sum of Squares (RSS), is calculated by adding all squared residuals between the predicted and true values of Y:\n",
    "$$RSS = \\sum_{i=1}^n u_i^2 = \\sum_{i=1}^n (Y_i - \\hat{Y_i})^2$$\n",
    "The total variation, or Total Sum of Squares (TSS), is calculated by adding the squared differences between each value of Y and the mean value of Y:\n",
    "$$TSS = \\sum_{i=1}^n (Y_i - \\overline{Y})^2$$\n",
    "Therefore, the $R^2$ statistic can be found thus:\n",
    "$$R^2 = 1 - \\frac{RSS}{TSS} = 1 - \\frac{\\sum_{i=1}^n (Y_i - \\hat{Y_i})^2}{\\sum_{i=1}^n (Y_i - \\overline{Y})^2}$$\n",
    "\n",
    "There is another formula for calculating $R^2$ using the Model Sum of Squares (MSS). The Model Sum of Squares is the total squared difference between predicted values of Y and the average value of Y:\n",
    "$$MSS = \\sum_{i=1}^n (\\hat{Y_i} - \\overline{Y})^2$$\n",
    "The formula for $R^2$ using MSS is:\n",
    "$$R^2 = \\frac{MSS}{TSS} = \\frac{\\sum_{i=1}^n (\\hat{Y_i}-\\overline{Y})^2}{\\sum_{i=1}^n (Y_i - \\overline{Y})^2}$$"
   ]
  },
  {
   "cell_type": "markdown",
   "metadata": {},
   "source": [
    "### Using Python\n",
    "There are 2 ways to calculate the $R^2$ value using Python. We will show both and demonstrate that they return the same result:  \n",
    "1) Write functions calculating the RSS and TSS, and then use those to calculate the $R^2$ statistic (we have done this below  \n",
    "2) Run <code>stats.linregres(X, Y)</code> and square the third value that it returns"
   ]
  },
  {
   "cell_type": "code",
   "execution_count": 46,
   "metadata": {},
   "outputs": [
    {
     "data": {
      "text/plain": [
       "0.3555386329767629"
      ]
     },
     "execution_count": 46,
     "metadata": {},
     "output_type": "execute_result"
    }
   ],
   "source": [
    "#Method 1:\n",
    "def rss(y, y_pred):\n",
    "    \"\"\"Return the Residual Sum of Squares between y and y_pred, the predicted values of y\"\"\"\n",
    "    return sum((y - y_pred)**2)\n",
    "def tss(y):\n",
    "    \"\"\"Return the Total Sum of Squares for y\"\"\"\n",
    "    avg = np.mean(y)\n",
    "    return sum((y - avg)**2)\n",
    "\n",
    "def mss(y, y_pred):\n",
    "    \"\"\"Return the Model Sum of Squares for y and y_pred, the predicted values of y\"\"\"\n",
    "    avg = np.mean(y)\n",
    "    return sum((y_pred-avg)**2)\n",
    "\n",
    "def r2(y, y_pred):\n",
    "    \"\"\"Return the R-squared statistic for y and the predicted values of y\"\"\"\n",
    "    return 1 - (rss(y, y_pred) / tss(y))\n",
    "\n",
    "predicted_y = fair_df.GROWTH*slope + intercept\n",
    "r2(fair_df.VOTE, predicted_y)"
   ]
  },
  {
   "cell_type": "code",
   "execution_count": 47,
   "metadata": {},
   "outputs": [
    {
     "data": {
      "text/plain": [
       "0.35553863297676314"
      ]
     },
     "execution_count": 47,
     "metadata": {},
     "output_type": "execute_result"
    }
   ],
   "source": [
    "#Method 2:\n",
    "gdp_vote_result[2]**2"
   ]
  },
  {
   "cell_type": "markdown",
   "metadata": {},
   "source": [
    "As we can see, the two results are the same! Why would this be the case?  \n",
    "\n",
    "Looking back to Lecture I, we recall that the correlation coefficient, r, is a function of the mutual variation for X and Y. While we can prove more rigorously that Pearson's r is the square root of $R^2$, that is outside the scope of this notebook. For a formal proof, follow [this link](https://economictheoryblog.com/2014/11/05/proof/)."
   ]
  },
  {
   "cell_type": "markdown",
   "metadata": {},
   "source": [
    "## Extrapolating to the Population\n",
    "Once we have produced slope and intercept values for our model, we wish to know the potential applicability to the population at large. To do this, we return to the methods in Lecture I: finding variance and standard error values for the sample model. \n",
    "\n",
    "To start, we must find the *variance of residuals*, or $\\hat{\\sigma}^2$. This statistic is a measurement of the general difference between predicted and actual values of Y:\n",
    "$$\\hat{\\sigma}^2 = \\frac{\\sum_{i=1}^n u_i^2}{n-2}$$\n",
    "\n",
    "From the formula above, we can see that $\\hat{\\sigma}^2$ increases as the size of the residuals increase and decreases as our sample size, n, increases. We can then calculate the variance and standard error for the estimate of the slope value using the formula below:\n",
    "$$var(\\beta) = \\frac{\\hat{\\sigma}^2}{\\sum_{i=1}^n (X_i-\\overline{X})^2}$$  \n",
    "\n",
    "$$se(\\beta) = \\sqrt{var(\\beta)}$$"
   ]
  },
  {
   "cell_type": "markdown",
   "metadata": {},
   "source": [
    "### The Null Hypothesis\n",
    "To calculate the t-statistic for a parameter (such as the slope of our model), we use the following formula:\n",
    "$$t_\\beta = \\frac{\\beta-\\beta_0}{se(\\beta)}$$\n",
    "Above, $\\beta_0$ is the value for our slope that we would expect under the null hypothesis.\n",
    "\n",
    "*Review*: What is our null hypothesis for the value of the slope parameter?\n",
    "\n",
    "Once we have calculated the t-statistic, we can use an online table (or in the appendix of your textbook) to find the p-value for whether there is a statistically significant relationship between X and Y."
   ]
  },
  {
   "cell_type": "markdown",
   "metadata": {},
   "source": [
    "### Using Python\n",
    "To find the p-value for the slope of our model, we use <code>stats.linregress(X, Y)</code>. As we saw earlier, this returns the standard error as well, so we can find that using the same function. To access either value, index into the fourth value of the result for the p value, and the fifth value for the standard error."
   ]
  },
  {
   "cell_type": "code",
   "execution_count": 48,
   "metadata": {},
   "outputs": [
    {
     "data": {
      "text/plain": [
       "LinregressResult(slope=0.653586912630961, intercept=51.85976616886776, rvalue=0.5962706038173969, pvalue=0.00031645087038378834, stderr=0.16065630156660635, intercept_stderr=0.8816524059413192)"
      ]
     },
     "execution_count": 48,
     "metadata": {},
     "output_type": "execute_result"
    }
   ],
   "source": [
    "gdp_vote_result = stats.linregress(fair_df.GROWTH, fair_df.VOTE)\n",
    "gdp_vote_result"
   ]
  },
  {
   "cell_type": "markdown",
   "metadata": {},
   "source": [
    "### Interactive Visual\n",
    "Below, we plot the relationship between two random variables. What happens to the results of the OLS model as you change the covariance? When you change the randomness of Y?"
   ]
  },
  {
   "cell_type": "code",
   "execution_count": 51,
   "metadata": {},
   "outputs": [
    {
     "data": {
      "application/vnd.jupyter.widget-view+json": {
       "model_id": "255d4d3e2a474629be0cba2769d25ad1",
       "version_major": 2,
       "version_minor": 0
      },
      "text/plain": [
       "interactive(children=(FloatSlider(value=0.0, description='covariance', max=1.0, min=-1.0), IntSlider(value=5, …"
      ]
     },
     "metadata": {},
     "output_type": "display_data"
    },
    {
     "data": {
      "image/png": "[encoded data removed]",
      "text/plain": [
       "<Figure size 640x480 with 1 Axes>"
      ]
     },
     "metadata": {},
     "output_type": "display_data"
    }
   ],
   "source": [
    "def cloud(covariance, rand_factor):\n",
    "    X,Y = list(zip(*np.random.multivariate_normal([5,5], [[1,covariance],[covariance,1]], size=1000).tolist()))\n",
    "    Y = Y+np.random.random(1000)*rand_factor\n",
    "    sns.scatterplot(x=X, y=Y)\n",
    "    print(stats.linregress(X,Y))\n",
    "    print(\"R-value:\",stats.pearsonr(X,Y)[0])\n",
    "\n",
    "interact(cloud, covariance=(-1.0,1.0), rand_factor=(0,10), continuous_update=False);"
   ]
  }
 ],
 "metadata": {
  "kernelspec": {
   "display_name": "Python 3",
   "language": "python",
   "name": "python3"
  },
  "language_info": {
   "codemirror_mode": {
    "name": "ipython",
    "version": 3
   },
   "file_extension": ".py",
   "mimetype": "text/x-python",
   "name": "python",
   "nbconvert_exporter": "python",
   "pygments_lexer": "ipython3",
   "version": "3.12.7"
  }
 },
 "nbformat": 4,
 "nbformat_minor": 2
}
