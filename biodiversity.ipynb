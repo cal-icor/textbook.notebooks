{
 "cells": [
  {
   "cell_type": "markdown",
   "metadata": {},
   "source": [
    "# Biodiversity"
   ]
  },
  {
   "cell_type": "markdown",
   "metadata": {},
   "source": [
    "Run the cell below to setup the notebook (_shift+return in cell to run_ or Press Run button in the menu)\n",
    "Do you see a number in the left margin of the cell below? If so, click on _Kernel->Restart and Clear Output_"
   ]
  },
  {
   "cell_type": "code",
   "execution_count": null,
   "metadata": {},
   "outputs": [],
   "source": [
    "%%capture\n",
    "!pip install --no-cache-dir shapely\n",
    "!pip install -U folium\n",
    "\n",
    "%matplotlib inline\n",
    "import os, time, folium, requests, json, random\n",
    "import matplotlib.pyplot as plot, matplotlib as mpl\n",
    "import numpy as np, pandas as pd\n",
    "import ipywidgets as widgets\n",
    "\n",
    "from matplotlib.collections import PatchCollection\n",
    "from datetime import datetime\n",
    "from shapely.geometry import Point, mapping\n",
    "from shapely.geometry.polygon import Polygon\n",
    "\n",
    "from datascience import *\n",
    "from shapely import geometry as sg, wkt\n",
    "from IPython.core.display import display, HTML\n",
    "\n",
    "import httpimport\n",
    "with httpimport.remote_repo(url='https://cal-icor.github.io/textbook.data/ucb/espm-105'):\n",
    "    from espm_module import *"
   ]
  },
  {
   "cell_type": "markdown",
   "metadata": {},
   "source": [
    "## Natural History Museums and Data Science\n",
    "\n",
    "The goal of this notebook is to demonstrate how to access and integrate diverse data sets to visualize correlations and  patterns of species’ responses to environmental change. We will use programmatic tools (python) to show how to use Berkeley resources such as the biodiversity data from biocollections and online databases, field stations, climate models, and other environmental data. (Specifically we use data from the Berkeley Ecoengine, Cal-Adapt, and museum data via the GBIF API.)\n",
    "\n",
    "Before we begin analyzing and visualizing biodiversity data, this introductory notebook will help familiarize you with the basics of programming in Python.\n",
    "\n",
    "## Table of Contents\n",
    "\n",
    "0 - [Jupyter Notebooks](#jupyter)\n",
    "    \n",
    "1 - [Python Basics](#basics)\n",
    "\n",
    "2 - [GBIF API](#gbif)\n",
    "\n",
    "3 - [Comparing California Oak Species](#oak)\n",
    "\n",
    "4 - [Cal-Adapt API](#adapt)"
   ]
  },
  {
   "cell_type": "markdown",
   "metadata": {},
   "source": [
    "## Part 0: Our Computing Environment, Jupyter notebooks  <a id='jupyter'></a>\n",
    "This webpage is called a Jupyter notebook. A notebook is a place to write programs and view their results. \n",
    "\n",
    "### Text cells\n",
    "In a notebook, each rectangle containing text or code is called a *cell*.\n",
    "\n",
    "Text cells (like this one) can be edited by double-clicking on them. They're written in a simple format called [Markdown](http://daringfireball.net/projects/markdown/syntax) to add formatting and section headings.  You don't need to learn Markdown, but you might want to.\n",
    "\n",
    "After you edit a text cell, click the \"run cell\" button at the top that looks like ▶| to confirm any changes. (Try not to delete the instructions of the lab.)"
   ]
  },
  {
   "cell_type": "markdown",
   "metadata": {},
   "source": [
    "### Code cells\n",
    "Other cells contain code in the Python 3 language. Running a code cell will execute all of the code it contains.\n",
    "\n",
    "To run the code in a code cell, first click on that cell to activate it.  It'll be highlighted with a little green or blue rectangle.  Next, either press ▶| or hold down the `shift` key and press `return` or `enter`.\n",
    "\n",
    "Try running this cell:"
   ]
  },
  {
   "cell_type": "code",
   "execution_count": 3,
   "metadata": {},
   "outputs": [
    {
     "name": "stdout",
     "output_type": "stream",
     "text": [
      "Hello, World!\n"
     ]
    }
   ],
   "source": [
    "print(\"Hello, World!\")"
   ]
  },
  {
   "cell_type": "markdown",
   "metadata": {},
   "source": [
    "And this one:"
   ]
  },
  {
   "cell_type": "code",
   "execution_count": 4,
   "metadata": {},
   "outputs": [
    {
     "name": "stdout",
     "output_type": "stream",
     "text": [
      "👋, 🌏!\n",
      "😀\n"
     ]
    }
   ],
   "source": [
    "print(\"\\N{WAVING HAND SIGN}, \\N{EARTH GLOBE ASIA-AUSTRALIA}!\")\n",
    "print(\"\\N{grinning face}\")"
   ]
  },
  {
   "cell_type": "markdown",
   "metadata": {},
   "source": [
    "## Part 1: Python basics <a id='basics'></a>\n",
    "Before getting into the more high level analyses we will do on the GBIF and Cal-Adapt data, we need to cover a few of the foundational elements of programming in Python.\n",
    "\n",
    "#### A. Expressions\n",
    "The departure point for all programming is the concept of the __expression__. An expression is a combination of variables, operators, and other Python elements that the language interprets and acts upon. Expressions act as a set of instructions to be fed through the interpreter, with the goal of generating specific outcomes. See below for some examples of basic expressions. Keep in mind that most of these just map to your understanding of mathematical expressions:"
   ]
  },
  {
   "cell_type": "code",
   "execution_count": 5,
   "metadata": {},
   "outputs": [
    {
     "data": {
      "text/plain": [
       "'you and me'"
      ]
     },
     "execution_count": 5,
     "metadata": {},
     "output_type": "execute_result"
    }
   ],
   "source": [
    "'you' + ' and me'\n"
   ]
  },
  {
   "cell_type": "markdown",
   "metadata": {},
   "source": [
    "You will notice that only the last line in a cell gets printed out. If you want to see the values of previous expressions, you need to call the `print` function on that expression. Functions use parenthesis around their parameters, just like in math!"
   ]
  },
  {
   "cell_type": "code",
   "execution_count": 6,
   "metadata": {},
   "outputs": [
    {
     "name": "stdout",
     "output_type": "stream",
     "text": [
      "4\n",
      "you and I\n",
      "144\n",
      "10\n"
     ]
    }
   ],
   "source": [
    "print(2 + 2)\n",
    "\n",
    "print('you' + ' and I')\n",
    "\n",
    "print(12 ** 2)\n",
    "\n",
    "print(6 + 4)"
   ]
  },
  {
   "cell_type": "markdown",
   "metadata": {},
   "source": [
    "#### B. Variables\n",
    "In the example below, `a` and `b` are Python objects known as __variables__. We are giving an object (in this case, an `integer` and a `float`, two Python data types) a name that we can store for later use. To use that value, we can simply type the name that we stored the value as. Variables are stored within the notebook's environment, meaning stored variable values carry over from cell to cell."
   ]
  },
  {
   "cell_type": "code",
   "execution_count": 7,
   "metadata": {},
   "outputs": [],
   "source": [
    "a = 4\n",
    "b = 10/5"
   ]
  },
  {
   "cell_type": "markdown",
   "metadata": {},
   "source": [
    "Notice that when you create a variable, unlike what you previously saw with the expressions, it does not print anything out.\n",
    "\n",
    "We can continue to perform mathematical operations on these variables, which are now placeholders for what we've assigned:"
   ]
  },
  {
   "cell_type": "code",
   "execution_count": 8,
   "metadata": {},
   "outputs": [
    {
     "name": "stdout",
     "output_type": "stream",
     "text": [
      "a + b\n"
     ]
    }
   ],
   "source": [
    "print('a + b')"
   ]
  },
  {
   "cell_type": "markdown",
   "metadata": {},
   "source": [
    "#### C. Lists\n",
    "The following few cells will introduce the concept of __lists__.\n",
    "\n",
    "A list is an ordered collection of objects. They allow us to store and access groups of variables and other objects for easy access and analysis. Check out this [documentation](https://www.tutorialspoint.com/python/python_lists.htm) for an in-depth look at the capabilities of lists.\n",
    "\n",
    "To initialize a list, you use brackets. Putting objects separated by commas in between the brackets will add them to the list. "
   ]
  },
  {
   "cell_type": "code",
   "execution_count": 9,
   "metadata": {},
   "outputs": [
    {
     "name": "stdout",
     "output_type": "stream",
     "text": [
      "[]\n",
      "[1, 3, 6, 'lists', 'arefun', 4]\n"
     ]
    }
   ],
   "source": [
    "# an empty list\n",
    "lst = []\n",
    "print(lst)\n",
    "\n",
    "# reassigning our empty list to a new list\n",
    "lst = [1, 3, 6, 'lists', 'are' 'fun', 4]\n",
    "print(lst)"
   ]
  },
  {
   "cell_type": "markdown",
   "metadata": {},
   "source": [
    "To access a value in the list, put the index of the item you wish to access in brackets following the variable that stores the list. Lists in Python are zero-indexed, so the indicies for `lst` are 0, 1, 2, 3, 4, 5, and 6."
   ]
  },
  {
   "cell_type": "code",
   "execution_count": 10,
   "metadata": {},
   "outputs": [
    {
     "name": "stdout",
     "output_type": "stream",
     "text": [
      "6\n"
     ]
    }
   ],
   "source": [
    "# Elements are selected like this:\n",
    "example = lst[2]\n",
    "\n",
    "# The above line selects the 3rd element of lst (list indices are 0-offset) and sets it to a variable named example.\n",
    "print(example)"
   ]
  },
  {
   "cell_type": "markdown",
   "metadata": {},
   "source": [
    "#### D. Dictonaries\n",
    "\n",
    "Dictionaries are `key`-`value` pairs. Just like a word dictinary, you have a key that will index a specific definition."
   ]
  },
  {
   "cell_type": "code",
   "execution_count": 11,
   "metadata": {},
   "outputs": [],
   "source": [
    "my_dict = {'python': 'a large heavy-bodied nonvenomous constrictor snake occurring throughout the Old World tropics.'}"
   ]
  },
  {
   "cell_type": "markdown",
   "metadata": {},
   "source": [
    "We can get a `value` back out by indexing the `key`:"
   ]
  },
  {
   "cell_type": "code",
   "execution_count": 12,
   "metadata": {},
   "outputs": [
    {
     "data": {
      "text/plain": [
       "'a large heavy-bodied nonvenomous constrictor snake occurring throughout the Old World tropics.'"
      ]
     },
     "execution_count": 12,
     "metadata": {},
     "output_type": "execute_result"
    }
   ],
   "source": [
    "my_dict['python']"
   ]
  },
  {
   "cell_type": "markdown",
   "metadata": {},
   "source": [
    "But like real dictionaries, there can be more than one definition. You can keep a `list`, or even another dictionary within a specific `key`:"
   ]
  },
  {
   "cell_type": "code",
   "execution_count": 13,
   "metadata": {},
   "outputs": [],
   "source": [
    "my_dict = {'python': ['a large heavy-bodied nonvenomous constrictor snake occurring throughout the Old World tropics.',\n",
    "                      'a high-level general-purpose programming language.']}"
   ]
  },
  {
   "cell_type": "markdown",
   "metadata": {},
   "source": [
    "We can index the `list` after the `key`:"
   ]
  },
  {
   "cell_type": "code",
   "execution_count": 14,
   "metadata": {},
   "outputs": [
    {
     "data": {
      "text/plain": [
       "'a large heavy-bodied nonvenomous constrictor snake occurring throughout the Old World tropics.'"
      ]
     },
     "execution_count": 14,
     "metadata": {},
     "output_type": "execute_result"
    }
   ],
   "source": [
    "my_dict['python'][0]"
   ]
  },
  {
   "cell_type": "code",
   "execution_count": 15,
   "metadata": {},
   "outputs": [
    {
     "data": {
      "text/plain": [
       "'a high-level general-purpose programming language.'"
      ]
     },
     "execution_count": 15,
     "metadata": {},
     "output_type": "execute_result"
    }
   ],
   "source": [
    "my_dict['python'][1]"
   ]
  },
  {
   "cell_type": "markdown",
   "metadata": {},
   "source": [
    "---\n",
    "\n",
    "## Part 2: GBIF API<a id='gbif'></a>\n",
    "\n",
    "The Global Biodiversity Information Facility has an API or web service, which we can use to retrieve data. We will demonstrate several different species queries to the [GBIF Web API](http://www.gbif.org/developer/summary).\n",
    "\n",
    "You can think of a Web API as a fancy URL for machines; what do you think the end of this URL means?\n",
    "\n",
    "http://api.gbif.org/v1/occurrence/search?year=1800,1899\n",
    "\n",
    "If you guessed that it limits the search to the years 1800-1899, you're right! Go ahead and click the URL above. You should see something like this:\n",
    "\n",
    "```\n",
    "{\"offset\":0,\"limit\":20,\"endOfRecords\":false,\"count\":5711947,\"results\":[{\"key\":14339704,\"datasetKey\":\"857aa892-f762-11e1-a439-00145eb45e9a\",\"publishingOrgKey\":\"6bcc0290-6e76-11db-bcd5-b8a03c50a862\",\"publishingCountry\":\"FR\",\"protocol\":\"BIOCASE\",\"lastCrawled\":\"2013-09-07T07:06:34.000+0000\",\"crawlId\":1,\"extensions\":{},\"basisOfRecord\":\"OBSERVATION\",\"taxonKey\":2809968,\"kingdomKey\":6,\"phylumKey\":7707728,\"classKey\":196,\"orderKey\":1169,\"familyKey\":7689,\"genusKey\":2849312,\"speciesKey\":2809968,\"scientificName\":\"Orchis militaris L.\",\"kingdom\":\"Plantae\",\"phylum\":\"Tracheophyta\",\"order\":\"Asparagales\",\"family\":\"Orchidaceae\",\"genus\":\"Orchis\",\"species\":\"Orchis \n",
    "```\n",
    "\n",
    "It might look like a mess, but it's not! This is actually very structured data, and can easily be put into a table like format, though often programmers don't do this because it's just as easy to keep it as is. If you know the structure (thanks to the DarwinCore metadata standards), you can found what you're interested in. Check out the api terms here: https://www.gbif.org/developer/occurrence#search\n",
    "\n",
    "You might be able to pick out the curly braces `{` and think this it's a dictionary. You'd be right, except in this format we call it [JSON](https://en.wikipedia.org/wiki/JSON).\n",
    "\n",
    "---\n",
    "\n",
    "## *Aneides flavipunctatus*, Black Salamander\n",
    "\n",
    "![Aneides flavipunctatus by Freiermuth](https://calphotos.berkeley.edu/imgs/512x768/0000_0000/0512/0340.jpeg)\n",
    "\n",
    "When performing data analysis, it is always important to define a question that you seek the answer to. *The goal of finding the answer to this question will ultimately drive the queries and analysis styles you choose to use/write.*\n",
    "\n",
    "For this example, we are going to ask: **where have [*Aneides flavipunctatus*](https://amphibiaweb.org/cgi/amphib_query?where-genus=Aneides&where-species=flavipunctatus) (the Black Salamander) been documented? Are there records at any of our field stations?**\n",
    "\n",
    "The code to ask the API has already been written for us! This is often the case with programming, someone has already written the code, so we don't have to. We'll just set up the `GBIFRequest` object and assign that to the variable `req`, short for \"request\":"
   ]
  },
  {
   "cell_type": "code",
   "execution_count": 16,
   "metadata": {},
   "outputs": [],
   "source": [
    "req = GBIFRequest()  # creating a request to the API"
   ]
  },
  {
   "cell_type": "markdown",
   "metadata": {},
   "source": [
    "Great, so how do we make searches? We can use a Python `dictionary` to create our query parameters. We'll ask for the `scientificName` of the Black Salamander (*Aneides flavipunctatus*):"
   ]
  },
  {
   "cell_type": "code",
   "execution_count": 17,
   "metadata": {},
   "outputs": [],
   "source": [
    "params = {'scientificName': 'Aneides flavipunctatus'}  # setting our parameters (the specific species we want)"
   ]
  },
  {
   "cell_type": "markdown",
   "metadata": {},
   "source": [
    "Now that we have the parameters, we can feed this to our `req` variable to get back all the pages of data. We'll then make sure that each record has a `decimalLatitude`, otherwise we'll thow it out for now. Lastly, we'll print out the first five records:"
   ]
  },
  {
   "cell_type": "code",
   "execution_count": 18,
   "metadata": {},
   "outputs": [
    {
     "data": {
      "text/plain": [
       "[{'key': 5007273094,\n",
       "  'datasetKey': '50c9509d-22c7-4a22-a47d-8c48425ef4a7',\n",
       "  'publishingOrgKey': '28eb1a3f-1c15-4a95-931a-4af90ecb574d',\n",
       "  'installationKey': '997448a8-f762-11e1-a439-00145eb45e9a',\n",
       "  'hostingOrganizationKey': '28eb1a3f-1c15-4a95-931a-4af90ecb574d',\n",
       "  'publishingCountry': 'US',\n",
       "  'protocol': 'DWC_ARCHIVE',\n",
       "  'lastCrawled': '2025-05-30T13:42:03.106+00:00',\n",
       "  'lastParsed': '2025-05-30T23:49:49.805+00:00',\n",
       "  'crawlId': 547,\n",
       "  'extensions': {'http://rs.gbif.org/terms/1.0/Multimedia': [{'http://purl.org/dc/terms/references': 'https://www.inaturalist.org/photos/462235655',\n",
       "     'http://purl.org/dc/terms/created': '2025-01-07T00:06:27Z',\n",
       "     'http://rs.tdwg.org/dwc/terms/catalogNumber': '462235655',\n",
       "     'http://purl.org/dc/terms/identifier': 'https://inaturalist-open-data.s3.amazonaws.com/photos/462235655/original.jpg',\n",
       "     'http://purl.org/dc/terms/format': 'image/jpeg',\n",
       "     'http://purl.org/dc/terms/rightsHolder': 'Stop4Snakes!',\n",
       "     'http://purl.org/dc/terms/creator': 'Stop4Snakes!',\n",
       "     'http://purl.org/dc/terms/license': 'http://creativecommons.org/licenses/by-nc/4.0/',\n",
       "     'http://purl.org/dc/terms/type': 'StillImage',\n",
       "     'http://purl.org/dc/terms/publisher': 'iNaturalist'}]},\n",
       "  'basisOfRecord': 'HUMAN_OBSERVATION',\n",
       "  'occurrenceStatus': 'PRESENT',\n",
       "  'taxonKey': 2431706,\n",
       "  'kingdomKey': 1,\n",
       "  'phylumKey': 44,\n",
       "  'classKey': 131,\n",
       "  'orderKey': 953,\n",
       "  'familyKey': 6748,\n",
       "  'genusKey': 2431705,\n",
       "  'speciesKey': 2431706,\n",
       "  'acceptedTaxonKey': 2431706,\n",
       "  'scientificName': 'Aneides flavipunctatus (Strauch, 1870)',\n",
       "  'acceptedScientificName': 'Aneides flavipunctatus (Strauch, 1870)',\n",
       "  'kingdom': 'Animalia',\n",
       "  'phylum': 'Chordata',\n",
       "  'order': 'Caudata',\n",
       "  'family': 'Plethodontidae',\n",
       "  'genus': 'Aneides',\n",
       "  'species': 'Aneides flavipunctatus',\n",
       "  'genericName': 'Aneides',\n",
       "  'specificEpithet': 'flavipunctatus',\n",
       "  'taxonRank': 'SPECIES',\n",
       "  'taxonomicStatus': 'ACCEPTED',\n",
       "  'iucnRedListCategory': 'LC',\n",
       "  'dateIdentified': '2025-01-07T01:12:07',\n",
       "  'decimalLatitude': 38.947787,\n",
       "  'decimalLongitude': -122.879322,\n",
       "  'coordinateUncertaintyInMeters': 28181.0,\n",
       "  'continent': 'NORTH_AMERICA',\n",
       "  'stateProvince': 'California',\n",
       "  'gadm': {'level0': {'gid': 'USA', 'name': 'United States'},\n",
       "   'level1': {'gid': 'USA.5_1', 'name': 'California'},\n",
       "   'level2': {'gid': 'USA.5.17_1', 'name': 'Lake'}},\n",
       "  'year': 2025,\n",
       "  'month': 1,\n",
       "  'day': 6,\n",
       "  'eventDate': '2025-01-06T16:06:27',\n",
       "  'startDayOfYear': 6,\n",
       "  'endDayOfYear': 6,\n",
       "  'issues': ['COORDINATE_ROUNDED',\n",
       "   'CONTINENT_DERIVED_FROM_COORDINATES',\n",
       "   'TAXON_MATCH_TAXON_ID_IGNORED'],\n",
       "  'modified': '2025-01-07T17:10:53.000+00:00',\n",
       "  'lastInterpreted': '2025-05-30T23:49:49.805+00:00',\n",
       "  'references': 'https://www.inaturalist.org/observations/257653994',\n",
       "  'license': 'http://creativecommons.org/licenses/by-nc/4.0/legalcode',\n",
       "  'isSequenced': False,\n",
       "  'identifiers': [{'identifier': '257653994'}],\n",
       "  'media': [{'type': 'StillImage',\n",
       "    'format': 'image/jpeg',\n",
       "    'references': 'https://www.inaturalist.org/photos/462235655',\n",
       "    'created': '2025-01-07T00:06:27.000+00:00',\n",
       "    'creator': 'Stop4Snakes!',\n",
       "    'publisher': 'iNaturalist',\n",
       "    'license': 'http://creativecommons.org/licenses/by-nc/4.0/',\n",
       "    'rightsHolder': 'Stop4Snakes!',\n",
       "    'identifier': 'https://inaturalist-open-data.s3.amazonaws.com/photos/462235655/original.jpg'}],\n",
       "  'facts': [],\n",
       "  'relations': [],\n",
       "  'isInCluster': False,\n",
       "  'datasetName': 'iNaturalist research-grade observations',\n",
       "  'recordedBy': 'Stop4Snakes!',\n",
       "  'identifiedBy': 'Stop4Snakes!',\n",
       "  'dnaSequenceID': [],\n",
       "  'geodeticDatum': 'WGS84',\n",
       "  'class': 'Amphibia',\n",
       "  'countryCode': 'US',\n",
       "  'recordedByIDs': [],\n",
       "  'identifiedByIDs': [],\n",
       "  'gbifRegion': 'NORTH_AMERICA',\n",
       "  'country': 'United States of America',\n",
       "  'publishedByGbifRegion': 'NORTH_AMERICA',\n",
       "  'rightsHolder': 'Stop4Snakes!',\n",
       "  'identifier': '257653994',\n",
       "  'http://unknown.org/nick': 'stop4snakes',\n",
       "  'informationWithheld': 'Coordinate uncertainty increased to 28181m at the request of the observer',\n",
       "  'verbatimEventDate': '2025-01-06 16:06:27-08:00',\n",
       "  'collectionCode': 'Observations',\n",
       "  'gbifID': '5007273094',\n",
       "  'verbatimLocality': 'California, US',\n",
       "  'occurrenceID': 'https://www.inaturalist.org/observations/257653994',\n",
       "  'taxonID': '134308',\n",
       "  'http://unknown.org/captive_cultivated': 'wild',\n",
       "  'catalogNumber': '257653994',\n",
       "  'institutionCode': 'iNaturalist',\n",
       "  'eventTime': '16:06:27-08:00',\n",
       "  'occurrenceRemarks': 'Finally…',\n",
       "  'identificationID': '581032349'},\n",
       " {'key': 5007637661,\n",
       "  'datasetKey': '50c9509d-22c7-4a22-a47d-8c48425ef4a7',\n",
       "  'publishingOrgKey': '28eb1a3f-1c15-4a95-931a-4af90ecb574d',\n",
       "  'installationKey': '997448a8-f762-11e1-a439-00145eb45e9a',\n",
       "  'hostingOrganizationKey': '28eb1a3f-1c15-4a95-931a-4af90ecb574d',\n",
       "  'publishingCountry': 'US',\n",
       "  'protocol': 'DWC_ARCHIVE',\n",
       "  'lastCrawled': '2025-05-30T13:42:03.106+00:00',\n",
       "  'lastParsed': '2025-05-31T01:20:51.102+00:00',\n",
       "  'crawlId': 547,\n",
       "  'extensions': {'http://rs.gbif.org/terms/1.0/Multimedia': [{'http://purl.org/dc/terms/references': 'https://www.inaturalist.org/photos/462235709',\n",
       "     'http://purl.org/dc/terms/created': '2025-01-07T00:09:00Z',\n",
       "     'http://rs.tdwg.org/dwc/terms/catalogNumber': '462235709',\n",
       "     'http://purl.org/dc/terms/identifier': 'https://inaturalist-open-data.s3.amazonaws.com/photos/462235709/original.jpg',\n",
       "     'http://purl.org/dc/terms/format': 'image/jpeg',\n",
       "     'http://purl.org/dc/terms/rightsHolder': 'Stop4Snakes!',\n",
       "     'http://purl.org/dc/terms/creator': 'Stop4Snakes!',\n",
       "     'http://purl.org/dc/terms/license': 'http://creativecommons.org/licenses/by-nc/4.0/',\n",
       "     'http://purl.org/dc/terms/type': 'StillImage',\n",
       "     'http://purl.org/dc/terms/publisher': 'iNaturalist'}]},\n",
       "  'basisOfRecord': 'HUMAN_OBSERVATION',\n",
       "  'occurrenceStatus': 'PRESENT',\n",
       "  'lifeStage': 'Adult',\n",
       "  'taxonKey': 2431706,\n",
       "  'kingdomKey': 1,\n",
       "  'phylumKey': 44,\n",
       "  'classKey': 131,\n",
       "  'orderKey': 953,\n",
       "  'familyKey': 6748,\n",
       "  'genusKey': 2431705,\n",
       "  'speciesKey': 2431706,\n",
       "  'acceptedTaxonKey': 2431706,\n",
       "  'scientificName': 'Aneides flavipunctatus (Strauch, 1870)',\n",
       "  'acceptedScientificName': 'Aneides flavipunctatus (Strauch, 1870)',\n",
       "  'kingdom': 'Animalia',\n",
       "  'phylum': 'Chordata',\n",
       "  'order': 'Caudata',\n",
       "  'family': 'Plethodontidae',\n",
       "  'genus': 'Aneides',\n",
       "  'species': 'Aneides flavipunctatus',\n",
       "  'genericName': 'Aneides',\n",
       "  'specificEpithet': 'flavipunctatus',\n",
       "  'taxonRank': 'SPECIES',\n",
       "  'taxonomicStatus': 'ACCEPTED',\n",
       "  'iucnRedListCategory': 'LC',\n",
       "  'dateIdentified': '2025-01-07T01:12:22',\n",
       "  'decimalLatitude': 38.972752,\n",
       "  'decimalLongitude': -122.959323,\n",
       "  'coordinateUncertaintyInMeters': 28181.0,\n",
       "  'continent': 'NORTH_AMERICA',\n",
       "  'stateProvince': 'California',\n",
       "  'gadm': {'level0': {'gid': 'USA', 'name': 'United States'},\n",
       "   'level1': {'gid': 'USA.5_1', 'name': 'California'},\n",
       "   'level2': {'gid': 'USA.5.17_1', 'name': 'Lake'}},\n",
       "  'year': 2025,\n",
       "  'month': 1,\n",
       "  'day': 6,\n",
       "  'eventDate': '2025-01-06T16:09',\n",
       "  'startDayOfYear': 6,\n",
       "  'endDayOfYear': 6,\n",
       "  'issues': ['COORDINATE_ROUNDED',\n",
       "   'CONTINENT_DERIVED_FROM_COORDINATES',\n",
       "   'TAXON_MATCH_TAXON_ID_IGNORED'],\n",
       "  'modified': '2025-01-07T17:10:48.000+00:00',\n",
       "  'lastInterpreted': '2025-05-31T01:20:51.102+00:00',\n",
       "  'references': 'https://www.inaturalist.org/observations/257654008',\n",
       "  'license': 'http://creativecommons.org/licenses/by-nc/4.0/legalcode',\n",
       "  'isSequenced': False,\n",
       "  'identifiers': [{'identifier': '257654008'}],\n",
       "  'media': [{'type': 'StillImage',\n",
       "    'format': 'image/jpeg',\n",
       "    'references': 'https://www.inaturalist.org/photos/462235709',\n",
       "    'created': '2025-01-07T00:09:00.000+00:00',\n",
       "    'creator': 'Stop4Snakes!',\n",
       "    'publisher': 'iNaturalist',\n",
       "    'license': 'http://creativecommons.org/licenses/by-nc/4.0/',\n",
       "    'rightsHolder': 'Stop4Snakes!',\n",
       "    'identifier': 'https://inaturalist-open-data.s3.amazonaws.com/photos/462235709/original.jpg'}],\n",
       "  'facts': [],\n",
       "  'relations': [],\n",
       "  'isInCluster': False,\n",
       "  'datasetName': 'iNaturalist research-grade observations',\n",
       "  'recordedBy': 'Stop4Snakes!',\n",
       "  'identifiedBy': 'Stop4Snakes!',\n",
       "  'dnaSequenceID': [],\n",
       "  'geodeticDatum': 'WGS84',\n",
       "  'class': 'Amphibia',\n",
       "  'countryCode': 'US',\n",
       "  'recordedByIDs': [],\n",
       "  'identifiedByIDs': [],\n",
       "  'gbifRegion': 'NORTH_AMERICA',\n",
       "  'country': 'United States of America',\n",
       "  'publishedByGbifRegion': 'NORTH_AMERICA',\n",
       "  'rightsHolder': 'Stop4Snakes!',\n",
       "  'identifier': '257654008',\n",
       "  'http://unknown.org/nick': 'stop4snakes',\n",
       "  'informationWithheld': 'Coordinate uncertainty increased to 28181m at the request of the observer',\n",
       "  'verbatimEventDate': '2025-01-06 16:09:00-08:00',\n",
       "  'dynamicProperties': '{\"evidenceOfPresence\":\"organism\"}',\n",
       "  'collectionCode': 'Observations',\n",
       "  'gbifID': '5007637661',\n",
       "  'verbatimLocality': 'California, US',\n",
       "  'occurrenceID': 'https://www.inaturalist.org/observations/257654008',\n",
       "  'taxonID': '134308',\n",
       "  'http://unknown.org/captive_cultivated': 'wild',\n",
       "  'catalogNumber': '257654008',\n",
       "  'institutionCode': 'iNaturalist',\n",
       "  'vitality': 'alive',\n",
       "  'eventTime': '16:09:00-08:00',\n",
       "  'identificationID': '581032400'},\n",
       " {'key': 5006974313,\n",
       "  'datasetKey': '50c9509d-22c7-4a22-a47d-8c48425ef4a7',\n",
       "  'publishingOrgKey': '28eb1a3f-1c15-4a95-931a-4af90ecb574d',\n",
       "  'installationKey': '997448a8-f762-11e1-a439-00145eb45e9a',\n",
       "  'hostingOrganizationKey': '28eb1a3f-1c15-4a95-931a-4af90ecb574d',\n",
       "  'publishingCountry': 'US',\n",
       "  'protocol': 'DWC_ARCHIVE',\n",
       "  'lastCrawled': '2025-05-30T13:42:03.106+00:00',\n",
       "  'lastParsed': '2025-05-31T01:27:25.830+00:00',\n",
       "  'crawlId': 547,\n",
       "  'extensions': {'http://rs.gbif.org/terms/1.0/Multimedia': [{'http://purl.org/dc/terms/references': 'https://www.inaturalist.org/photos/462235905',\n",
       "     'http://purl.org/dc/terms/created': '2025-01-07T00:15:13Z',\n",
       "     'http://rs.tdwg.org/dwc/terms/catalogNumber': '462235905',\n",
       "     'http://purl.org/dc/terms/identifier': 'https://inaturalist-open-data.s3.amazonaws.com/photos/462235905/original.jpg',\n",
       "     'http://purl.org/dc/terms/format': 'image/jpeg',\n",
       "     'http://purl.org/dc/terms/rightsHolder': 'Stop4Snakes!',\n",
       "     'http://purl.org/dc/terms/creator': 'Stop4Snakes!',\n",
       "     'http://purl.org/dc/terms/license': 'http://creativecommons.org/licenses/by-nc/4.0/',\n",
       "     'http://purl.org/dc/terms/type': 'StillImage',\n",
       "     'http://purl.org/dc/terms/publisher': 'iNaturalist'}]},\n",
       "  'basisOfRecord': 'HUMAN_OBSERVATION',\n",
       "  'occurrenceStatus': 'PRESENT',\n",
       "  'lifeStage': 'Adult',\n",
       "  'taxonKey': 2431706,\n",
       "  'kingdomKey': 1,\n",
       "  'phylumKey': 44,\n",
       "  'classKey': 131,\n",
       "  'orderKey': 953,\n",
       "  'familyKey': 6748,\n",
       "  'genusKey': 2431705,\n",
       "  'speciesKey': 2431706,\n",
       "  'acceptedTaxonKey': 2431706,\n",
       "  'scientificName': 'Aneides flavipunctatus (Strauch, 1870)',\n",
       "  'acceptedScientificName': 'Aneides flavipunctatus (Strauch, 1870)',\n",
       "  'kingdom': 'Animalia',\n",
       "  'phylum': 'Chordata',\n",
       "  'order': 'Caudata',\n",
       "  'family': 'Plethodontidae',\n",
       "  'genus': 'Aneides',\n",
       "  'species': 'Aneides flavipunctatus',\n",
       "  'genericName': 'Aneides',\n",
       "  'specificEpithet': 'flavipunctatus',\n",
       "  'taxonRank': 'SPECIES',\n",
       "  'taxonomicStatus': 'ACCEPTED',\n",
       "  'iucnRedListCategory': 'LC',\n",
       "  'dateIdentified': '2025-01-07T01:13:37',\n",
       "  'decimalLatitude': 38.883898,\n",
       "  'decimalLongitude': -122.973958,\n",
       "  'coordinateUncertaintyInMeters': 28181.0,\n",
       "  'continent': 'NORTH_AMERICA',\n",
       "  'stateProvince': 'California',\n",
       "  'gadm': {'level0': {'gid': 'USA', 'name': 'United States'},\n",
       "   'level1': {'gid': 'USA.5_1', 'name': 'California'},\n",
       "   'level2': {'gid': 'USA.5.23_1', 'name': 'Mendocino'}},\n",
       "  'year': 2025,\n",
       "  'month': 1,\n",
       "  'day': 6,\n",
       "  'eventDate': '2025-01-06T16:15:13',\n",
       "  'startDayOfYear': 6,\n",
       "  'endDayOfYear': 6,\n",
       "  'issues': ['COORDINATE_ROUNDED',\n",
       "   'CONTINENT_DERIVED_FROM_COORDINATES',\n",
       "   'TAXON_MATCH_TAXON_ID_IGNORED'],\n",
       "  'modified': '2025-01-07T19:49:34.000+00:00',\n",
       "  'lastInterpreted': '2025-05-31T01:27:25.830+00:00',\n",
       "  'references': 'https://www.inaturalist.org/observations/257654122',\n",
       "  'license': 'http://creativecommons.org/licenses/by-nc/4.0/legalcode',\n",
       "  'isSequenced': False,\n",
       "  'identifiers': [{'identifier': '257654122'}],\n",
       "  'media': [{'type': 'StillImage',\n",
       "    'format': 'image/jpeg',\n",
       "    'references': 'https://www.inaturalist.org/photos/462235905',\n",
       "    'created': '2025-01-07T00:15:13.000+00:00',\n",
       "    'creator': 'Stop4Snakes!',\n",
       "    'publisher': 'iNaturalist',\n",
       "    'license': 'http://creativecommons.org/licenses/by-nc/4.0/',\n",
       "    'rightsHolder': 'Stop4Snakes!',\n",
       "    'identifier': 'https://inaturalist-open-data.s3.amazonaws.com/photos/462235905/original.jpg'}],\n",
       "  'facts': [],\n",
       "  'relations': [],\n",
       "  'isInCluster': False,\n",
       "  'datasetName': 'iNaturalist research-grade observations',\n",
       "  'recordedBy': 'Stop4Snakes!',\n",
       "  'identifiedBy': 'Stop4Snakes!',\n",
       "  'dnaSequenceID': [],\n",
       "  'geodeticDatum': 'WGS84',\n",
       "  'class': 'Amphibia',\n",
       "  'countryCode': 'US',\n",
       "  'recordedByIDs': [],\n",
       "  'identifiedByIDs': [],\n",
       "  'gbifRegion': 'NORTH_AMERICA',\n",
       "  'country': 'United States of America',\n",
       "  'publishedByGbifRegion': 'NORTH_AMERICA',\n",
       "  'rightsHolder': 'Stop4Snakes!',\n",
       "  'identifier': '257654122',\n",
       "  'http://unknown.org/nick': 'stop4snakes',\n",
       "  'informationWithheld': 'Coordinate uncertainty increased to 28181m at the request of the observer',\n",
       "  'verbatimEventDate': '2025-01-06 16:15:13-08:00',\n",
       "  'dynamicProperties': '{\"evidenceOfPresence\":\"organism\"}',\n",
       "  'collectionCode': 'Observations',\n",
       "  'gbifID': '5006974313',\n",
       "  'verbatimLocality': 'California, US',\n",
       "  'occurrenceID': 'https://www.inaturalist.org/observations/257654122',\n",
       "  'taxonID': '134308',\n",
       "  'http://unknown.org/captive_cultivated': 'wild',\n",
       "  'catalogNumber': '257654122',\n",
       "  'institutionCode': 'iNaturalist',\n",
       "  'vitality': 'alive',\n",
       "  'eventTime': '16:15:13-08:00',\n",
       "  'identificationID': '581032698'},\n",
       " {'key': 5007696395,\n",
       "  'datasetKey': '50c9509d-22c7-4a22-a47d-8c48425ef4a7',\n",
       "  'publishingOrgKey': '28eb1a3f-1c15-4a95-931a-4af90ecb574d',\n",
       "  'installationKey': '997448a8-f762-11e1-a439-00145eb45e9a',\n",
       "  'hostingOrganizationKey': '28eb1a3f-1c15-4a95-931a-4af90ecb574d',\n",
       "  'publishingCountry': 'US',\n",
       "  'protocol': 'DWC_ARCHIVE',\n",
       "  'lastCrawled': '2025-05-30T13:42:03.106+00:00',\n",
       "  'lastParsed': '2025-05-30T23:39:15.206+00:00',\n",
       "  'crawlId': 547,\n",
       "  'extensions': {'http://rs.gbif.org/terms/1.0/Multimedia': [{'http://purl.org/dc/terms/references': 'https://www.inaturalist.org/photos/462236060',\n",
       "     'http://purl.org/dc/terms/created': '2025-01-07T00:18:07Z',\n",
       "     'http://rs.tdwg.org/dwc/terms/catalogNumber': '462236060',\n",
       "     'http://purl.org/dc/terms/identifier': 'https://inaturalist-open-data.s3.amazonaws.com/photos/462236060/original.jpg',\n",
       "     'http://purl.org/dc/terms/format': 'image/jpeg',\n",
       "     'http://purl.org/dc/terms/rightsHolder': 'Stop4Snakes!',\n",
       "     'http://purl.org/dc/terms/creator': 'Stop4Snakes!',\n",
       "     'http://purl.org/dc/terms/license': 'http://creativecommons.org/licenses/by-nc/4.0/',\n",
       "     'http://purl.org/dc/terms/type': 'StillImage',\n",
       "     'http://purl.org/dc/terms/publisher': 'iNaturalist'}]},\n",
       "  'basisOfRecord': 'HUMAN_OBSERVATION',\n",
       "  'occurrenceStatus': 'PRESENT',\n",
       "  'lifeStage': 'Adult',\n",
       "  'taxonKey': 2431706,\n",
       "  'kingdomKey': 1,\n",
       "  'phylumKey': 44,\n",
       "  'classKey': 131,\n",
       "  'orderKey': 953,\n",
       "  'familyKey': 6748,\n",
       "  'genusKey': 2431705,\n",
       "  'speciesKey': 2431706,\n",
       "  'acceptedTaxonKey': 2431706,\n",
       "  'scientificName': 'Aneides flavipunctatus (Strauch, 1870)',\n",
       "  'acceptedScientificName': 'Aneides flavipunctatus (Strauch, 1870)',\n",
       "  'kingdom': 'Animalia',\n",
       "  'phylum': 'Chordata',\n",
       "  'order': 'Caudata',\n",
       "  'family': 'Plethodontidae',\n",
       "  'genus': 'Aneides',\n",
       "  'species': 'Aneides flavipunctatus',\n",
       "  'genericName': 'Aneides',\n",
       "  'specificEpithet': 'flavipunctatus',\n",
       "  'taxonRank': 'SPECIES',\n",
       "  'taxonomicStatus': 'ACCEPTED',\n",
       "  'iucnRedListCategory': 'LC',\n",
       "  'dateIdentified': '2025-01-07T01:14:33',\n",
       "  'decimalLatitude': 38.998134,\n",
       "  'decimalLongitude': -122.925068,\n",
       "  'coordinateUncertaintyInMeters': 28181.0,\n",
       "  'continent': 'NORTH_AMERICA',\n",
       "  'stateProvince': 'California',\n",
       "  'gadm': {'level0': {'gid': 'USA', 'name': 'United States'},\n",
       "   'level1': {'gid': 'USA.5_1', 'name': 'California'},\n",
       "   'level2': {'gid': 'USA.5.17_1', 'name': 'Lake'}},\n",
       "  'year': 2025,\n",
       "  'month': 1,\n",
       "  'day': 6,\n",
       "  'eventDate': '2025-01-06T16:18:07',\n",
       "  'startDayOfYear': 6,\n",
       "  'endDayOfYear': 6,\n",
       "  'issues': ['COORDINATE_ROUNDED',\n",
       "   'CONTINENT_DERIVED_FROM_COORDINATES',\n",
       "   'TAXON_MATCH_TAXON_ID_IGNORED'],\n",
       "  'modified': '2025-01-07T17:09:59.000+00:00',\n",
       "  'lastInterpreted': '2025-05-30T23:39:15.206+00:00',\n",
       "  'references': 'https://www.inaturalist.org/observations/257654173',\n",
       "  'license': 'http://creativecommons.org/licenses/by-nc/4.0/legalcode',\n",
       "  'isSequenced': False,\n",
       "  'identifiers': [{'identifier': '257654173'}],\n",
       "  'media': [{'type': 'StillImage',\n",
       "    'format': 'image/jpeg',\n",
       "    'references': 'https://www.inaturalist.org/photos/462236060',\n",
       "    'created': '2025-01-07T00:18:07.000+00:00',\n",
       "    'creator': 'Stop4Snakes!',\n",
       "    'publisher': 'iNaturalist',\n",
       "    'license': 'http://creativecommons.org/licenses/by-nc/4.0/',\n",
       "    'rightsHolder': 'Stop4Snakes!',\n",
       "    'identifier': 'https://inaturalist-open-data.s3.amazonaws.com/photos/462236060/original.jpg'}],\n",
       "  'facts': [],\n",
       "  'relations': [],\n",
       "  'isInCluster': False,\n",
       "  'datasetName': 'iNaturalist research-grade observations',\n",
       "  'recordedBy': 'Stop4Snakes!',\n",
       "  'identifiedBy': 'Stop4Snakes!',\n",
       "  'dnaSequenceID': [],\n",
       "  'geodeticDatum': 'WGS84',\n",
       "  'class': 'Amphibia',\n",
       "  'countryCode': 'US',\n",
       "  'recordedByIDs': [],\n",
       "  'identifiedByIDs': [],\n",
       "  'gbifRegion': 'NORTH_AMERICA',\n",
       "  'country': 'United States of America',\n",
       "  'publishedByGbifRegion': 'NORTH_AMERICA',\n",
       "  'rightsHolder': 'Stop4Snakes!',\n",
       "  'identifier': '257654173',\n",
       "  'http://unknown.org/nick': 'stop4snakes',\n",
       "  'informationWithheld': 'Coordinate uncertainty increased to 28181m at the request of the observer',\n",
       "  'verbatimEventDate': '2025-01-06 16:18:07-08:00',\n",
       "  'dynamicProperties': '{\"evidenceOfPresence\":\"organism\"}',\n",
       "  'collectionCode': 'Observations',\n",
       "  'gbifID': '5007696395',\n",
       "  'verbatimLocality': 'California, US',\n",
       "  'occurrenceID': 'https://www.inaturalist.org/observations/257654173',\n",
       "  'taxonID': '134308',\n",
       "  'http://unknown.org/captive_cultivated': 'wild',\n",
       "  'catalogNumber': '257654173',\n",
       "  'institutionCode': 'iNaturalist',\n",
       "  'vitality': 'alive',\n",
       "  'eventTime': '16:18:07-08:00',\n",
       "  'occurrenceRemarks': 'Triple flip, but there’s 4 in my hand since one from the log next to this one scampered under this one right after capture.',\n",
       "  'identificationID': '581032893'},\n",
       " {'key': 5007343812,\n",
       "  'datasetKey': '50c9509d-22c7-4a22-a47d-8c48425ef4a7',\n",
       "  'publishingOrgKey': '28eb1a3f-1c15-4a95-931a-4af90ecb574d',\n",
       "  'installationKey': '997448a8-f762-11e1-a439-00145eb45e9a',\n",
       "  'hostingOrganizationKey': '28eb1a3f-1c15-4a95-931a-4af90ecb574d',\n",
       "  'publishingCountry': 'US',\n",
       "  'protocol': 'DWC_ARCHIVE',\n",
       "  'lastCrawled': '2025-05-30T13:42:03.106+00:00',\n",
       "  'lastParsed': '2025-05-30T23:48:57.333+00:00',\n",
       "  'crawlId': 547,\n",
       "  'extensions': {'http://rs.gbif.org/terms/1.0/Multimedia': [{'http://purl.org/dc/terms/references': 'https://www.inaturalist.org/photos/462236075',\n",
       "     'http://purl.org/dc/terms/created': '2025-01-07T00:18:46Z',\n",
       "     'http://rs.tdwg.org/dwc/terms/catalogNumber': '462236075',\n",
       "     'http://purl.org/dc/terms/identifier': 'https://inaturalist-open-data.s3.amazonaws.com/photos/462236075/original.jpg',\n",
       "     'http://purl.org/dc/terms/format': 'image/jpeg',\n",
       "     'http://purl.org/dc/terms/rightsHolder': 'Stop4Snakes!',\n",
       "     'http://purl.org/dc/terms/creator': 'Stop4Snakes!',\n",
       "     'http://purl.org/dc/terms/license': 'http://creativecommons.org/licenses/by-nc/4.0/',\n",
       "     'http://purl.org/dc/terms/type': 'StillImage',\n",
       "     'http://purl.org/dc/terms/publisher': 'iNaturalist'}]},\n",
       "  'basisOfRecord': 'HUMAN_OBSERVATION',\n",
       "  'occurrenceStatus': 'PRESENT',\n",
       "  'taxonKey': 2431706,\n",
       "  'kingdomKey': 1,\n",
       "  'phylumKey': 44,\n",
       "  'classKey': 131,\n",
       "  'orderKey': 953,\n",
       "  'familyKey': 6748,\n",
       "  'genusKey': 2431705,\n",
       "  'speciesKey': 2431706,\n",
       "  'acceptedTaxonKey': 2431706,\n",
       "  'scientificName': 'Aneides flavipunctatus (Strauch, 1870)',\n",
       "  'acceptedScientificName': 'Aneides flavipunctatus (Strauch, 1870)',\n",
       "  'kingdom': 'Animalia',\n",
       "  'phylum': 'Chordata',\n",
       "  'order': 'Caudata',\n",
       "  'family': 'Plethodontidae',\n",
       "  'genus': 'Aneides',\n",
       "  'species': 'Aneides flavipunctatus',\n",
       "  'genericName': 'Aneides',\n",
       "  'specificEpithet': 'flavipunctatus',\n",
       "  'taxonRank': 'SPECIES',\n",
       "  'taxonomicStatus': 'ACCEPTED',\n",
       "  'iucnRedListCategory': 'LC',\n",
       "  'dateIdentified': '2025-01-07T01:14:49',\n",
       "  'decimalLatitude': 38.846875,\n",
       "  'decimalLongitude': -122.813862,\n",
       "  'coordinateUncertaintyInMeters': 28181.0,\n",
       "  'continent': 'NORTH_AMERICA',\n",
       "  'stateProvince': 'California',\n",
       "  'gadm': {'level0': {'gid': 'USA', 'name': 'United States'},\n",
       "   'level1': {'gid': 'USA.5_1', 'name': 'California'},\n",
       "   'level2': {'gid': 'USA.5.17_1', 'name': 'Lake'}},\n",
       "  'year': 2025,\n",
       "  'month': 1,\n",
       "  'day': 6,\n",
       "  'eventDate': '2025-01-06T16:18:46',\n",
       "  'startDayOfYear': 6,\n",
       "  'endDayOfYear': 6,\n",
       "  'issues': ['COORDINATE_ROUNDED',\n",
       "   'CONTINENT_DERIVED_FROM_COORDINATES',\n",
       "   'TAXON_MATCH_TAXON_ID_IGNORED'],\n",
       "  'modified': '2025-01-07T17:08:35.000+00:00',\n",
       "  'lastInterpreted': '2025-05-30T23:48:57.333+00:00',\n",
       "  'references': 'https://www.inaturalist.org/observations/257654184',\n",
       "  'license': 'http://creativecommons.org/licenses/by-nc/4.0/legalcode',\n",
       "  'isSequenced': False,\n",
       "  'identifiers': [{'identifier': '257654184'}],\n",
       "  'media': [{'type': 'StillImage',\n",
       "    'format': 'image/jpeg',\n",
       "    'references': 'https://www.inaturalist.org/photos/462236075',\n",
       "    'created': '2025-01-07T00:18:46.000+00:00',\n",
       "    'creator': 'Stop4Snakes!',\n",
       "    'publisher': 'iNaturalist',\n",
       "    'license': 'http://creativecommons.org/licenses/by-nc/4.0/',\n",
       "    'rightsHolder': 'Stop4Snakes!',\n",
       "    'identifier': 'https://inaturalist-open-data.s3.amazonaws.com/photos/462236075/original.jpg'}],\n",
       "  'facts': [],\n",
       "  'relations': [],\n",
       "  'isInCluster': False,\n",
       "  'datasetName': 'iNaturalist research-grade observations',\n",
       "  'recordedBy': 'Stop4Snakes!',\n",
       "  'identifiedBy': 'Stop4Snakes!',\n",
       "  'dnaSequenceID': [],\n",
       "  'geodeticDatum': 'WGS84',\n",
       "  'class': 'Amphibia',\n",
       "  'countryCode': 'US',\n",
       "  'recordedByIDs': [],\n",
       "  'identifiedByIDs': [],\n",
       "  'gbifRegion': 'NORTH_AMERICA',\n",
       "  'country': 'United States of America',\n",
       "  'publishedByGbifRegion': 'NORTH_AMERICA',\n",
       "  'rightsHolder': 'Stop4Snakes!',\n",
       "  'identifier': '257654184',\n",
       "  'http://unknown.org/nick': 'stop4snakes',\n",
       "  'informationWithheld': 'Coordinate uncertainty increased to 28181m at the request of the observer',\n",
       "  'verbatimEventDate': '2025-01-06 16:18:46-08:00',\n",
       "  'collectionCode': 'Observations',\n",
       "  'gbifID': '5007343812',\n",
       "  'verbatimLocality': 'California, US',\n",
       "  'occurrenceID': 'https://www.inaturalist.org/observations/257654184',\n",
       "  'taxonID': '134308',\n",
       "  'http://unknown.org/captive_cultivated': 'wild',\n",
       "  'catalogNumber': '257654184',\n",
       "  'institutionCode': 'iNaturalist',\n",
       "  'eventTime': '16:18:46-08:00',\n",
       "  'identificationID': '581032945'}]"
      ]
     },
     "execution_count": 18,
     "metadata": {},
     "output_type": "execute_result"
    }
   ],
   "source": [
    "pages = req.get_pages(params)  # using those parameters to complete the request\n",
    "records = [rec for page in pages for rec in page['results'] if rec.get('decimalLatitude')]  # sift out unmapped records\n",
    "records[:5]  # print first 5 records"
   ]
  },
  {
   "cell_type": "markdown",
   "metadata": {},
   "source": [
    "### DataFrames\n",
    "\n",
    "JSON is great, but it might be conceptually easier to make this a table. We'll use the popular [`pandas`](http://pandas.pydata.org/) Python library. In `pandas`, a DataFrame is a table that has several convenient features. For example, we can access the columns of the table like we would `dict`ionaries, and we can also treat the columns and rows themselves as Python `list`s."
   ]
  },
  {
   "cell_type": "code",
   "execution_count": 19,
   "metadata": {},
   "outputs": [
    {
     "data": {
      "application/vnd.microsoft.datawrangler.viewer.v0+json": {
       "columns": [
        {
         "name": "index",
         "rawType": "int64",
         "type": "integer"
        },
        {
         "name": "key",
         "rawType": "int64",
         "type": "integer"
        },
        {
         "name": "datasetKey",
         "rawType": "object",
         "type": "string"
        },
        {
         "name": "publishingOrgKey",
         "rawType": "object",
         "type": "string"
        },
        {
         "name": "installationKey",
         "rawType": "object",
         "type": "string"
        },
        {
         "name": "hostingOrganizationKey",
         "rawType": "object",
         "type": "string"
        },
        {
         "name": "publishingCountry",
         "rawType": "object",
         "type": "string"
        },
        {
         "name": "protocol",
         "rawType": "object",
         "type": "string"
        },
        {
         "name": "lastCrawled",
         "rawType": "object",
         "type": "string"
        },
        {
         "name": "lastParsed",
         "rawType": "object",
         "type": "string"
        },
        {
         "name": "crawlId",
         "rawType": "int64",
         "type": "integer"
        },
        {
         "name": "extensions",
         "rawType": "object",
         "type": "unknown"
        },
        {
         "name": "basisOfRecord",
         "rawType": "object",
         "type": "string"
        },
        {
         "name": "occurrenceStatus",
         "rawType": "object",
         "type": "string"
        },
        {
         "name": "taxonKey",
         "rawType": "int64",
         "type": "integer"
        },
        {
         "name": "kingdomKey",
         "rawType": "int64",
         "type": "integer"
        },
        {
         "name": "phylumKey",
         "rawType": "int64",
         "type": "integer"
        },
        {
         "name": "classKey",
         "rawType": "int64",
         "type": "integer"
        },
        {
         "name": "orderKey",
         "rawType": "int64",
         "type": "integer"
        },
        {
         "name": "familyKey",
         "rawType": "int64",
         "type": "integer"
        },
        {
         "name": "genusKey",
         "rawType": "int64",
         "type": "integer"
        },
        {
         "name": "speciesKey",
         "rawType": "int64",
         "type": "integer"
        },
        {
         "name": "acceptedTaxonKey",
         "rawType": "int64",
         "type": "integer"
        },
        {
         "name": "scientificName",
         "rawType": "object",
         "type": "string"
        },
        {
         "name": "acceptedScientificName",
         "rawType": "object",
         "type": "string"
        },
        {
         "name": "kingdom",
         "rawType": "object",
         "type": "string"
        },
        {
         "name": "phylum",
         "rawType": "object",
         "type": "string"
        },
        {
         "name": "order",
         "rawType": "object",
         "type": "string"
        },
        {
         "name": "family",
         "rawType": "object",
         "type": "string"
        },
        {
         "name": "genus",
         "rawType": "object",
         "type": "string"
        },
        {
         "name": "species",
         "rawType": "object",
         "type": "string"
        },
        {
         "name": "genericName",
         "rawType": "object",
         "type": "string"
        },
        {
         "name": "specificEpithet",
         "rawType": "object",
         "type": "string"
        },
        {
         "name": "taxonRank",
         "rawType": "object",
         "type": "string"
        },
        {
         "name": "taxonomicStatus",
         "rawType": "object",
         "type": "string"
        },
        {
         "name": "iucnRedListCategory",
         "rawType": "object",
         "type": "string"
        },
        {
         "name": "dateIdentified",
         "rawType": "object",
         "type": "string"
        },
        {
         "name": "decimalLatitude",
         "rawType": "float64",
         "type": "float"
        },
        {
         "name": "decimalLongitude",
         "rawType": "float64",
         "type": "float"
        },
        {
         "name": "coordinateUncertaintyInMeters",
         "rawType": "float64",
         "type": "float"
        },
        {
         "name": "continent",
         "rawType": "object",
         "type": "string"
        },
        {
         "name": "stateProvince",
         "rawType": "object",
         "type": "string"
        },
        {
         "name": "gadm",
         "rawType": "object",
         "type": "unknown"
        },
        {
         "name": "year",
         "rawType": "int64",
         "type": "integer"
        },
        {
         "name": "month",
         "rawType": "int64",
         "type": "integer"
        },
        {
         "name": "day",
         "rawType": "int64",
         "type": "integer"
        },
        {
         "name": "eventDate",
         "rawType": "object",
         "type": "string"
        },
        {
         "name": "startDayOfYear",
         "rawType": "int64",
         "type": "integer"
        },
        {
         "name": "endDayOfYear",
         "rawType": "int64",
         "type": "integer"
        },
        {
         "name": "issues",
         "rawType": "object",
         "type": "unknown"
        },
        {
         "name": "modified",
         "rawType": "object",
         "type": "string"
        },
        {
         "name": "lastInterpreted",
         "rawType": "object",
         "type": "string"
        },
        {
         "name": "references",
         "rawType": "object",
         "type": "string"
        },
        {
         "name": "license",
         "rawType": "object",
         "type": "string"
        },
        {
         "name": "isSequenced",
         "rawType": "bool",
         "type": "boolean"
        },
        {
         "name": "identifiers",
         "rawType": "object",
         "type": "unknown"
        },
        {
         "name": "media",
         "rawType": "object",
         "type": "unknown"
        },
        {
         "name": "facts",
         "rawType": "object",
         "type": "unknown"
        },
        {
         "name": "relations",
         "rawType": "object",
         "type": "unknown"
        },
        {
         "name": "isInCluster",
         "rawType": "bool",
         "type": "boolean"
        },
        {
         "name": "datasetName",
         "rawType": "object",
         "type": "string"
        },
        {
         "name": "recordedBy",
         "rawType": "object",
         "type": "string"
        },
        {
         "name": "identifiedBy",
         "rawType": "object",
         "type": "string"
        },
        {
         "name": "dnaSequenceID",
         "rawType": "object",
         "type": "unknown"
        },
        {
         "name": "geodeticDatum",
         "rawType": "object",
         "type": "string"
        },
        {
         "name": "class",
         "rawType": "object",
         "type": "string"
        },
        {
         "name": "countryCode",
         "rawType": "object",
         "type": "string"
        },
        {
         "name": "recordedByIDs",
         "rawType": "object",
         "type": "unknown"
        },
        {
         "name": "identifiedByIDs",
         "rawType": "object",
         "type": "unknown"
        },
        {
         "name": "gbifRegion",
         "rawType": "object",
         "type": "string"
        },
        {
         "name": "country",
         "rawType": "object",
         "type": "string"
        },
        {
         "name": "publishedByGbifRegion",
         "rawType": "object",
         "type": "string"
        },
        {
         "name": "rightsHolder",
         "rawType": "object",
         "type": "string"
        },
        {
         "name": "identifier",
         "rawType": "object",
         "type": "string"
        },
        {
         "name": "http://unknown.org/nick",
         "rawType": "object",
         "type": "string"
        },
        {
         "name": "informationWithheld",
         "rawType": "object",
         "type": "string"
        },
        {
         "name": "verbatimEventDate",
         "rawType": "object",
         "type": "string"
        },
        {
         "name": "collectionCode",
         "rawType": "object",
         "type": "string"
        },
        {
         "name": "gbifID",
         "rawType": "object",
         "type": "string"
        },
        {
         "name": "verbatimLocality",
         "rawType": "object",
         "type": "string"
        },
        {
         "name": "occurrenceID",
         "rawType": "object",
         "type": "string"
        },
        {
         "name": "taxonID",
         "rawType": "object",
         "type": "string"
        },
        {
         "name": "http://unknown.org/captive_cultivated",
         "rawType": "object",
         "type": "string"
        },
        {
         "name": "catalogNumber",
         "rawType": "object",
         "type": "string"
        },
        {
         "name": "institutionCode",
         "rawType": "object",
         "type": "string"
        },
        {
         "name": "eventTime",
         "rawType": "object",
         "type": "string"
        },
        {
         "name": "occurrenceRemarks",
         "rawType": "object",
         "type": "unknown"
        },
        {
         "name": "identificationID",
         "rawType": "object",
         "type": "string"
        },
        {
         "name": "lifeStage",
         "rawType": "object",
         "type": "unknown"
        },
        {
         "name": "dynamicProperties",
         "rawType": "object",
         "type": "unknown"
        },
        {
         "name": "vitality",
         "rawType": "object",
         "type": "unknown"
        },
        {
         "name": "identificationRemarks",
         "rawType": "object",
         "type": "unknown"
        },
        {
         "name": "sex",
         "rawType": "object",
         "type": "unknown"
        },
        {
         "name": "projectId",
         "rawType": "object",
         "type": "unknown"
        },
        {
         "name": "networkKeys",
         "rawType": "object",
         "type": "unknown"
        },
        {
         "name": "elevation",
         "rawType": "float64",
         "type": "float"
        },
        {
         "name": "higherGeography",
         "rawType": "object",
         "type": "unknown"
        },
        {
         "name": "institutionKey",
         "rawType": "object",
         "type": "unknown"
        },
        {
         "name": "collectionKey",
         "rawType": "object",
         "type": "unknown"
        },
        {
         "name": "preparations",
         "rawType": "object",
         "type": "unknown"
        },
        {
         "name": "recordNumber",
         "rawType": "object",
         "type": "unknown"
        },
        {
         "name": "institutionID",
         "rawType": "object",
         "type": "unknown"
        },
        {
         "name": "georeferenceRemarks",
         "rawType": "object",
         "type": "unknown"
        },
        {
         "name": "county",
         "rawType": "object",
         "type": "unknown"
        },
        {
         "name": "verbatimCoordinateSystem",
         "rawType": "object",
         "type": "unknown"
        },
        {
         "name": "locality",
         "rawType": "object",
         "type": "unknown"
        },
        {
         "name": "verbatimElevation",
         "rawType": "object",
         "type": "unknown"
        },
        {
         "name": "higherClassification",
         "rawType": "object",
         "type": "unknown"
        },
        {
         "name": "collectionID",
         "rawType": "object",
         "type": "unknown"
        }
       ],
       "ref": "a358af94-6e09-407e-a7ac-8b73434a20ab",
       "rows": [
        [
         "0",
         "5007273094",
         "50c9509d-22c7-4a22-a47d-8c48425ef4a7",
         "28eb1a3f-1c15-4a95-931a-4af90ecb574d",
         "997448a8-f762-11e1-a439-00145eb45e9a",
         "28eb1a3f-1c15-4a95-931a-4af90ecb574d",
         "US",
         "DWC_ARCHIVE",
         "2025-05-30T13:42:03.106+00:00",
         "2025-05-30T23:49:49.805+00:00",
         "547",
         "{'http://rs.gbif.org/terms/1.0/Multimedia': [{'http://purl.org/dc/terms/references': 'https://www.inaturalist.org/photos/462235655', 'http://purl.org/dc/terms/created': '2025-01-07T00:06:27Z', 'http://rs.tdwg.org/dwc/terms/catalogNumber': '462235655', 'http://purl.org/dc/terms/identifier': 'https://inaturalist-open-data.s3.amazonaws.com/photos/462235655/original.jpg', 'http://purl.org/dc/terms/format': 'image/jpeg', 'http://purl.org/dc/terms/rightsHolder': 'Stop4Snakes!', 'http://purl.org/dc/terms/creator': 'Stop4Snakes!', 'http://purl.org/dc/terms/license': 'http://creativecommons.org/licenses/by-nc/4.0/', 'http://purl.org/dc/terms/type': 'StillImage', 'http://purl.org/dc/terms/publisher': 'iNaturalist'}]}",
         "HUMAN_OBSERVATION",
         "PRESENT",
         "2431706",
         "1",
         "44",
         "131",
         "953",
         "6748",
         "2431705",
         "2431706",
         "2431706",
         "Aneides flavipunctatus (Strauch, 1870)",
         "Aneides flavipunctatus (Strauch, 1870)",
         "Animalia",
         "Chordata",
         "Caudata",
         "Plethodontidae",
         "Aneides",
         "Aneides flavipunctatus",
         "Aneides",
         "flavipunctatus",
         "SPECIES",
         "ACCEPTED",
         "LC",
         "2025-01-07T01:12:07",
         "38.947787",
         "-122.879322",
         "28181.0",
         "NORTH_AMERICA",
         "California",
         "{'level0': {'gid': 'USA', 'name': 'United States'}, 'level1': {'gid': 'USA.5_1', 'name': 'California'}, 'level2': {'gid': 'USA.5.17_1', 'name': 'Lake'}}",
         "2025",
         "1",
         "6",
         "2025-01-06T16:06:27",
         "6",
         "6",
         "['COORDINATE_ROUNDED', 'CONTINENT_DERIVED_FROM_COORDINATES', 'TAXON_MATCH_TAXON_ID_IGNORED']",
         "2025-01-07T17:10:53.000+00:00",
         "2025-05-30T23:49:49.805+00:00",
         "https://www.inaturalist.org/observations/257653994",
         "http://creativecommons.org/licenses/by-nc/4.0/legalcode",
         "False",
         "[{'identifier': '257653994'}]",
         "[{'type': 'StillImage', 'format': 'image/jpeg', 'references': 'https://www.inaturalist.org/photos/462235655', 'created': '2025-01-07T00:06:27.000+00:00', 'creator': 'Stop4Snakes!', 'publisher': 'iNaturalist', 'license': 'http://creativecommons.org/licenses/by-nc/4.0/', 'rightsHolder': 'Stop4Snakes!', 'identifier': 'https://inaturalist-open-data.s3.amazonaws.com/photos/462235655/original.jpg'}]",
         "[]",
         "[]",
         "False",
         "iNaturalist research-grade observations",
         "Stop4Snakes!",
         "Stop4Snakes!",
         "[]",
         "WGS84",
         "Amphibia",
         "US",
         "[]",
         "[]",
         "NORTH_AMERICA",
         "United States of America",
         "NORTH_AMERICA",
         "Stop4Snakes!",
         "257653994",
         "stop4snakes",
         "Coordinate uncertainty increased to 28181m at the request of the observer",
         "2025-01-06 16:06:27-08:00",
         "Observations",
         "5007273094",
         "California, US",
         "https://www.inaturalist.org/observations/257653994",
         "134308",
         "wild",
         "257653994",
         "iNaturalist",
         "16:06:27-08:00",
         "Finally…",
         "581032349",
         null,
         null,
         null,
         null,
         null,
         null,
         null,
         null,
         null,
         null,
         null,
         null,
         null,
         null,
         null,
         null,
         null,
         null,
         null,
         null,
         null
        ],
        [
         "1",
         "5007637661",
         "50c9509d-22c7-4a22-a47d-8c48425ef4a7",
         "28eb1a3f-1c15-4a95-931a-4af90ecb574d",
         "997448a8-f762-11e1-a439-00145eb45e9a",
         "28eb1a3f-1c15-4a95-931a-4af90ecb574d",
         "US",
         "DWC_ARCHIVE",
         "2025-05-30T13:42:03.106+00:00",
         "2025-05-31T01:20:51.102+00:00",
         "547",
         "{'http://rs.gbif.org/terms/1.0/Multimedia': [{'http://purl.org/dc/terms/references': 'https://www.inaturalist.org/photos/462235709', 'http://purl.org/dc/terms/created': '2025-01-07T00:09:00Z', 'http://rs.tdwg.org/dwc/terms/catalogNumber': '462235709', 'http://purl.org/dc/terms/identifier': 'https://inaturalist-open-data.s3.amazonaws.com/photos/462235709/original.jpg', 'http://purl.org/dc/terms/format': 'image/jpeg', 'http://purl.org/dc/terms/rightsHolder': 'Stop4Snakes!', 'http://purl.org/dc/terms/creator': 'Stop4Snakes!', 'http://purl.org/dc/terms/license': 'http://creativecommons.org/licenses/by-nc/4.0/', 'http://purl.org/dc/terms/type': 'StillImage', 'http://purl.org/dc/terms/publisher': 'iNaturalist'}]}",
         "HUMAN_OBSERVATION",
         "PRESENT",
         "2431706",
         "1",
         "44",
         "131",
         "953",
         "6748",
         "2431705",
         "2431706",
         "2431706",
         "Aneides flavipunctatus (Strauch, 1870)",
         "Aneides flavipunctatus (Strauch, 1870)",
         "Animalia",
         "Chordata",
         "Caudata",
         "Plethodontidae",
         "Aneides",
         "Aneides flavipunctatus",
         "Aneides",
         "flavipunctatus",
         "SPECIES",
         "ACCEPTED",
         "LC",
         "2025-01-07T01:12:22",
         "38.972752",
         "-122.959323",
         "28181.0",
         "NORTH_AMERICA",
         "California",
         "{'level0': {'gid': 'USA', 'name': 'United States'}, 'level1': {'gid': 'USA.5_1', 'name': 'California'}, 'level2': {'gid': 'USA.5.17_1', 'name': 'Lake'}}",
         "2025",
         "1",
         "6",
         "2025-01-06T16:09",
         "6",
         "6",
         "['COORDINATE_ROUNDED', 'CONTINENT_DERIVED_FROM_COORDINATES', 'TAXON_MATCH_TAXON_ID_IGNORED']",
         "2025-01-07T17:10:48.000+00:00",
         "2025-05-31T01:20:51.102+00:00",
         "https://www.inaturalist.org/observations/257654008",
         "http://creativecommons.org/licenses/by-nc/4.0/legalcode",
         "False",
         "[{'identifier': '257654008'}]",
         "[{'type': 'StillImage', 'format': 'image/jpeg', 'references': 'https://www.inaturalist.org/photos/462235709', 'created': '2025-01-07T00:09:00.000+00:00', 'creator': 'Stop4Snakes!', 'publisher': 'iNaturalist', 'license': 'http://creativecommons.org/licenses/by-nc/4.0/', 'rightsHolder': 'Stop4Snakes!', 'identifier': 'https://inaturalist-open-data.s3.amazonaws.com/photos/462235709/original.jpg'}]",
         "[]",
         "[]",
         "False",
         "iNaturalist research-grade observations",
         "Stop4Snakes!",
         "Stop4Snakes!",
         "[]",
         "WGS84",
         "Amphibia",
         "US",
         "[]",
         "[]",
         "NORTH_AMERICA",
         "United States of America",
         "NORTH_AMERICA",
         "Stop4Snakes!",
         "257654008",
         "stop4snakes",
         "Coordinate uncertainty increased to 28181m at the request of the observer",
         "2025-01-06 16:09:00-08:00",
         "Observations",
         "5007637661",
         "California, US",
         "https://www.inaturalist.org/observations/257654008",
         "134308",
         "wild",
         "257654008",
         "iNaturalist",
         "16:09:00-08:00",
         null,
         "581032400",
         "Adult",
         "{\"evidenceOfPresence\":\"organism\"}",
         "alive",
         null,
         null,
         null,
         null,
         null,
         null,
         null,
         null,
         null,
         null,
         null,
         null,
         null,
         null,
         null,
         null,
         null,
         null
        ],
        [
         "2",
         "5006974313",
         "50c9509d-22c7-4a22-a47d-8c48425ef4a7",
         "28eb1a3f-1c15-4a95-931a-4af90ecb574d",
         "997448a8-f762-11e1-a439-00145eb45e9a",
         "28eb1a3f-1c15-4a95-931a-4af90ecb574d",
         "US",
         "DWC_ARCHIVE",
         "2025-05-30T13:42:03.106+00:00",
         "2025-05-31T01:27:25.830+00:00",
         "547",
         "{'http://rs.gbif.org/terms/1.0/Multimedia': [{'http://purl.org/dc/terms/references': 'https://www.inaturalist.org/photos/462235905', 'http://purl.org/dc/terms/created': '2025-01-07T00:15:13Z', 'http://rs.tdwg.org/dwc/terms/catalogNumber': '462235905', 'http://purl.org/dc/terms/identifier': 'https://inaturalist-open-data.s3.amazonaws.com/photos/462235905/original.jpg', 'http://purl.org/dc/terms/format': 'image/jpeg', 'http://purl.org/dc/terms/rightsHolder': 'Stop4Snakes!', 'http://purl.org/dc/terms/creator': 'Stop4Snakes!', 'http://purl.org/dc/terms/license': 'http://creativecommons.org/licenses/by-nc/4.0/', 'http://purl.org/dc/terms/type': 'StillImage', 'http://purl.org/dc/terms/publisher': 'iNaturalist'}]}",
         "HUMAN_OBSERVATION",
         "PRESENT",
         "2431706",
         "1",
         "44",
         "131",
         "953",
         "6748",
         "2431705",
         "2431706",
         "2431706",
         "Aneides flavipunctatus (Strauch, 1870)",
         "Aneides flavipunctatus (Strauch, 1870)",
         "Animalia",
         "Chordata",
         "Caudata",
         "Plethodontidae",
         "Aneides",
         "Aneides flavipunctatus",
         "Aneides",
         "flavipunctatus",
         "SPECIES",
         "ACCEPTED",
         "LC",
         "2025-01-07T01:13:37",
         "38.883898",
         "-122.973958",
         "28181.0",
         "NORTH_AMERICA",
         "California",
         "{'level0': {'gid': 'USA', 'name': 'United States'}, 'level1': {'gid': 'USA.5_1', 'name': 'California'}, 'level2': {'gid': 'USA.5.23_1', 'name': 'Mendocino'}}",
         "2025",
         "1",
         "6",
         "2025-01-06T16:15:13",
         "6",
         "6",
         "['COORDINATE_ROUNDED', 'CONTINENT_DERIVED_FROM_COORDINATES', 'TAXON_MATCH_TAXON_ID_IGNORED']",
         "2025-01-07T19:49:34.000+00:00",
         "2025-05-31T01:27:25.830+00:00",
         "https://www.inaturalist.org/observations/257654122",
         "http://creativecommons.org/licenses/by-nc/4.0/legalcode",
         "False",
         "[{'identifier': '257654122'}]",
         "[{'type': 'StillImage', 'format': 'image/jpeg', 'references': 'https://www.inaturalist.org/photos/462235905', 'created': '2025-01-07T00:15:13.000+00:00', 'creator': 'Stop4Snakes!', 'publisher': 'iNaturalist', 'license': 'http://creativecommons.org/licenses/by-nc/4.0/', 'rightsHolder': 'Stop4Snakes!', 'identifier': 'https://inaturalist-open-data.s3.amazonaws.com/photos/462235905/original.jpg'}]",
         "[]",
         "[]",
         "False",
         "iNaturalist research-grade observations",
         "Stop4Snakes!",
         "Stop4Snakes!",
         "[]",
         "WGS84",
         "Amphibia",
         "US",
         "[]",
         "[]",
         "NORTH_AMERICA",
         "United States of America",
         "NORTH_AMERICA",
         "Stop4Snakes!",
         "257654122",
         "stop4snakes",
         "Coordinate uncertainty increased to 28181m at the request of the observer",
         "2025-01-06 16:15:13-08:00",
         "Observations",
         "5006974313",
         "California, US",
         "https://www.inaturalist.org/observations/257654122",
         "134308",
         "wild",
         "257654122",
         "iNaturalist",
         "16:15:13-08:00",
         null,
         "581032698",
         "Adult",
         "{\"evidenceOfPresence\":\"organism\"}",
         "alive",
         null,
         null,
         null,
         null,
         null,
         null,
         null,
         null,
         null,
         null,
         null,
         null,
         null,
         null,
         null,
         null,
         null,
         null
        ],
        [
         "3",
         "5007696395",
         "50c9509d-22c7-4a22-a47d-8c48425ef4a7",
         "28eb1a3f-1c15-4a95-931a-4af90ecb574d",
         "997448a8-f762-11e1-a439-00145eb45e9a",
         "28eb1a3f-1c15-4a95-931a-4af90ecb574d",
         "US",
         "DWC_ARCHIVE",
         "2025-05-30T13:42:03.106+00:00",
         "2025-05-30T23:39:15.206+00:00",
         "547",
         "{'http://rs.gbif.org/terms/1.0/Multimedia': [{'http://purl.org/dc/terms/references': 'https://www.inaturalist.org/photos/462236060', 'http://purl.org/dc/terms/created': '2025-01-07T00:18:07Z', 'http://rs.tdwg.org/dwc/terms/catalogNumber': '462236060', 'http://purl.org/dc/terms/identifier': 'https://inaturalist-open-data.s3.amazonaws.com/photos/462236060/original.jpg', 'http://purl.org/dc/terms/format': 'image/jpeg', 'http://purl.org/dc/terms/rightsHolder': 'Stop4Snakes!', 'http://purl.org/dc/terms/creator': 'Stop4Snakes!', 'http://purl.org/dc/terms/license': 'http://creativecommons.org/licenses/by-nc/4.0/', 'http://purl.org/dc/terms/type': 'StillImage', 'http://purl.org/dc/terms/publisher': 'iNaturalist'}]}",
         "HUMAN_OBSERVATION",
         "PRESENT",
         "2431706",
         "1",
         "44",
         "131",
         "953",
         "6748",
         "2431705",
         "2431706",
         "2431706",
         "Aneides flavipunctatus (Strauch, 1870)",
         "Aneides flavipunctatus (Strauch, 1870)",
         "Animalia",
         "Chordata",
         "Caudata",
         "Plethodontidae",
         "Aneides",
         "Aneides flavipunctatus",
         "Aneides",
         "flavipunctatus",
         "SPECIES",
         "ACCEPTED",
         "LC",
         "2025-01-07T01:14:33",
         "38.998134",
         "-122.925068",
         "28181.0",
         "NORTH_AMERICA",
         "California",
         "{'level0': {'gid': 'USA', 'name': 'United States'}, 'level1': {'gid': 'USA.5_1', 'name': 'California'}, 'level2': {'gid': 'USA.5.17_1', 'name': 'Lake'}}",
         "2025",
         "1",
         "6",
         "2025-01-06T16:18:07",
         "6",
         "6",
         "['COORDINATE_ROUNDED', 'CONTINENT_DERIVED_FROM_COORDINATES', 'TAXON_MATCH_TAXON_ID_IGNORED']",
         "2025-01-07T17:09:59.000+00:00",
         "2025-05-30T23:39:15.206+00:00",
         "https://www.inaturalist.org/observations/257654173",
         "http://creativecommons.org/licenses/by-nc/4.0/legalcode",
         "False",
         "[{'identifier': '257654173'}]",
         "[{'type': 'StillImage', 'format': 'image/jpeg', 'references': 'https://www.inaturalist.org/photos/462236060', 'created': '2025-01-07T00:18:07.000+00:00', 'creator': 'Stop4Snakes!', 'publisher': 'iNaturalist', 'license': 'http://creativecommons.org/licenses/by-nc/4.0/', 'rightsHolder': 'Stop4Snakes!', 'identifier': 'https://inaturalist-open-data.s3.amazonaws.com/photos/462236060/original.jpg'}]",
         "[]",
         "[]",
         "False",
         "iNaturalist research-grade observations",
         "Stop4Snakes!",
         "Stop4Snakes!",
         "[]",
         "WGS84",
         "Amphibia",
         "US",
         "[]",
         "[]",
         "NORTH_AMERICA",
         "United States of America",
         "NORTH_AMERICA",
         "Stop4Snakes!",
         "257654173",
         "stop4snakes",
         "Coordinate uncertainty increased to 28181m at the request of the observer",
         "2025-01-06 16:18:07-08:00",
         "Observations",
         "5007696395",
         "California, US",
         "https://www.inaturalist.org/observations/257654173",
         "134308",
         "wild",
         "257654173",
         "iNaturalist",
         "16:18:07-08:00",
         "Triple flip, but there’s 4 in my hand since one from the log next to this one scampered under this one right after capture.",
         "581032893",
         "Adult",
         "{\"evidenceOfPresence\":\"organism\"}",
         "alive",
         null,
         null,
         null,
         null,
         null,
         null,
         null,
         null,
         null,
         null,
         null,
         null,
         null,
         null,
         null,
         null,
         null,
         null
        ],
        [
         "4",
         "5007343812",
         "50c9509d-22c7-4a22-a47d-8c48425ef4a7",
         "28eb1a3f-1c15-4a95-931a-4af90ecb574d",
         "997448a8-f762-11e1-a439-00145eb45e9a",
         "28eb1a3f-1c15-4a95-931a-4af90ecb574d",
         "US",
         "DWC_ARCHIVE",
         "2025-05-30T13:42:03.106+00:00",
         "2025-05-30T23:48:57.333+00:00",
         "547",
         "{'http://rs.gbif.org/terms/1.0/Multimedia': [{'http://purl.org/dc/terms/references': 'https://www.inaturalist.org/photos/462236075', 'http://purl.org/dc/terms/created': '2025-01-07T00:18:46Z', 'http://rs.tdwg.org/dwc/terms/catalogNumber': '462236075', 'http://purl.org/dc/terms/identifier': 'https://inaturalist-open-data.s3.amazonaws.com/photos/462236075/original.jpg', 'http://purl.org/dc/terms/format': 'image/jpeg', 'http://purl.org/dc/terms/rightsHolder': 'Stop4Snakes!', 'http://purl.org/dc/terms/creator': 'Stop4Snakes!', 'http://purl.org/dc/terms/license': 'http://creativecommons.org/licenses/by-nc/4.0/', 'http://purl.org/dc/terms/type': 'StillImage', 'http://purl.org/dc/terms/publisher': 'iNaturalist'}]}",
         "HUMAN_OBSERVATION",
         "PRESENT",
         "2431706",
         "1",
         "44",
         "131",
         "953",
         "6748",
         "2431705",
         "2431706",
         "2431706",
         "Aneides flavipunctatus (Strauch, 1870)",
         "Aneides flavipunctatus (Strauch, 1870)",
         "Animalia",
         "Chordata",
         "Caudata",
         "Plethodontidae",
         "Aneides",
         "Aneides flavipunctatus",
         "Aneides",
         "flavipunctatus",
         "SPECIES",
         "ACCEPTED",
         "LC",
         "2025-01-07T01:14:49",
         "38.846875",
         "-122.813862",
         "28181.0",
         "NORTH_AMERICA",
         "California",
         "{'level0': {'gid': 'USA', 'name': 'United States'}, 'level1': {'gid': 'USA.5_1', 'name': 'California'}, 'level2': {'gid': 'USA.5.17_1', 'name': 'Lake'}}",
         "2025",
         "1",
         "6",
         "2025-01-06T16:18:46",
         "6",
         "6",
         "['COORDINATE_ROUNDED', 'CONTINENT_DERIVED_FROM_COORDINATES', 'TAXON_MATCH_TAXON_ID_IGNORED']",
         "2025-01-07T17:08:35.000+00:00",
         "2025-05-30T23:48:57.333+00:00",
         "https://www.inaturalist.org/observations/257654184",
         "http://creativecommons.org/licenses/by-nc/4.0/legalcode",
         "False",
         "[{'identifier': '257654184'}]",
         "[{'type': 'StillImage', 'format': 'image/jpeg', 'references': 'https://www.inaturalist.org/photos/462236075', 'created': '2025-01-07T00:18:46.000+00:00', 'creator': 'Stop4Snakes!', 'publisher': 'iNaturalist', 'license': 'http://creativecommons.org/licenses/by-nc/4.0/', 'rightsHolder': 'Stop4Snakes!', 'identifier': 'https://inaturalist-open-data.s3.amazonaws.com/photos/462236075/original.jpg'}]",
         "[]",
         "[]",
         "False",
         "iNaturalist research-grade observations",
         "Stop4Snakes!",
         "Stop4Snakes!",
         "[]",
         "WGS84",
         "Amphibia",
         "US",
         "[]",
         "[]",
         "NORTH_AMERICA",
         "United States of America",
         "NORTH_AMERICA",
         "Stop4Snakes!",
         "257654184",
         "stop4snakes",
         "Coordinate uncertainty increased to 28181m at the request of the observer",
         "2025-01-06 16:18:46-08:00",
         "Observations",
         "5007343812",
         "California, US",
         "https://www.inaturalist.org/observations/257654184",
         "134308",
         "wild",
         "257654184",
         "iNaturalist",
         "16:18:46-08:00",
         null,
         "581032945",
         null,
         null,
         null,
         null,
         null,
         null,
         null,
         null,
         null,
         null,
         null,
         null,
         null,
         null,
         null,
         null,
         null,
         null,
         null,
         null,
         null
        ]
       ],
       "shape": {
        "columns": 108,
        "rows": 5
       }
      },
      "text/html": [
       "<div>\n",
       "<style scoped>\n",
       "    .dataframe tbody tr th:only-of-type {\n",
       "        vertical-align: middle;\n",
       "    }\n",
       "\n",
       "    .dataframe tbody tr th {\n",
       "        vertical-align: top;\n",
       "    }\n",
       "\n",
       "    .dataframe thead th {\n",
       "        text-align: right;\n",
       "    }\n",
       "</style>\n",
       "<table border=\"1\" class=\"dataframe\">\n",
       "  <thead>\n",
       "    <tr style=\"text-align: right;\">\n",
       "      <th></th>\n",
       "      <th>key</th>\n",
       "      <th>datasetKey</th>\n",
       "      <th>publishingOrgKey</th>\n",
       "      <th>installationKey</th>\n",
       "      <th>hostingOrganizationKey</th>\n",
       "      <th>publishingCountry</th>\n",
       "      <th>protocol</th>\n",
       "      <th>lastCrawled</th>\n",
       "      <th>lastParsed</th>\n",
       "      <th>crawlId</th>\n",
       "      <th>...</th>\n",
       "      <th>preparations</th>\n",
       "      <th>recordNumber</th>\n",
       "      <th>institutionID</th>\n",
       "      <th>georeferenceRemarks</th>\n",
       "      <th>county</th>\n",
       "      <th>verbatimCoordinateSystem</th>\n",
       "      <th>locality</th>\n",
       "      <th>verbatimElevation</th>\n",
       "      <th>higherClassification</th>\n",
       "      <th>collectionID</th>\n",
       "    </tr>\n",
       "  </thead>\n",
       "  <tbody>\n",
       "    <tr>\n",
       "      <th>0</th>\n",
       "      <td>5007273094</td>\n",
       "      <td>50c9509d-22c7-4a22-a47d-8c48425ef4a7</td>\n",
       "      <td>28eb1a3f-1c15-4a95-931a-4af90ecb574d</td>\n",
       "      <td>997448a8-f762-11e1-a439-00145eb45e9a</td>\n",
       "      <td>28eb1a3f-1c15-4a95-931a-4af90ecb574d</td>\n",
       "      <td>US</td>\n",
       "      <td>DWC_ARCHIVE</td>\n",
       "      <td>2025-05-30T13:42:03.106+00:00</td>\n",
       "      <td>2025-05-30T23:49:49.805+00:00</td>\n",
       "      <td>547</td>\n",
       "      <td>...</td>\n",
       "      <td>NaN</td>\n",
       "      <td>NaN</td>\n",
       "      <td>NaN</td>\n",
       "      <td>NaN</td>\n",
       "      <td>NaN</td>\n",
       "      <td>NaN</td>\n",
       "      <td>NaN</td>\n",
       "      <td>NaN</td>\n",
       "      <td>NaN</td>\n",
       "      <td>NaN</td>\n",
       "    </tr>\n",
       "    <tr>\n",
       "      <th>1</th>\n",
       "      <td>5007637661</td>\n",
       "      <td>50c9509d-22c7-4a22-a47d-8c48425ef4a7</td>\n",
       "      <td>28eb1a3f-1c15-4a95-931a-4af90ecb574d</td>\n",
       "      <td>997448a8-f762-11e1-a439-00145eb45e9a</td>\n",
       "      <td>28eb1a3f-1c15-4a95-931a-4af90ecb574d</td>\n",
       "      <td>US</td>\n",
       "      <td>DWC_ARCHIVE</td>\n",
       "      <td>2025-05-30T13:42:03.106+00:00</td>\n",
       "      <td>2025-05-31T01:20:51.102+00:00</td>\n",
       "      <td>547</td>\n",
       "      <td>...</td>\n",
       "      <td>NaN</td>\n",
       "      <td>NaN</td>\n",
       "      <td>NaN</td>\n",
       "      <td>NaN</td>\n",
       "      <td>NaN</td>\n",
       "      <td>NaN</td>\n",
       "      <td>NaN</td>\n",
       "      <td>NaN</td>\n",
       "      <td>NaN</td>\n",
       "      <td>NaN</td>\n",
       "    </tr>\n",
       "    <tr>\n",
       "      <th>2</th>\n",
       "      <td>5006974313</td>\n",
       "      <td>50c9509d-22c7-4a22-a47d-8c48425ef4a7</td>\n",
       "      <td>28eb1a3f-1c15-4a95-931a-4af90ecb574d</td>\n",
       "      <td>997448a8-f762-11e1-a439-00145eb45e9a</td>\n",
       "      <td>28eb1a3f-1c15-4a95-931a-4af90ecb574d</td>\n",
       "      <td>US</td>\n",
       "      <td>DWC_ARCHIVE</td>\n",
       "      <td>2025-05-30T13:42:03.106+00:00</td>\n",
       "      <td>2025-05-31T01:27:25.830+00:00</td>\n",
       "      <td>547</td>\n",
       "      <td>...</td>\n",
       "      <td>NaN</td>\n",
       "      <td>NaN</td>\n",
       "      <td>NaN</td>\n",
       "      <td>NaN</td>\n",
       "      <td>NaN</td>\n",
       "      <td>NaN</td>\n",
       "      <td>NaN</td>\n",
       "      <td>NaN</td>\n",
       "      <td>NaN</td>\n",
       "      <td>NaN</td>\n",
       "    </tr>\n",
       "    <tr>\n",
       "      <th>3</th>\n",
       "      <td>5007696395</td>\n",
       "      <td>50c9509d-22c7-4a22-a47d-8c48425ef4a7</td>\n",
       "      <td>28eb1a3f-1c15-4a95-931a-4af90ecb574d</td>\n",
       "      <td>997448a8-f762-11e1-a439-00145eb45e9a</td>\n",
       "      <td>28eb1a3f-1c15-4a95-931a-4af90ecb574d</td>\n",
       "      <td>US</td>\n",
       "      <td>DWC_ARCHIVE</td>\n",
       "      <td>2025-05-30T13:42:03.106+00:00</td>\n",
       "      <td>2025-05-30T23:39:15.206+00:00</td>\n",
       "      <td>547</td>\n",
       "      <td>...</td>\n",
       "      <td>NaN</td>\n",
       "      <td>NaN</td>\n",
       "      <td>NaN</td>\n",
       "      <td>NaN</td>\n",
       "      <td>NaN</td>\n",
       "      <td>NaN</td>\n",
       "      <td>NaN</td>\n",
       "      <td>NaN</td>\n",
       "      <td>NaN</td>\n",
       "      <td>NaN</td>\n",
       "    </tr>\n",
       "    <tr>\n",
       "      <th>4</th>\n",
       "      <td>5007343812</td>\n",
       "      <td>50c9509d-22c7-4a22-a47d-8c48425ef4a7</td>\n",
       "      <td>28eb1a3f-1c15-4a95-931a-4af90ecb574d</td>\n",
       "      <td>997448a8-f762-11e1-a439-00145eb45e9a</td>\n",
       "      <td>28eb1a3f-1c15-4a95-931a-4af90ecb574d</td>\n",
       "      <td>US</td>\n",
       "      <td>DWC_ARCHIVE</td>\n",
       "      <td>2025-05-30T13:42:03.106+00:00</td>\n",
       "      <td>2025-05-30T23:48:57.333+00:00</td>\n",
       "      <td>547</td>\n",
       "      <td>...</td>\n",
       "      <td>NaN</td>\n",
       "      <td>NaN</td>\n",
       "      <td>NaN</td>\n",
       "      <td>NaN</td>\n",
       "      <td>NaN</td>\n",
       "      <td>NaN</td>\n",
       "      <td>NaN</td>\n",
       "      <td>NaN</td>\n",
       "      <td>NaN</td>\n",
       "      <td>NaN</td>\n",
       "    </tr>\n",
       "  </tbody>\n",
       "</table>\n",
       "<p>5 rows × 108 columns</p>\n",
       "</div>"
      ],
      "text/plain": [
       "          key                            datasetKey  \\\n",
       "0  5007273094  50c9509d-22c7-4a22-a47d-8c48425ef4a7   \n",
       "1  5007637661  50c9509d-22c7-4a22-a47d-8c48425ef4a7   \n",
       "2  5006974313  50c9509d-22c7-4a22-a47d-8c48425ef4a7   \n",
       "3  5007696395  50c9509d-22c7-4a22-a47d-8c48425ef4a7   \n",
       "4  5007343812  50c9509d-22c7-4a22-a47d-8c48425ef4a7   \n",
       "\n",
       "                       publishingOrgKey                       installationKey  \\\n",
       "0  28eb1a3f-1c15-4a95-931a-4af90ecb574d  997448a8-f762-11e1-a439-00145eb45e9a   \n",
       "1  28eb1a3f-1c15-4a95-931a-4af90ecb574d  997448a8-f762-11e1-a439-00145eb45e9a   \n",
       "2  28eb1a3f-1c15-4a95-931a-4af90ecb574d  997448a8-f762-11e1-a439-00145eb45e9a   \n",
       "3  28eb1a3f-1c15-4a95-931a-4af90ecb574d  997448a8-f762-11e1-a439-00145eb45e9a   \n",
       "4  28eb1a3f-1c15-4a95-931a-4af90ecb574d  997448a8-f762-11e1-a439-00145eb45e9a   \n",
       "\n",
       "                 hostingOrganizationKey publishingCountry     protocol  \\\n",
       "0  28eb1a3f-1c15-4a95-931a-4af90ecb574d                US  DWC_ARCHIVE   \n",
       "1  28eb1a3f-1c15-4a95-931a-4af90ecb574d                US  DWC_ARCHIVE   \n",
       "2  28eb1a3f-1c15-4a95-931a-4af90ecb574d                US  DWC_ARCHIVE   \n",
       "3  28eb1a3f-1c15-4a95-931a-4af90ecb574d                US  DWC_ARCHIVE   \n",
       "4  28eb1a3f-1c15-4a95-931a-4af90ecb574d                US  DWC_ARCHIVE   \n",
       "\n",
       "                     lastCrawled                     lastParsed  crawlId  ...  \\\n",
       "0  2025-05-30T13:42:03.106+00:00  2025-05-30T23:49:49.805+00:00      547  ...   \n",
       "1  2025-05-30T13:42:03.106+00:00  2025-05-31T01:20:51.102+00:00      547  ...   \n",
       "2  2025-05-30T13:42:03.106+00:00  2025-05-31T01:27:25.830+00:00      547  ...   \n",
       "3  2025-05-30T13:42:03.106+00:00  2025-05-30T23:39:15.206+00:00      547  ...   \n",
       "4  2025-05-30T13:42:03.106+00:00  2025-05-30T23:48:57.333+00:00      547  ...   \n",
       "\n",
       "  preparations recordNumber institutionID  georeferenceRemarks  county  \\\n",
       "0          NaN          NaN           NaN                  NaN     NaN   \n",
       "1          NaN          NaN           NaN                  NaN     NaN   \n",
       "2          NaN          NaN           NaN                  NaN     NaN   \n",
       "3          NaN          NaN           NaN                  NaN     NaN   \n",
       "4          NaN          NaN           NaN                  NaN     NaN   \n",
       "\n",
       "   verbatimCoordinateSystem  locality  verbatimElevation  \\\n",
       "0                       NaN       NaN                NaN   \n",
       "1                       NaN       NaN                NaN   \n",
       "2                       NaN       NaN                NaN   \n",
       "3                       NaN       NaN                NaN   \n",
       "4                       NaN       NaN                NaN   \n",
       "\n",
       "   higherClassification  collectionID  \n",
       "0                   NaN           NaN  \n",
       "1                   NaN           NaN  \n",
       "2                   NaN           NaN  \n",
       "3                   NaN           NaN  \n",
       "4                   NaN           NaN  \n",
       "\n",
       "[5 rows x 108 columns]"
      ]
     },
     "execution_count": 19,
     "metadata": {},
     "output_type": "execute_result"
    }
   ],
   "source": [
    "records_df = pd.DataFrame(records)   # converts the JSON above to a dataframe\n",
    "records_df.head()  # prints the first five rows of the dataframe"
   ]
  },
  {
   "cell_type": "markdown",
   "metadata": {},
   "source": [
    "Since each column (or row) above can be thought of as a `list`, that means we can use list functions to interact with them! One such function is the `len` function to get the number of elements in a `list`:"
   ]
  },
  {
   "cell_type": "code",
   "execution_count": 20,
   "metadata": {},
   "outputs": [
    {
     "data": {
      "text/plain": [
       "(108, 485)"
      ]
     },
     "execution_count": 20,
     "metadata": {},
     "output_type": "execute_result"
    }
   ],
   "source": [
    "len(records_df.columns), len(records_df)"
   ]
  },
  {
   "cell_type": "markdown",
   "metadata": {},
   "source": [
    "How many columns are there? (hint: first value) How many records/rows? (hint: it's the other value)! That's a lot of information. What variables do we have in the columns?"
   ]
  },
  {
   "cell_type": "code",
   "execution_count": 21,
   "metadata": {},
   "outputs": [
    {
     "data": {
      "text/plain": [
       "Index(['key', 'datasetKey', 'publishingOrgKey', 'installationKey', 'hostingOrganizationKey', 'publishingCountry', 'protocol', 'lastCrawled', 'lastParsed', 'crawlId',\n",
       "       ...\n",
       "       'preparations', 'recordNumber', 'institutionID', 'georeferenceRemarks', 'county', 'verbatimCoordinateSystem', 'locality', 'verbatimElevation', 'higherClassification', 'collectionID'], dtype='object', length=108)"
      ]
     },
     "execution_count": 21,
     "metadata": {},
     "output_type": "execute_result"
    }
   ],
   "source": [
    "records_df.columns"
   ]
  },
  {
   "cell_type": "markdown",
   "metadata": {},
   "source": [
    "We can use two methods from `pandas` to do a lot more. The `value_counts()` method will tabulate the frequency of the row value in a column, and the `plot.barh()` will plot us a horizontal bar chart:"
   ]
  },
  {
   "cell_type": "code",
   "execution_count": 22,
   "metadata": {},
   "outputs": [
    {
     "data": {
      "application/vnd.microsoft.datawrangler.viewer.v0+json": {
       "columns": [
        {
         "name": "country",
         "rawType": "object",
         "type": "string"
        },
        {
         "name": "count",
         "rawType": "int64",
         "type": "integer"
        }
       ],
       "ref": "d7e7286d-1d55-486e-b799-256eb03028d0",
       "rows": [
        [
         "United States of America",
         "485"
        ]
       ],
       "shape": {
        "columns": 1,
        "rows": 1
       }
      },
      "text/plain": [
       "country\n",
       "United States of America    485\n",
       "Name: count, dtype: int64"
      ]
     },
     "execution_count": 22,
     "metadata": {},
     "output_type": "execute_result"
    }
   ],
   "source": [
    "records_df['country'].value_counts()"
   ]
  },
  {
   "cell_type": "code",
   "execution_count": 23,
   "metadata": {},
   "outputs": [
    {
     "data": {
      "image/png": "[encoded data removed]",
      "text/plain": [
       "<Figure size 640x480 with 1 Axes>"
      ]
     },
     "metadata": {},
     "output_type": "display_data"
    }
   ],
   "source": [
    "%matplotlib inline\n",
    "records_df['country'].value_counts().plot.barh();"
   ]
  },
  {
   "cell_type": "code",
   "execution_count": 24,
   "metadata": {},
   "outputs": [
    {
     "data": {
      "image/png": "[encoded data removed]",
      "text/plain": [
       "<Figure size 1800x1000 with 1 Axes>"
      ]
     },
     "metadata": {},
     "output_type": "display_data"
    }
   ],
   "source": [
    "records_df['county'].value_counts().plot.barh(figsize=(18,10));"
   ]
  },
  {
   "cell_type": "code",
   "execution_count": 25,
   "metadata": {},
   "outputs": [
    {
     "data": {
      "image/png": "[encoded data removed]",
      "text/plain": [
       "<Figure size 640x480 with 1 Axes>"
      ]
     },
     "metadata": {},
     "output_type": "display_data"
    }
   ],
   "source": [
    "records_df['basisOfRecord'].value_counts().plot.barh();"
   ]
  },
  {
   "cell_type": "code",
   "execution_count": 26,
   "metadata": {},
   "outputs": [
    {
     "data": {
      "image/png": "[encoded data removed]",
      "text/plain": [
       "<Figure size 640x480 with 1 Axes>"
      ]
     },
     "metadata": {},
     "output_type": "display_data"
    }
   ],
   "source": [
    "records_df['institutionCode'].value_counts().plot.barh();"
   ]
  },
  {
   "cell_type": "markdown",
   "metadata": {},
   "source": [
    "The `groupby()` method allows us to count based one column based on another, and then color the bar chart differently depending on a variable of our choice:"
   ]
  },
  {
   "cell_type": "code",
   "execution_count": 27,
   "metadata": {},
   "outputs": [
    {
     "data": {
      "application/vnd.microsoft.datawrangler.viewer.v0+json": {
       "columns": [
        {
         "name": "('institutionCode', 'basisOfRecord')",
         "rawType": "object",
         "type": "unknown"
        },
        {
         "name": "basisOfRecord",
         "rawType": "int64",
         "type": "integer"
        }
       ],
       "ref": "3f52c05b-b129-45ea-ac66-c2739cf46b3d",
       "rows": [
        [
         "('CAS', 'PRESERVED_SPECIMEN')",
         "5"
        ],
        [
         "('iNaturalist', 'HUMAN_OBSERVATION')",
         "480"
        ]
       ],
       "shape": {
        "columns": 1,
        "rows": 2
       }
      },
      "text/plain": [
       "institutionCode  basisOfRecord     \n",
       "CAS              PRESERVED_SPECIMEN      5\n",
       "iNaturalist      HUMAN_OBSERVATION     480\n",
       "Name: basisOfRecord, dtype: int64"
      ]
     },
     "execution_count": 27,
     "metadata": {},
     "output_type": "execute_result"
    }
   ],
   "source": [
    "records_df.groupby([\"institutionCode\", \"basisOfRecord\"])['basisOfRecord'].count()"
   ]
  },
  {
   "cell_type": "code",
   "execution_count": 28,
   "metadata": {},
   "outputs": [
    {
     "data": {
      "image/png": "[encoded data removed]",
      "text/plain": [
       "<Figure size 640x480 with 1 Axes>"
      ]
     },
     "metadata": {},
     "output_type": "display_data"
    }
   ],
   "source": [
    "records_df.groupby([\"institutionCode\", \"basisOfRecord\"])['basisOfRecord'].count().unstack().plot.barh(stacked=True);"
   ]
  },
  {
   "cell_type": "markdown",
   "metadata": {},
   "source": [
    "And we can use `plot.hist()` to make a histogram:"
   ]
  },
  {
   "cell_type": "code",
   "execution_count": 29,
   "metadata": {},
   "outputs": [
    {
     "data": {
      "image/png": "[encoded data removed]",
      "text/plain": [
       "<Figure size 640x480 with 1 Axes>"
      ]
     },
     "metadata": {},
     "output_type": "display_data"
    }
   ],
   "source": [
    "records_df['elevation'].plot.hist();"
   ]
  },
  {
   "cell_type": "markdown",
   "metadata": {},
   "source": [
    "<div class=\"alert alert-info\">\n",
    "Question: What does the above plot tell us about the elevation range of this species? In other words is this likely a low elevation species or montane? Type your response below in the blank cell.\n",
    "    </div>"
   ]
  },
  {
   "cell_type": "raw",
   "metadata": {},
   "source": []
  },
  {
   "cell_type": "code",
   "execution_count": 30,
   "metadata": {},
   "outputs": [
    {
     "data": {
      "image/png": "[encoded data removed]",
      "text/plain": [
       "<Figure size 640x480 with 1 Axes>"
      ]
     },
     "metadata": {},
     "output_type": "display_data"
    }
   ],
   "source": [
    "#When were these records collected?\n",
    "records_df['year'].plot.hist();"
   ]
  },
  {
   "cell_type": "markdown",
   "metadata": {},
   "source": [
    "---\n",
    "\n",
    "### Mapping\n",
    "\n",
    "Now we can map our latitude and longitude points. We'll want to color code by `institutionCode` so we can see which collection made the observation or has the specimen. We'll use a function that does this automatically, and it will randomly generate a color-- so if you don't like the colors you see, try running the cell again!"
   ]
  },
  {
   "cell_type": "code",
   "execution_count": 31,
   "metadata": {},
   "outputs": [
    {
     "data": {
      "text/html": [
       "<tbody><tr>\n",
       "    <th style=\"width:25%\">institutionCode</th>\n",
       "    <th style=\"width:15%\">HEX</th>\n",
       "    <th style=\"width:43%\">Color</th>\n",
       "    </tr>\n",
       "    \n",
       "    <tr>\n",
       "    <td>iNaturalist&nbsp;</td>\n",
       "    <td>HEX</td>\n",
       "    <td style=\"background-color:HEX\">&nbsp;</td>\n",
       "    </tr>\n",
       "    </tbody>\n",
       "    \n",
       "    <tr>\n",
       "    <td>CAS&nbsp;</td>\n",
       "    <td>HEX</td>\n",
       "    <td style=\"background-color:HEX\">&nbsp;</td>\n",
       "    </tr>\n",
       "    </tbody>\n",
       "    </tbody>"
      ],
      "text/plain": [
       "<IPython.core.display.HTML object>"
      ]
     },
     "metadata": {},
     "output_type": "display_data"
    }
   ],
   "source": [
    "color_dict, html_key = assign_colors(records_df, \"institutionCode\")\n",
    "display(HTML(html_key))"
   ]
  },
  {
   "cell_type": "code",
   "execution_count": 32,
   "metadata": {},
   "outputs": [
    {
     "data": {
      "text/html": [
       "<tbody><tr>\n",
       "    <th style=\"width:25%\">institutionCode</th>\n",
       "    <th style=\"width:15%\">HEX</th>\n",
       "    <th style=\"width:43%\">Color</th>\n",
       "    </tr>\n",
       "    \n",
       "    <tr>\n",
       "    <td>iNaturalist&nbsp;</td>\n",
       "    <td>HEX</td>\n",
       "    <td style=\"background-color:HEX\">&nbsp;</td>\n",
       "    </tr>\n",
       "    </tbody>\n",
       "    \n",
       "    <tr>\n",
       "    <td>CAS&nbsp;</td>\n",
       "    <td>HEX</td>\n",
       "    <td style=\"background-color:HEX\">&nbsp;</td>\n",
       "    </tr>\n",
       "    </tbody>\n",
       "    </tbody>"
      ],
      "text/plain": [
       "<IPython.core.display.HTML object>"
      ]
     },
     "metadata": {},
     "output_type": "display_data"
    }
   ],
   "source": [
    "#Did you get an error in the last cell? If so you may have a corrupt or old variable so please run this cell\n",
    "#to re-run your original search\n",
    "#If you did not get an error, skip this cell and keep going!\n",
    "\n",
    "my_req = GBIFRequest()  # creating a request to the API\n",
    "my_params = {'scientificName': 'Aneides flavipunctatus'}  # setting our parameters (the specific species we want)\n",
    "my_pages = my_req.get_pages(my_params)  # using those parameters to complete the request\n",
    "my_records = [rec for page in my_pages for rec in page['results'] if rec.get('decimalLatitude')]  # sift out valid records\n",
    "records_df = pd.DataFrame(my_records) \n",
    "\n",
    "color_dict, html_key = assign_colors(records_df,'institutionCode');\n",
    "display(HTML(html_key))"
   ]
  },
  {
   "cell_type": "markdown",
   "metadata": {},
   "source": [
    "Now we can map the points!"
   ]
  },
  {
   "cell_type": "code",
   "execution_count": null,
   "metadata": {
    "scrolled": false
   },
   "outputs": [],
   "source": [
    "mapa = folium.Map(location=[37.359276, -122.179626], zoom_start=5) # Folium is a useful library for generating\n",
    "                                                                   # Google maps-like map visualizations.\n",
    "for r in records_df.iterrows():\n",
    "    lat = r[1]['decimalLatitude']\n",
    "    long = r[1]['decimalLongitude']\n",
    "    folium.CircleMarker((lat, long), color=color_dict[r[1]['institutionCode']], popup=r[1]['basisOfRecord']).add_to(mapa)\n",
    "mapa"
   ]
  },
  {
   "cell_type": "markdown",
   "metadata": {},
   "source": [
    "---\n",
    "\n",
    "To get the boundries for all the reserves, we will need to send a request to get GeoJSON, which is a format for encoding a variety of geographic data structures. With this code, we can request GeoJSON for all reserves and plot ocurrences of the species. First we'll assign the API URL that has the data to a new variable `url`:"
   ]
  },
  {
   "cell_type": "code",
   "execution_count": null,
   "metadata": {},
   "outputs": [],
   "source": [
    "url = 'https://ecoengine.berkeley.edu/api/layers/reserves/features/'"
   ]
  },
  {
   "cell_type": "markdown",
   "metadata": {},
   "source": [
    "Now we make the requests just like we did earlier through the GBIF:"
   ]
  },
  {
   "cell_type": "code",
   "execution_count": null,
   "metadata": {},
   "outputs": [],
   "source": [
    "# NOTE: The following cell and any cells relying on the reserves variable will not work, as the EcoEngine API has been deprecated.\n",
    "# A data request to the EcoEngine team is in progress to receive the data, and will be updated in the future.\n",
    "# If this comment is still present, data has not yet been obtained; we recommend you skip to section 3.\n",
    "reserves = requests.get(url, params={'page_size': 30}).json()\n",
    "reserves"
   ]
  },
  {
   "cell_type": "markdown",
   "metadata": {},
   "source": [
    "If you look closely, this is just bounding boxes for the latitude and longitude of the reserves.\n",
    "\n",
    "There are some reserves that the EcoEngine didn't catch, we'll add the information for \"Blodgett\", \"Hopland\", and \"Sagehen\":"
   ]
  },
  {
   "cell_type": "code",
   "execution_count": null,
   "metadata": {
    "scrolled": true
   },
   "outputs": [],
   "source": [
    "station_urls = {\n",
    "    'Blodgett': 'https://raw.githubusercontent.com/BNHM/spatial-layers/master/wkt/BlodgettForestResearchStation.wkt',\n",
    "    'Hopland': 'https://raw.githubusercontent.com/BNHM/spatial-layers/master/wkt/HoplandResearchAndExtensionCenter.wkt',\n",
    "    'Sagehen': 'https://raw.githubusercontent.com/BNHM/spatial-layers/master/wkt/SagehenCreekFieldStation.wkt'\n",
    "}\n",
    "reserves['features'] += [{'type': \"Feature\", 'properties': {\"name\": name}, 'geometry': mapping(wkt.loads(requests.get(url).text))}\n",
    "                for name, url in station_urls.items()]"
   ]
  },
  {
   "cell_type": "markdown",
   "metadata": {},
   "source": [
    "We can see all the station names by indexing the `name` value for the reserves:"
   ]
  },
  {
   "cell_type": "code",
   "execution_count": null,
   "metadata": {},
   "outputs": [],
   "source": [
    "[r['properties']['name'] for r in reserves['features']]"
   ]
  },
  {
   "cell_type": "markdown",
   "metadata": {},
   "source": [
    "We can send this `geojson` directly to our mapping library `folium`. You'll have to zoom in, but you should see blue outlines areas, there are the reserves!:"
   ]
  },
  {
   "cell_type": "code",
   "execution_count": null,
   "metadata": {
    "scrolled": true
   },
   "outputs": [],
   "source": [
    "mapb = folium.Map(location=[37.359276, -122.179626], zoom_start=5) \n",
    "\n",
    "wkt = folium.features.GeoJson(reserves)\n",
    "mapb.add_child(wkt)\n",
    "for r in records_df.iterrows():\n",
    "    lat = r[1]['decimalLatitude']\n",
    "    long = r[1]['decimalLongitude']\n",
    "    folium.CircleMarker((lat, long), color=color_dict[r[1]['institutionCode']], popup=r[1]['basisOfRecord']).add_to(mapb)\n",
    "mapb"
   ]
  },
  {
   "cell_type": "markdown",
   "metadata": {},
   "source": [
    "---\n",
    "\n",
    "We can also find out which stations have how many our species. First we'll have to add a column to our `DataFrame` that makes points out of the latitude and longitude coordinates:"
   ]
  },
  {
   "cell_type": "code",
   "execution_count": null,
   "metadata": {},
   "outputs": [],
   "source": [
    "def make_point(row):\n",
    "    return Point(row['decimalLongitude'], row['decimalLatitude'])\n",
    "\n",
    "records_df[\"point\"] = records_df.apply(lambda row: make_point (row),axis=1)"
   ]
  },
  {
   "cell_type": "markdown",
   "metadata": {},
   "source": [
    "Now we can write a little function to check whether that point is in one of the stations, and if it is, we'll add that station in a new column called `station`:"
   ]
  },
  {
   "cell_type": "code",
   "execution_count": null,
   "metadata": {},
   "outputs": [],
   "source": [
    "def in_station(reserves, row):\n",
    "    \n",
    "    reserve_polygons = []\n",
    "\n",
    "    for r in reserves['features']:\n",
    "        name = r['properties']['name']\n",
    "        poly = sg.shape(r['geometry'])\n",
    "        reserve_polygons.append({\"id\": name,\n",
    "                                 \"geometry\": poly})\n",
    "    \n",
    "    sid = False\n",
    "    for r in reserve_polygons:\n",
    "        if r['geometry'].contains(row['point']):\n",
    "            sid = r['id']\n",
    "            sid = r['id']\n",
    "    if sid:\n",
    "        return sid\n",
    "    else:\n",
    "        return False"
   ]
  },
  {
   "cell_type": "markdown",
   "metadata": {},
   "source": [
    "Now apply this function to the `DataFrame`:"
   ]
  },
  {
   "cell_type": "code",
   "execution_count": null,
   "metadata": {},
   "outputs": [],
   "source": [
    "records_df[\"station\"] = records_df.apply(lambda row: in_station(reserves, row),axis=1)\n",
    "in_stations_df = records_df[records_df[\"station\"] != False]\n",
    "len(in_stations_df.columns), len(in_stations_df)"
   ]
  },
  {
   "cell_type": "markdown",
   "metadata": {},
   "source": [
    "<div class=\"alert alert-info\">\n",
    "Question: How many species records occur at one of the field stations or reserves? (write your answer in the blank cell below)\n",
    "    </div>"
   ]
  },
  {
   "cell_type": "raw",
   "metadata": {},
   "source": []
  },
  {
   "cell_type": "markdown",
   "metadata": {},
   "source": [
    "Let's see if this corresponds to what we observed on the map:"
   ]
  },
  {
   "cell_type": "code",
   "execution_count": null,
   "metadata": {},
   "outputs": [],
   "source": [
    "in_stations_df.groupby([\"species\", \"station\"])['station'].count().unstack().plot.barh(stacked=True)"
   ]
  },
  {
   "cell_type": "markdown",
   "metadata": {},
   "source": [
    "<div class=\"alert alert-info\">\n",
    "**Exercise**\n",
    "Edit the code below to search for a different species (replace the scientificName value of 'Melanerpes formicivorus') with another you're interested in, then adapt some of the graphing cells above to explore your data! Use the examples from previous cells to copy and paste the code. Try the California Newt \"Taricha torosa\"!\n",
    "</div>"
   ]
  },
  {
   "cell_type": "code",
   "execution_count": null,
   "metadata": {
    "scrolled": true
   },
   "outputs": [],
   "source": [
    "my_req = GBIFRequest()  # creating a request to the API\n",
    "my_params = {'scientificName': 'Melanerpes formicivorus', 'basisOfRecord':'Preserved_Specimen'}  # search parameters (requesting a species and only Preserved specimens to filter out all the observations)\n",
    "my_pages = my_req.get_pages(my_params)  # using those parameters to complete the request\n",
    "my_records = [rec for page in my_pages for rec in page['results'] if rec.get('decimalLatitude')]  # sift out valid records\n",
    "my_records_df = pd.DataFrame(my_records)  # make a dataframe\n",
    "my_records_df.tail()  # print last 5 rows\n",
    "\n",
    "len(my_records_df)"
   ]
  },
  {
   "cell_type": "code",
   "execution_count": null,
   "metadata": {
    "scrolled": true
   },
   "outputs": [],
   "source": [
    "color_dict, html_key = assign_colors(my_records_df, \"institutionCode\")\n",
    "display(HTML(html_key))"
   ]
  },
  {
   "cell_type": "code",
   "execution_count": null,
   "metadata": {},
   "outputs": [],
   "source": [
    "mapc = folium.Map([37.359276, -122.179626], zoom_start=5)\n",
    "\n",
    "points = folium.features.GeoJson(reserves)\n",
    "mapc.add_child(points)\n",
    "for r in my_records_df.iterrows():\n",
    "    lat = r[1]['decimalLatitude']\n",
    "    long = r[1]['decimalLongitude']\n",
    "    folium.CircleMarker((lat, long), color=color_dict[r[1]['institutionCode']]).add_to(mapc)\n",
    "mapc"
   ]
  },
  {
   "cell_type": "markdown",
   "metadata": {},
   "source": [
    "To see if your search results occur on a field station, run the following cells"
   ]
  },
  {
   "cell_type": "code",
   "execution_count": null,
   "metadata": {},
   "outputs": [],
   "source": [
    "def make_point(row):\n",
    "    return Point(row['decimalLongitude'], row['decimalLatitude'])\n",
    "\n",
    "my_records_df[\"point\"] = my_records_df.apply(lambda row: make_point (row),axis=1)"
   ]
  },
  {
   "cell_type": "code",
   "execution_count": null,
   "metadata": {},
   "outputs": [],
   "source": [
    "my_records_df[\"station\"] = my_records_df.apply(lambda row: in_station(reserves, row),axis=1)\n",
    "in_stations_df = my_records_df[my_records_df[\"station\"] != False]\n",
    "len(in_stations_df.columns), len(in_stations_df)"
   ]
  },
  {
   "cell_type": "markdown",
   "metadata": {},
   "source": [
    "How many records occur in field reserves according to the number of records above?"
   ]
  },
  {
   "cell_type": "code",
   "execution_count": null,
   "metadata": {},
   "outputs": [],
   "source": [
    "in_stations_df.groupby([\"species\", \"station\"])['station'].count().unstack().plot.barh(stacked=True)\n",
    "in_stations_df.head() "
   ]
  },
  {
   "cell_type": "markdown",
   "metadata": {},
   "source": [
    "---\n",
    "\n",
    "<div class=\"alert alert-info\">\n",
    "**Exercise**: Edit the code to search for other species, map the records and see if you can find specimens from field reserves. See if you can figure which code snippets you would use to see which field reserves have these records. Which code snippets would you use to plot other aspects of these records?\n",
    "</div>"
   ]
  },
  {
   "cell_type": "markdown",
   "metadata": {},
   "source": [
    "---\n",
    "\n",
    "## Part 3: Comparing California Oak species:<a id='oak'></a>\n",
    "\n",
    "\n",
    "| ![quercus douglassi](https://upload.wikimedia.org/wikipedia/commons/thumb/6/6d/Large_Blue_Oak.jpg/220px-Large_Blue_Oak.jpg)  | ![quercus lobata](https://upload.wikimedia.org/wikipedia/commons/thumb/8/86/Valley_Oak_Mount_Diablo.jpg/220px-Valley_Oak_Mount_Diablo.jpg) | ![quercus durata](https://upload.wikimedia.org/wikipedia/commons/thumb/b/b8/Quercusduratadurata.jpg/220px-Quercusduratadurata.jpg) | ![quercus agrifolia](https://upload.wikimedia.org/wikipedia/commons/thumb/d/d1/Quercus_agrifolia_foliage.jpg/220px-Quercus_agrifolia_foliage.jpg) |\n",
    "|:---:|:---:|:---:|:---:|\n",
    "| *Quercus douglassi* | *Quercus lobata* | *Quercus durata* | *Quercus agrifolia*|\n",
    "\n",
    "\n",
    "California has high species diversity in its native oaks. Let's search for these four species of oak using our `GBIF` API function and collect the observations:"
   ]
  },
  {
   "cell_type": "code",
   "execution_count": null,
   "metadata": {},
   "outputs": [],
   "source": [
    "species_records = []\n",
    "\n",
    "species = [\"Quercus douglasii\", \"Quercus lobata\", \"Quercus durata\", \"Quercus agrifolia\"]\n",
    "\n",
    "for s in species:\n",
    "    req = GBIFRequest()  # creating a request to the API\n",
    "    params = {'scientificName': s}  # setting our parameters (the specific species we want)\n",
    "    pages = req.get_pages(params)  # using those parameters to complete the request\n",
    "    records = [rec for page in pages for rec in page['results'] if rec.get('decimalLatitude')]  # sift out valid records\n",
    "    species_records.extend(records)\n",
    "    time.sleep(3)"
   ]
  },
  {
   "cell_type": "markdown",
   "metadata": {},
   "source": [
    "We can convert this JSON to a `DataFrame` again:"
   ]
  },
  {
   "cell_type": "code",
   "execution_count": null,
   "metadata": {},
   "outputs": [],
   "source": [
    "records_df = pd.DataFrame(species_records)\n",
    "records_df.head()"
   ]
  },
  {
   "cell_type": "markdown",
   "metadata": {},
   "source": [
    "How many records do we have now?"
   ]
  },
  {
   "cell_type": "code",
   "execution_count": null,
   "metadata": {},
   "outputs": [],
   "source": [
    "len(records_df)"
   ]
  },
  {
   "cell_type": "markdown",
   "metadata": {},
   "source": [
    "Let's see how they're distributed among our different species queries:"
   ]
  },
  {
   "cell_type": "code",
   "execution_count": null,
   "metadata": {},
   "outputs": [],
   "source": [
    "%matplotlib inline\n",
    "records_df['scientificName'].value_counts().plot.barh()"
   ]
  },
  {
   "cell_type": "markdown",
   "metadata": {},
   "source": [
    "We can group this again by `collectionCode`:"
   ]
  },
  {
   "cell_type": "code",
   "execution_count": null,
   "metadata": {},
   "outputs": [],
   "source": [
    "records_df.groupby([\"scientificName\", \"collectionCode\"])['collectionCode'].count().unstack().plot.barh(stacked=True)"
   ]
  },
  {
   "cell_type": "markdown",
   "metadata": {},
   "source": [
    "We can also map these like we did with the first species search above:"
   ]
  },
  {
   "cell_type": "code",
   "execution_count": null,
   "metadata": {
    "scrolled": true
   },
   "outputs": [],
   "source": [
    "color_dict, html_key = assign_colors(records_df, \"species\")\n",
    "display(HTML(html_key))"
   ]
  },
  {
   "cell_type": "code",
   "execution_count": null,
   "metadata": {},
   "outputs": [],
   "source": [
    "mapc = folium.Map([37.359276, -122.179626], zoom_start=5)\n",
    "\n",
    "points = folium.features.GeoJson(reserves)\n",
    "mapc.add_child(points)\n",
    "for r in records_df.iterrows():\n",
    "    lat = r[1]['decimalLatitude']\n",
    "    long = r[1]['decimalLongitude']\n",
    "    folium.CircleMarker((lat, long), color=color_dict[r[1]['species']]).add_to(mapc)\n",
    "mapc"
   ]
  },
  {
   "cell_type": "markdown",
   "metadata": {},
   "source": [
    "We can use the same code we wrote earlier to see which reserves have which species of oak:"
   ]
  },
  {
   "cell_type": "code",
   "execution_count": null,
   "metadata": {},
   "outputs": [],
   "source": [
    "records_df[\"point\"] = records_df.apply(lambda row: make_point (row),axis=1)\n",
    "records_df[\"station\"] = records_df.apply(lambda row: in_station(reserves, row),axis=1)\n",
    "in_stations_df = records_df[records_df[\"station\"] != False]\n",
    "in_stations_df.head()"
   ]
  },
  {
   "cell_type": "markdown",
   "metadata": {},
   "source": [
    "Now we can make a bar graph like we did before, grouping by `species` and stacking the bar based on `station`:"
   ]
  },
  {
   "cell_type": "code",
   "execution_count": null,
   "metadata": {},
   "outputs": [],
   "source": [
    "in_stations_df.groupby([\"species\", \"station\"])['station'].count().unstack().plot.barh(stacked=True)"
   ]
  },
  {
   "cell_type": "markdown",
   "metadata": {},
   "source": [
    "<div class=\"alert alert-info\">\n",
    "Question: Searching and mapping multiple species can be useful. Which species would you expect to find at more than one field station? Besides multiple species of *Quercus* which co-occur, what other combination of species might be useful to search and visualize their data in this way? Write your response in the cell below.\n",
    "</div>"
   ]
  },
  {
   "cell_type": "raw",
   "metadata": {},
   "source": []
  },
  {
   "cell_type": "markdown",
   "metadata": {},
   "source": [
    "#### ---\n",
    "\n",
    "## Part 4: Cal-Adapt API<a id='adapt'></a>\n",
    "<a target=_blank href=\"https://calphotos.berkeley.edu/cgi/img_query?enlarge=0000+0000+0715+1756\"> ![California Damsels dragonfly](https://calphotos.berkeley.edu/imgs/128x192/0000_0000/0715/1756.jpeg)</a>Let's work with California Damsels dragonfly (*Argia agrioides*) data from the GBIF API and climate data from Cal-Adapt. (image from CalPhotos)"
   ]
  },
  {
   "cell_type": "code",
   "execution_count": null,
   "metadata": {},
   "outputs": [],
   "source": [
    "req = GBIFRequest()  # creating a request to the API\n",
    "params = {'scientificName': 'Argia agrioides'}  # setting our parameters (the specific species we want)\n",
    "pages = req.get_pages(params)  # using those parameters to complete the request\n",
    "records = [rec for page in pages for rec in page['results'] if rec.get('decimalLatitude')]  # sift out valid records\n",
    "records[:5]  # print first 5 records"
   ]
  },
  {
   "cell_type": "markdown",
   "metadata": {},
   "source": [
    "We'll make a `DataFrame` again for later use:"
   ]
  },
  {
   "cell_type": "code",
   "execution_count": null,
   "metadata": {},
   "outputs": [],
   "source": [
    "records_df = pd.DataFrame(records)\n",
    "records_df.head()"
   ]
  },
  {
   "cell_type": "markdown",
   "metadata": {},
   "source": [
    "Now we will use the [Cal-Adapt](http://api.cal-adapt.org/api/) web API to work with time series raster data. It will request an entire time series for any geometry and return a Pandas `DataFrame` object for each record in all of our *Argia agrioides* records:"
   ]
  },
  {
   "cell_type": "code",
   "execution_count": null,
   "metadata": {},
   "outputs": [],
   "source": [
    "req = CalAdaptRequest()\n",
    "records_g = [dict(rec, geometry=sg.Point(rec['decimalLongitude'], rec['decimalLatitude']))\n",
    "             for rec in records]\n",
    "ca_df = req.concat_features(records_g, 'gbifID')"
   ]
  },
  {
   "cell_type": "markdown",
   "metadata": {},
   "source": [
    "Let's look at the first five rows:"
   ]
  },
  {
   "cell_type": "code",
   "execution_count": null,
   "metadata": {},
   "outputs": [],
   "source": [
    "ca_df.head()"
   ]
  },
  {
   "cell_type": "code",
   "execution_count": null,
   "metadata": {},
   "outputs": [],
   "source": [
    "len(ca_df.columns), len(ca_df)"
   ]
  },
  {
   "cell_type": "markdown",
   "metadata": {},
   "source": [
    "This looks like the time series data we want for each record (the unique ID numbers as the columns). Each record has the projected temperature in Fahrenheit for 273 years (every row!). We can plot predictions for few random records:"
   ]
  },
  {
   "cell_type": "code",
   "execution_count": null,
   "metadata": {},
   "outputs": [],
   "source": [
    "# Make a line plot using the first 9 columns of dataframe\n",
    "ca_df.iloc[:,:9].plot()\n",
    "\n",
    "# Use matplotlib to title your plot.\n",
    "plot.title('Argia agrioides - %s' % req.slug)\n",
    "\n",
    "# Use matplotlib to add labels to the x and y axes of your plot.\n",
    "plot.xlabel('Year', fontsize=18)\n",
    "plot.ylabel('Degrees (Fahrenheit)', fontsize=16)\n"
   ]
  },
  {
   "cell_type": "markdown",
   "metadata": {},
   "source": [
    "It looks like temperature is increasing across the board wherever these observations are occuring. We can calculate the average temperature for each year across observations in California:"
   ]
  },
  {
   "cell_type": "code",
   "execution_count": null,
   "metadata": {},
   "outputs": [],
   "source": [
    "tmax_means = ca_df.mean(axis=1)\n",
    "tmax_means"
   ]
  },
  {
   "cell_type": "markdown",
   "metadata": {},
   "source": [
    "What's happening to the average temperature that *Argia agrioides* is going to experience in the coming years across California?"
   ]
  },
  {
   "cell_type": "code",
   "execution_count": null,
   "metadata": {},
   "outputs": [],
   "source": [
    "tmax_means.plot()"
   ]
  },
  {
   "cell_type": "markdown",
   "metadata": {},
   "source": [
    "Is there a temperature at which the *Argia agrioides* cannot survive? Is there one in which they particularly thrive?"
   ]
  },
  {
   "cell_type": "raw",
   "metadata": {},
   "source": []
  },
  {
   "cell_type": "markdown",
   "metadata": {},
   "source": [
    "---\n",
    "\n",
    "What if we look specifically at the field stations and reserves? We can grab our same code that checked whether a record was within a station, and then map those `gbifID`s back to this temperature dataset:"
   ]
  },
  {
   "cell_type": "code",
   "execution_count": null,
   "metadata": {},
   "outputs": [],
   "source": [
    "records_df[\"point\"] = records_df.apply(lambda row: make_point (row),axis=1)\n",
    "records_df[\"station\"] = records_df.apply(lambda row: in_station(reserves, row),axis=1)\n",
    "in_stations_df = records_df[records_df[\"station\"] != False]\n",
    "in_stations_df[['gbifID', 'station']].head()"
   ]
  },
  {
   "cell_type": "markdown",
   "metadata": {},
   "source": [
    "Recall the column headers of our `ca_df` are the `gbifID`:"
   ]
  },
  {
   "cell_type": "code",
   "execution_count": null,
   "metadata": {},
   "outputs": [],
   "source": [
    "ca_df.head()"
   ]
  },
  {
   "cell_type": "markdown",
   "metadata": {},
   "source": [
    "Now we subset the temperature dataset for only the observations that occurr within the bounds of a reserve or field station:"
   ]
  },
  {
   "cell_type": "code",
   "execution_count": null,
   "metadata": {},
   "outputs": [],
   "source": [
    "station_obs = [str(id) for id in list(in_stations_df['gbifID'])]\n",
    "ca_df[station_obs]"
   ]
  },
  {
   "cell_type": "markdown",
   "metadata": {},
   "source": [
    "Let's graph these observations from Santa Cruz Island against the average temperature across California where this species was observed:"
   ]
  },
  {
   "cell_type": "code",
   "execution_count": null,
   "metadata": {},
   "outputs": [],
   "source": [
    "plot.plot(tmax_means)\n",
    "plot.plot(ca_df[station_obs])\n",
    "\n",
    "# Use matplotlib to title your plot.\n",
    "plot.title('Argia agrioides and temperatures in Santa Cruz Island')\n",
    "\n",
    "# Use matplotlib to add labels to the x and y axes of your plot.\n",
    "plot.xlabel('Year', fontsize=18)\n",
    "plot.ylabel('Degrees (Fahrenheit)', fontsize=16)\n",
    "plot.legend([\"CA Average\", \"Santa Cruz Island\"])"
   ]
  },
  {
   "cell_type": "markdown",
   "metadata": {},
   "source": [
    "What does this tell you about Santa Cruz Island? As time goes on and the temperature increases, might Santa Cruz Island serve as a refuge for *Argia agrioides*?"
   ]
  },
  {
   "cell_type": "raw",
   "metadata": {},
   "source": []
  },
  {
   "cell_type": "markdown",
   "metadata": {},
   "source": [
    "To save a copy of your Jupyter Notebook with its output, use File-->Download as--> PDF as HTML (.PDF)"
   ]
  }
 ],
 "metadata": {
  "anaconda-cloud": {},
  "kernelspec": {
   "display_name": "Python 3",
   "language": "python",
   "name": "python3"
  },
  "language_info": {
   "codemirror_mode": {
    "name": "ipython",
    "version": 3
   },
   "file_extension": ".py",
   "mimetype": "text/x-python",
   "name": "python",
   "nbconvert_exporter": "python",
   "pygments_lexer": "ipython3",
   "version": "3.12.7"
  }
 },
 "nbformat": 4,
 "nbformat_minor": 1
}
