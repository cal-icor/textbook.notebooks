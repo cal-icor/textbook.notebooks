{
 "cells": [
  {
   "cell_type": "code",
   "execution_count": null,
   "metadata": {
    "deletable": false,
    "slideshow": {
     "slide_type": ""
    },
    "tags": []
   },
   "outputs": [],
   "source": [
    "# Initialize Otter\n",
    "import otter\n",
    "grader = otter.Notebook(\"crispr.ipynb\")"
   ]
  },
  {
   "cell_type": "markdown",
   "metadata": {
    "editable": false,
    "slideshow": {
     "slide_type": ""
    },
    "tags": []
   },
   "source": [
    "# CRISPR Lab\n",
    "### Data Science for Biology\n",
    "**Notebook developed by:** *Kinsey Long*<br>\n",
    "**Supervised by:** *Max Staller*<br>\n",
    "\n",
    "### Learning Outcomes\n",
    "\n",
    "In this notebook, you will learn about:\n",
    "* Randomness in Python\n",
    "* Probability calculations\n",
    "* Permutation tests and p-values\n",
    "* Poisson Statistics\n",
    "* Distributions"
   ]
  },
  {
   "cell_type": "markdown",
   "metadata": {},
   "source": [
    "---\n",
    "### Helpful Data Science Resources\n",
    "Here are some resources you can check out while doing this notebook!\n",
    "\n",
    "- [Introductory documentation for pandas](https://pandas.pydata.org/docs/user_guide/10min.html)\n",
    "- [DS4BIO Pandas Guide](pandas_guide.ipynb)\n",
    "- [GeeksForGeeks Poisson Distribution](https://www.geeksforgeeks.org/poisson-distribution/#)\n",
    "\n",
    "\n",
    "### Peer Consulting\n",
    "\n",
    "If you find yourself having trouble with any content in this notebook, Data Peer Consultants are an excellent resource! Click [here](https://dlab.berkeley.edu/training/frontdesk-info) to locate live help.\n",
    "\n",
    "Peer Consultants are there to answer all data-related questions, whether it be about the content of this notebook, applications of data science in the world, or other data science courses offered at Berkeley.\n",
    "\n",
    "---"
   ]
  },
  {
   "cell_type": "markdown",
   "metadata": {},
   "source": [
    "To prepare our notebook environment, run the following cell which imports the necessary packages. It will print `All necessary packages have been imported.` below the cell when it's completed importing."
   ]
  },
  {
   "cell_type": "code",
   "execution_count": null,
   "metadata": {
    "editable": true,
    "slideshow": {
     "slide_type": ""
    },
    "tags": []
   },
   "outputs": [],
   "source": [
    "from datascience import *\n",
    "import numpy as np\n",
    "import seaborn as sns\n",
    "import scipy.stats as stats\n",
    "import pandas as pd\n",
    "import re\n",
    "%matplotlib inline\n",
    "import matplotlib.pyplot as plt\n",
    "import math\n",
    "\n",
    "pd.options.mode.chained_assignment = None\n",
    "import warnings\n",
    "warnings.simplefilter(action='ignore', category=FutureWarning)\n",
    "\n",
    "print(\"All necessary packages have been imported!\")"
   ]
  },
  {
   "cell_type": "markdown",
   "metadata": {},
   "source": [
    "## 1. Restriction Enzyme Cut Sites"
   ]
  },
  {
   "cell_type": "markdown",
   "metadata": {},
   "source": [
    "The goal of this lab is to use probability theory to understand why CRISPR-Cas9 is such a great tool for genome engineering. To begin, please read [Jennifer Doudna's Nobel Lecture](https://www.nobelprize.org/uploads/2024/03/doudna-lecture.pdf).\n",
    "\n",
    "We will start with restriction enzymes because they are more simple but the principle of the cut site, but the principle of cut site selection are the same. Restriction enzymes are molecular scissors employed in genetic engineering to precisely cut DNA molecules at specific sequences known as cut sites. These enzymes play a crucial role in various molecular biology techniques, such as DNA cloning, gene editing, and DNA fingerprinting. By recognizing and cleaving specific DNA sequences, restriction enzymes enable scientists to manipulate and study genes with a high degree of precision.\n",
    "\n",
    "In this lab, we will be exploring the quantity and spacing of restriction enzyme recognition sites across different DNA sequences using statistical methods."
   ]
  },
  {
   "cell_type": "markdown",
   "metadata": {},
   "source": [
    "### 1.1 GC Content"
   ]
  },
  {
   "cell_type": "markdown",
   "metadata": {},
   "source": [
    "In this lab, we will be comparing Ecoli *Saccharomyces cerevisiae* (yeast) and *Homo sapiens* (human) DNA. A reference genome serves as a representative blueprint of a species' genetic material, providing a standardized framework against which individual genomes can be compared and analyzed. These maps are invaluable in deciphering the genetic basis of traits, diseases, and evolutionary relationships. Remember that the reference genome is just one sequence and does not capture population variance. \n",
    "\n",
    "\n",
    "First, run the cell below to import the sequences `human_chr21`, `yeast_chr7`, `e_coli_genome` as strings. These contain the full reference DNA sequences for human chromosome 21, yeast chromosome 7, and the whole reference genome of *Escherichia coli* O157:H7 strain respectively. These sequences can be downloaded from NCBI. You can find various data on the human reference genome [here](https://www.ncbi.nlm.nih.gov/datasets/taxonomy/9606/), data on the yeast reference genome [here](https://www.ncbi.nlm.nih.gov/datasets/taxonomy/4932/) and data of the E. coli reference genome [here](https://www.ncbi.nlm.nih.gov/datasets/genome/GCF_000008865.2/)."
   ]
  },
  {
   "cell_type": "code",
   "execution_count": null,
   "metadata": {
    "editable": true,
    "slideshow": {
     "slide_type": ""
    },
    "tags": []
   },
   "outputs": [],
   "source": [
    "#Just run this cell\n",
    "with open(\"https://cal-icor.github.io/textbook.data/ucb/ds4bio/human_chr21.fasta\") as f:\n",
    "    human_chr21 = f.read().replace(\"\\n\", \"\")\n",
    "\n",
    "with open(\"https://cal-icor.github.io/textbook.data/ucb/ds4bio/yeast_chr7.fasta\") as f:\n",
    "    yeast_chr7 = f.read().replace(\"\\n\", \"\")\n",
    "\n",
    "with open(\"https://cal-icor.github.io/textbook.data/ucb/ds4bio/e_coli_genome.fasta\") as f:\n",
    "    e_coli_genome = f.read().replace(\"\\n\", \"\")\n",
    "\n",
    "print(\"The first 10 nucleotides of our human DNA are: \", human_chr21[:10])\n",
    "print(\"The first 10 nucleotides of our yeast DNA are: \", yeast_chr7[:10])\n",
    "print(\"The first 10 nucleotides of our E. coli DNA are: \", e_coli_genome[:10])\n",
    "\n",
    "print(f\"The length of the human chr21 DNA is {len(human_chr21)} nucleotides.\")\n",
    "print(f\"The length of the yeast chr7 DNA is {len(yeast_chr7)} nucleotides.\")\n",
    "print(f\"The length of the E. coli DNA is {len(e_coli_genome)} nucleotides.\")"
   ]
  },
  {
   "cell_type": "markdown",
   "metadata": {
    "deletable": false,
    "editable": false
   },
   "source": [
    "Notice that our human DNA contains \"N\" nucleotides, which indicates that the nucleotide at that position is variable. The sequences are also vastly different in length. In order to conduct our statitical analysis later, let's adjust our strings a little bit.\n",
    "\n",
    "<font color = #d14d0f>**QUESTION 1**:</font> Set `human_dna` to the first 1,000,000 nucleotides in `human_chr21` that are **not** \"N\". Set `yeast_dna` to the first 1,000,000 nucleotides in `yeast_chr7` that are **not** \"N\". Set `e_coli_dna` to the first 1,000,000 nucleotides in `e_coli_genome` that are **not** \"N\". "
   ]
  },
  {
   "cell_type": "code",
   "execution_count": null,
   "metadata": {
    "editable": true,
    "slideshow": {
     "slide_type": ""
    },
    "tags": [
     "otter_answer_cell"
    ]
   },
   "outputs": [],
   "source": [
    "human_dna = human_chr21.replace(...)[...]\n",
    "yeast_dna = yeast_chr7.replace(...)[...]\n",
    "e_coli_dna = e_coli_genome.replace(...)[...]\n",
    "\n",
    "# Do not change code below this line\n",
    "print(\"The first 10 nucleotides of our selected human DNA are: \", human_dna[:10])\n",
    "print(\"The first 10 nucleotides of our selected yeast DNA are: \", yeast_dna[:10])\n",
    "print(\"The first 10 nucleotides of our selected E. coli DNA are: \", e_coli_dna[:10])\n",
    "print(f\"The length of the selected human DNA is {len(human_dna)} nucleotides.\")\n",
    "print(f\"The length of the selected yeast DNA is {len(yeast_dna)} nucleotides.\")\n",
    "print(f\"The length of the selected E. coli DNA is {len(e_coli_dna)} nucleotides.\")\n"
   ]
  },
  {
   "cell_type": "code",
   "execution_count": null,
   "metadata": {
    "deletable": false,
    "editable": false
   },
   "outputs": [],
   "source": [
    "grader.check(\"q1\")"
   ]
  },
  {
   "cell_type": "markdown",
   "metadata": {
    "deletable": false,
    "slideshow": {
     "slide_type": ""
    },
    "tags": []
   },
   "source": [
    "<font color = #d14d0f>**QUESTION 2**:</font> Build the function `GC_proportion` which calculates the G and C content combined which we will further refer to GC content of an input DNA sequence as a proportion, **rounded to 3 decimal places**.\n",
    "> Hint: You can use `string1.count(string2)` to count the number of occurances of `string2` within `string1`."
   ]
  },
  {
   "cell_type": "code",
   "execution_count": null,
   "metadata": {
    "editable": true,
    "slideshow": {
     "slide_type": ""
    },
    "tags": [
     "otter_answer_cell"
    ]
   },
   "outputs": [],
   "source": [
    "\n",
    "def GC_proportion(sequence):\n",
    "    ...\n",
    "    return ..."
   ]
  },
  {
   "cell_type": "code",
   "execution_count": null,
   "metadata": {
    "deletable": false,
    "editable": false,
    "slideshow": {
     "slide_type": ""
    },
    "tags": []
   },
   "outputs": [],
   "source": [
    "grader.check(\"q2\")"
   ]
  },
  {
   "cell_type": "markdown",
   "metadata": {},
   "source": [
    "The cell below creates a dictionary of the three different sequences we have set-up so far."
   ]
  },
  {
   "cell_type": "code",
   "execution_count": null,
   "metadata": {},
   "outputs": [],
   "source": [
    "#Just run this cell\n",
    "dna_dict = {\"Human\": human_dna,\n",
    "            \"Yeast\": yeast_dna,\n",
    "            \"E. coli\": e_coli_dna\n",
    "            }"
   ]
  },
  {
   "cell_type": "code",
   "execution_count": null,
   "metadata": {},
   "outputs": [],
   "source": [
    "#Just run this cell to compare the GC content of the three sequences\n",
    "gc_df = pd.DataFrame({\"GC content\": []})\n",
    "\n",
    "for dna, sequence in dna_dict.items():\n",
    "    gc_df.loc[dna] = GC_proportion(sequence)\n",
    "\n",
    "gc_df"
   ]
  },
  {
   "cell_type": "markdown",
   "metadata": {
    "deletable": false,
    "editable": false
   },
   "source": [
    "<font color = #d14d0f>**QUESTION 3a**:</font> Fill in the code below to generate a random DNA sequence `random_dna` of length 1,000,000 nucleotides that is equal proportion A, T, C, and G. "
   ]
  },
  {
   "cell_type": "code",
   "execution_count": null,
   "metadata": {
    "tags": [
     "otter_answer_cell"
    ]
   },
   "outputs": [],
   "source": [
    "# DO NOT CHANGE THIS LINE:\n",
    "np.random.seed(42)\n",
    "\n",
    "\n",
    "random_dna = \"\".join(np.random.choice([\"A\", \"T\", \"C\", \"G\"], ..., p=[...]))\n",
    "\n",
    "#YOUR CODE HERE\n",
    "print(\"The first 10 nucleotides of our random DNA are: \", random_dna[:10])"
   ]
  },
  {
   "cell_type": "code",
   "execution_count": null,
   "metadata": {
    "deletable": false,
    "editable": false
   },
   "outputs": [],
   "source": [
    "grader.check(\"q3a\")"
   ]
  },
  {
   "cell_type": "markdown",
   "metadata": {
    "deletable": false,
    "editable": true
   },
   "source": [
    "<font color = #d14d0f>**QUESTION 3b**:</font> Build a function `generate_random_DNA` which takes in an input `GC_content` as a proportion, and generates a random DNA sequence of length 1,000,000 nucleotides with nucleotide frequencies determined from the input `GC_content`.\n",
    "> Hint:\n",
    "> - If you aren't sure how to determine the nucleotide frequencies/probabilities from only the GC content, consider Chargaff's Rules.\n",
    "> - Ignore the `seed` parameter. It is used to help reproduce random sequences, making it easier to check student's work! You can learn more about it [here.](https://www.geeksforgeeks.org/random-seed-in-python/)"
   ]
  },
  {
   "cell_type": "code",
   "execution_count": null,
   "metadata": {
    "tags": [
     "otter_answer_cell"
    ]
   },
   "outputs": [],
   "source": [
    "\n",
    "def generate_random_DNA(GC_content, seed):\n",
    "    np.random.seed(seed) #DO NOT CHANGE THIS LINE!\n",
    "    #YOUR CODE HERE\n",
    "    AT_content = ...\n",
    "    random_dna = ...\n",
    "    return ..."
   ]
  },
  {
   "cell_type": "code",
   "execution_count": null,
   "metadata": {
    "deletable": false,
    "editable": false
   },
   "outputs": [],
   "source": [
    "grader.check(\"q3b\")"
   ]
  },
  {
   "cell_type": "markdown",
   "metadata": {
    "deletable": false,
    "editable": false
   },
   "source": [
    "<font color = #d14d0f>**QUESTION 3c**:</font> Use `generate_random_DNA` to generate three random DNA sequences: `random_human`, `random_yeast` and `random_ecoli`. Each sequence should have the same GC content as their real sequence counterparts, shown in `gc_df`. Do not change the `seed`!\n"
   ]
  },
  {
   "cell_type": "code",
   "execution_count": null,
   "metadata": {
    "tags": [
     "otter_answer_cell"
    ]
   },
   "outputs": [],
   "source": [
    "\n",
    "random_human = generate_random_DNA(..., 10)\n",
    "random_yeast = generate_random_DNA(..., 11)\n",
    "random_ecoli = generate_random_DNA(..., 12)\n",
    "\n",
    "# Do not change code below this line\n",
    "print(\"The first 10 nucleotides of our random human DNA are: \", random_human[:10])\n",
    "print(\"The first 10 nucleotides of our random yeast DNA are: \", random_yeast[:10])\n",
    "print(\"The first 10 nucleotides of our random E. coli DNA are: \", random_ecoli[:10])"
   ]
  },
  {
   "cell_type": "code",
   "execution_count": null,
   "metadata": {
    "deletable": false,
    "editable": false
   },
   "outputs": [],
   "source": [
    "grader.check(\"q3c\")"
   ]
  },
  {
   "cell_type": "markdown",
   "metadata": {},
   "source": [
    "### 1.2 Counting Restriction Enzyme Binding Sites"
   ]
  },
  {
   "cell_type": "markdown",
   "metadata": {},
   "source": [
    "Now, let's take a look at the recognition sequences of some restriction enzymes. These are the sequences that the restriction enzyme will recognize and bind to, allowing it to make a cut in the DNA. You can find more information on specific restriction enzymes [here](https://enzymefinder.neb.com/#!#nebheader)."
   ]
  },
  {
   "cell_type": "code",
   "execution_count": null,
   "metadata": {
    "editable": true,
    "slideshow": {
     "slide_type": ""
    },
    "tags": []
   },
   "outputs": [],
   "source": [
    "#Just run this cell to load our restriction enzymes\n",
    "restriction_enzymes_df = pd.DataFrame({\n",
    "    \"Enzyme\": [\"MluCI\", \"HaeIII\", \"HpyCH4IV\", \"MfeI\", \"EagI-HF®\", \"ZraI\", \"BssSI-v2\", \"PacI\", \"NotI\"],\n",
    "    \"Recognition Sequence\": [\"AATT\", \"GGCC\", \"ACGT\", \"CAATTG\", \"CGGCCG\", \"GACGTC\", \"CACGAG\", \"TTAATTAA\", \"GCGGCCGC\"]\n",
    "})\n",
    "\n",
    "restriction_enzymes_dict = restriction_enzymes_df.to_dict       #Creates a dictionary equivalent of this DataFrame\n",
    "\n",
    "restriction_enzymes_df"
   ]
  },
  {
   "cell_type": "markdown",
   "metadata": {
    "deletable": false,
    "editable": false
   },
   "source": [
    "<font color = #d14d0f>**QUESTION 4a**:</font> Build the function `count_seq` which returns the number of occurances of a binding recognition seq, `target_seq`, in a DNA sequence, `DNA`."
   ]
  },
  {
   "cell_type": "code",
   "execution_count": null,
   "metadata": {
    "editable": true,
    "slideshow": {
     "slide_type": ""
    },
    "tags": [
     "otter_answer_cell"
    ]
   },
   "outputs": [],
   "source": [
    "\n",
    "def count_seq(DNA, target_seq):\n",
    "    return ..."
   ]
  },
  {
   "cell_type": "code",
   "execution_count": null,
   "metadata": {
    "deletable": false,
    "editable": false
   },
   "outputs": [],
   "source": [
    "grader.check(\"q4a\")"
   ]
  },
  {
   "cell_type": "markdown",
   "metadata": {
    "deletable": false,
    "editable": false
   },
   "source": [
    "<font color = #d14d0f>**QUESTION 4b**:</font> Build the function `theoretical_count` which returns the expectation value for the number of occurances of a binding recognition seq, `target_seq`, in a DNA sequence with `DNA_length` number of nucleotides. Ensure that it outputs a whole number. Assume that each DNA nucleotide is equally likely to be observed.\n",
    "> Guiding questions:\n",
    "> - What is the probability of observing a target sequence at the start of the DNA sequence? \n",
    "> - What about at the second position of the DNA sequence?\n",
    "> - How many different locations is it possible to observe a match?\n",
    "> - How does this affect the expected number of occurances?"
   ]
  },
  {
   "cell_type": "code",
   "execution_count": null,
   "metadata": {
    "tags": [
     "otter_answer_cell"
    ]
   },
   "outputs": [],
   "source": [
    "\n",
    "def theoretical_count(DNA_length, target_seq):\n",
    "    match_probability =  ... ** # the ** is to represent an exponent ...\n",
    "    expected_num_matches = ... * ...\n",
    "    return ..."
   ]
  },
  {
   "cell_type": "code",
   "execution_count": null,
   "metadata": {
    "deletable": false,
    "editable": false
   },
   "outputs": [],
   "source": [
    "grader.check(\"q4b\")"
   ]
  },
  {
   "cell_type": "markdown",
   "metadata": {
    "deletable": false,
    "editable": false
   },
   "source": [
    "<font color = #d14d0f>**QUESTION 4c**:</font> Create a new DataFrame, `re_frequencies` with the following columns, in order: \n",
    "- `\"Enzyme\"`: str, the name of the restriction enzyme.\n",
    "- `\"Recognition Sequence\"`: str, the binding recognition sequence for the enzyme.\n",
    "- `\"Expected Count\"`: int, the expected value of observing the recognition sequence in a random DNA sequence of length 1,000,000.\n",
    "- `\"Actual Count Human\"`: int, the actual number of recognitition sequence matches in `human_dna`.\n",
    "- `\"Actual Count Yeast\"`: int, the actual number of recognitition sequence matches in `yeast_dna`.\n",
    "- `\"Actual Count E. coli\"`: int, the actual number of recognitition sequence matches in `e_coli_dna`.\n",
    "- `\"Actual Count Random\"`: int, the actual number of recognitition sequence matches in `random_dna`."
   ]
  },
  {
   "cell_type": "code",
   "execution_count": null,
   "metadata": {
    "tags": [
     "otter_answer_cell"
    ]
   },
   "outputs": [],
   "source": [
    "expected_counts = []\n",
    "actual_counts_human = []\n",
    "actual_counts_yeast = []\n",
    "actual_counts_e_coli = []\n",
    "actual_counts_random = []\n",
    "\n",
    "for target_seq in restriction_enzymes_df[\"Recognition Sequence\"]:\n",
    "    expected_counts.append(...)\n",
    "    actual_counts_human.append(...)\n",
    "    actual_counts_yeast.append(...)\n",
    "    actual_counts_e_coli.append(...)\n",
    "    actual_counts_random.append(...)\n",
    "\n",
    "re_frequencies = restriction_enzymes_df.copy()\n",
    "re_frequencies[\"Expected Count\"] = expected_counts\n",
    "re_frequencies[\"Actual Count Human\"] = actual_counts_human\n",
    "re_frequencies[\"Actual Count Yeast\"] = actual_counts_yeast\n",
    "re_frequencies[\"Actual Count E. coli\"] = actual_counts_e_coli\n",
    "re_frequencies[\"Actual Count Random\"] = actual_counts_random\n"
   ]
  },
  {
   "cell_type": "code",
   "execution_count": null,
   "metadata": {
    "deletable": false,
    "editable": false
   },
   "outputs": [],
   "source": [
    "grader.check(\"q4c\")"
   ]
  },
  {
   "cell_type": "markdown",
   "metadata": {
    "deletable": false,
    "editable": false
   },
   "source": [
    "<!-- BEGIN QUESTION -->\n",
    "<font color = #d14d0f>**QUESTION 4d**:</font> Compare the expected count and actual counts for each DNA sequence."
   ]
  },
  {
   "cell_type": "markdown",
   "metadata": {
    "deletable": false,
    "editable": true,
    "slideshow": {
     "slide_type": ""
    },
    "tags": []
   },
   "source": [
    "**ANSWER:** Double-click to write your response here."
   ]
  },
  {
   "cell_type": "markdown",
   "metadata": {},
   "source": [
    "### 1.3 Accounting for GC Bias"
   ]
  },
  {
   "cell_type": "markdown",
   "metadata": {},
   "source": [
    "One explanation for the observed results above is that we assumed the DNA nucleotide frequencies were equal in our expectation value calculation. This may not be the case for human and yeast DNA. Therefore, it may be useful to account for bias in nucleotide frequency in our theoretical count function."
   ]
  },
  {
   "cell_type": "markdown",
   "metadata": {
    "deletable": false,
    "editable": false
   },
   "source": [
    "<font color = #d14d0f>**QUESTION 5a**:</font> Build the function `theoretical_count_with_GC` which returns the expectation value for the number of occurances of a binding recognition seq, `target_seq`, in a DNA sequence with `DNA_length` number of nucleotides, incorporating DNA nucleotide frequency information from the `DNA_GC_proportion` of the input DNA. Ensure that it outputs a whole number. \n",
    "> Hint: <br>\n",
    "> - What is the probability of observing the sequence \"ATCG\" if the probability of each nucleotide is different?\n",
    "> - If you aren't sure how to determine the nucleotide frequencies/probabilities from only the GC content, consider Chargaff's Rules."
   ]
  },
  {
   "cell_type": "code",
   "execution_count": null,
   "metadata": {
    "tags": [
     "otter_answer_cell"
    ]
   },
   "outputs": [],
   "source": [
    "\n",
    "def theoretical_count_with_GC(DNA_length, target_seq, DNA_GC_proportion):\n",
    "    at_count_of_target, cg_count_of_target = ..., ...\n",
    "    DNA_AT_proportion = ...\n",
    "    match_probability = ...\n",
    "    expected_num_matches = ... * ...\n",
    "    return ..."
   ]
  },
  {
   "cell_type": "code",
   "execution_count": null,
   "metadata": {
    "deletable": false,
    "editable": false
   },
   "outputs": [],
   "source": [
    "grader.check(\"q5a\")"
   ]
  },
  {
   "cell_type": "markdown",
   "metadata": {
    "deletable": false,
    "editable": false
   },
   "source": [
    "<font color = #d14d0f>**QUESTION 5b**:</font> Create a new DataFrame, `re_frequencies_GC` with the following columns, in order: \n",
    "- `\"Enzyme\"`: str, the name of the restriction enzyme.\n",
    "- `\"Recognition Sequence\"`: str, the binding recognition sequence for the enzyme.\n",
    "- `\"Expected Count Human\"`: int, the expected value of observing the recognition sequence in `human_DNA`.\n",
    "- `\"Actual Count Human\"`: int, the actual number of recognitition sequence matches in `human_dna`.\n",
    "- `\"Expected Count Yeast\"`: int, the expected value of observing the recognition sequence in `yeast_DNA`.\n",
    "- `\"Actual Count Yeast\"`: int, the actual number of recognitition sequence matches in `yeast_dna`.\n",
    "- `\"Expected Count E. coli\"`: int, the expected value of observing the recognition sequence in `e_coli_DNA`.\n",
    "- `\"Actual Count E. coli\"`: int, the actual number of recognitition sequence matches in `e_coli_DNA`."
   ]
  },
  {
   "cell_type": "code",
   "execution_count": null,
   "metadata": {
    "tags": [
     "otter_answer_cell"
    ]
   },
   "outputs": [],
   "source": [
    "\n",
    "expected_counts_GC_human = ...\n",
    "expected_counts_GC_yeast = ...\n",
    "expected_counts_GC_e_coli = ...\n",
    "\n",
    "for target_seq in restriction_enzymes_df[\"Recognition Sequence\"]:\n",
    "    expected_counts_GC_human.append(...)\n",
    "    expected_counts_GC_yeast.append(...)\n",
    "    expected_counts_GC_e_coli.append(...)\n",
    "\n",
    "re_frequencies_GC = restriction_enzymes_df.copy()\n",
    "re_frequencies_GC[\"Expected Count Human\"] = ...\n",
    "re_frequencies_GC[\"Actual Count Human\"] = ...\n",
    "re_frequencies_GC[\"Expected Count Yeast\"] = ...\n",
    "re_frequencies_GC[\"Actual Count Yeast\"] = ...\n",
    "re_frequencies_GC[\"Expected Count E. coli\"] = ...\n",
    "re_frequencies_GC[\"Actual Count E. coli\"] = ...\n",
    "\n",
    "re_frequencies_GC"
   ]
  },
  {
   "cell_type": "code",
   "execution_count": null,
   "metadata": {
    "deletable": false,
    "editable": false
   },
   "outputs": [],
   "source": [
    "grader.check(\"q5b\")"
   ]
  },
  {
   "cell_type": "markdown",
   "metadata": {
    "deletable": false,
    "editable": false
   },
   "source": [
    "<!-- BEGIN QUESTION -->\n",
    "<font color = #d14d0f>**QUESTION 5d**:</font> Compare the expected count and actual counts for each DNA sequence. In particular, consider the GC content of the recognition sequences and the GC content of the DNA sequences. How do these results compare to the previous DataFrame in Q4c?"
   ]
  },
  {
   "cell_type": "markdown",
   "metadata": {
    "deletable": false,
    "editable": true
   },
   "source": [
    "**ANSWER:** Double-click to write your response here."
   ]
  },
  {
   "cell_type": "markdown",
   "metadata": {},
   "source": [
    "### 1.4 Hypothesis Testing\n",
    "\n",
    "In Question 5, we looked at the expected versus actual number of restriction enzyme recognition enzymes. If we want to statistically determine whether this value is different between real human DNA versus random DNA with the same GC content, we could set up a hypothesis test. In this section, we will explore whether the number of MfeI recognition sites is statistically significant in real human DNA compared to random DNA."
   ]
  },
  {
   "cell_type": "markdown",
   "metadata": {
    "deletable": false,
    "editable": false
   },
   "source": [
    "<!-- BEGIN QUESTION -->\n",
    "<font color = #d14d0f>**QUESTION 6a**:</font> Write a null and alternative hypothesis for our hypothesis test."
   ]
  },
  {
   "cell_type": "markdown",
   "metadata": {
    "deletable": false,
    "editable": true,
    "slideshow": {
     "slide_type": ""
    },
    "tags": []
   },
   "source": [
    "**ANSWER:**\n",
    "- Null hypothesis: Double-click to write your response here.\n",
    "- Alternative hypothesis: Double-click to write your response here."
   ]
  },
  {
   "cell_type": "markdown",
   "metadata": {
    "deletable": false,
    "editable": false
   },
   "source": [
    "<font color = #d14d0f>**QUESTION 6b**:</font> Now, we want to simulate results under the null hypothesis. Fill in the code below to generate the array `predicted_counts`, which has the counts of MluCI recognition sites for 250 random DNA sequences with the same GC content and length as `human_DNA`. Your code may take around a minute to run.\n",
    "> Hint: Use your function from Q3c to generate a random DNA sequence with the appropriate GC content."
   ]
  },
  {
   "cell_type": "code",
   "execution_count": null,
   "metadata": {
    "tags": [
     "otter_answer_cell"
    ]
   },
   "outputs": [],
   "source": [
    "\n",
    "MluCI_recognition_sequence = \"...\"\n",
    "\n",
    "predicted_counts = []\n",
    "for i in range(...):\n",
    "    random_seq = ...(..., i) #DO NOT CHANGE THE SEED, i.\n",
    "    count_result = ...(..., ...)\n",
    "    predicted_counts.append(...)"
   ]
  },
  {
   "cell_type": "code",
   "execution_count": null,
   "metadata": {
    "deletable": false,
    "editable": false
   },
   "outputs": [],
   "source": [
    "grader.check(\"q6b\")"
   ]
  },
  {
   "cell_type": "markdown",
   "metadata": {
    "deletable": false,
    "editable": false
   },
   "source": [
    "<font color = #d14d0f>**QUESTION 6c**:</font> Assign `observed_count` to the number of MluCI recognition sequences in `human_DNA`."
   ]
  },
  {
   "cell_type": "code",
   "execution_count": null,
   "metadata": {
    "tags": [
     "otter_answer_cell"
    ]
   },
   "outputs": [],
   "source": [
    "\n",
    "observed_count = ..."
   ]
  },
  {
   "cell_type": "code",
   "execution_count": null,
   "metadata": {
    "tags": [
     "otter_answer_cell"
    ]
   },
   "outputs": [],
   "source": [
    "#Just run this cell\n",
    "plt.hist(predicted_counts, fill=True)\n",
    "plt.axvline(x = observed_count, color = \"red\")\n",
    "plt.xlabel(\"Number of MluCI Binding Sites\")\n",
    "plt.title(\"Number of MluCI Binding Sites in Human DNA vs 250 random sequences of same GC content\")"
   ]
  },
  {
   "cell_type": "code",
   "execution_count": null,
   "metadata": {
    "deletable": false,
    "editable": false
   },
   "outputs": [],
   "source": [
    "grader.check(\"q6c\")"
   ]
  },
  {
   "cell_type": "markdown",
   "metadata": {
    "deletable": false,
    "editable": false
   },
   "source": [
    "<font color = #d14d0f>**QUESTION 7a**:</font> Calculate the p-value, comparing `observed_count` to `predicted_counts`, and assign it to `p_value`."
   ]
  },
  {
   "cell_type": "code",
   "execution_count": null,
   "metadata": {
    "tags": [
     "otter_answer_cell"
    ]
   },
   "outputs": [],
   "source": [
    "\n",
    "p_value = ...\n",
    "\n",
    "print(f\"The p-value for this hypothesis test is {p_value}.\")"
   ]
  },
  {
   "cell_type": "code",
   "execution_count": null,
   "metadata": {
    "deletable": false,
    "editable": false
   },
   "outputs": [],
   "source": [
    "grader.check(\"q7a\")"
   ]
  },
  {
   "cell_type": "markdown",
   "metadata": {
    "deletable": false,
    "editable": false
   },
   "source": [
    "<!-- BEGIN QUESTION -->\n",
    "<font color = #d14d0f>**QUESTION 7b**:</font> What can we conclude from our results, given a p-value cutoff of 0.05? What about for a p-value of 0.01?"
   ]
  },
  {
   "cell_type": "markdown",
   "metadata": {
    "deletable": false,
    "editable": true,
    "slideshow": {
     "slide_type": ""
    },
    "tags": []
   },
   "source": [
    "**ANSWER:** DOUBLE-CLICK TO TYPE YOUR RESPONSE HERE."
   ]
  },
  {
   "cell_type": "markdown",
   "metadata": {},
   "source": [
    "### 1.4 Poisson Statistics\n",
    "\n",
    "**The Poisson Probability Distribution** <br>\n",
    "\n",
    "The Poisson probability distribution is a mathematical concept used to model the probability of a given number of **discrete events** happening in a fixed interval of time or space, under certain conditions. It is particularly useful for **rare events** that occur with a known constant mean rate and independently of the time since the last event. For example, the Poisson distribution can be used to model the number of emails a person receives in an hour or the number of stars appearing in a certain area of the sky. The key parameter of this distribution is λ (lambda), which represents the average number of events in the given interval. The probability of observing exactly k events (where k is a non-negative integer) is calculated using the formula P(X = k) = (λ^k * e^(-λ)) / k!. The mean and variance of this distribution are both equal to λ. It is unusual for the mean and variance of a distribution to be the same. Often, this occurs in very high-variance distributions.\n",
    "\n",
    "Recall that in a Gaussian distribution, the mean and variance are independent parameters. A common point of confusion arises when students try to decide between using the Poisson distribution and the Gaussian (or normal) distribution. While both distributions can be used in certain contexts, they are fundamentally different. The Gaussian distribution is typically used for continuous data and is most appropriate when dealing with large sample sizes or events that are not rare. In contrast, the Poisson distribution is better suited for rare events with smaller sample sizes. However, it's important to note that as the sample size increases (i.e., in the limit of large N), the Poisson distribution can converge to a Gaussian distribution, which is a key point in understanding the relationship between these two statistical models.\n",
    "\n",
    "--- \n",
    "\n",
    "In this section, we will model the probability of observing a given number of PacI recognition sites (\"TTAATTAA\") in a random 100,000 nucleotides-long DNA sequence using the Poisson distribution, and then using our model to make probabilistic calculations. Therefore, in our scenario, P(X=2) symbolizes the probability of observing 2 MluCI recognition sites in a DNA sequence of length 100,000 with the same GC content as `human_DNA`. "
   ]
  },
  {
   "cell_type": "markdown",
   "metadata": {
    "deletable": false,
    "editable": false
   },
   "source": [
    "<font color = #d14d0f>**QUESTION 8a**:</font> Assign `lambda_constant` to the value of λ for a Poisson probability distribution that models the probability of observing a given number of MluCI recognition sites in a random 100,000 nucleotides-long DNA sequence (with the same GC content as a human).\n",
    "> Hint: you may want to use a function that you previously built."
   ]
  },
  {
   "cell_type": "code",
   "execution_count": null,
   "metadata": {
    "otter": {
     "tests": [
      "q8a"
     ]
    },
    "tags": [
     "otter_answer_cell"
    ]
   },
   "outputs": [],
   "source": [
    "\n",
    "lambda_constant = ...\n",
    "\n",
    "print(f\"The lambda for our Poission distribution is {lambda_constant}.\")"
   ]
  },
  {
   "cell_type": "markdown",
   "metadata": {
    "deletable": false,
    "editable": false
   },
   "source": [
    "<font color = #d14d0f>**QUESTION 8b**:</font> Assign `observed_count_100000` to the number of PacI recognition sites in the first 100,000 nucleotides of `human_DNA`."
   ]
  },
  {
   "cell_type": "code",
   "execution_count": null,
   "metadata": {
    "tags": [
     "otter_answer_cell"
    ]
   },
   "outputs": [],
   "source": [
    "\n",
    "observed_count_100000 = ...\n",
    "\n",
    "print(f\"There are {observed_count_100000} PacI recognition sites in the first 100,000 nucleotides of our real human DNA.\")"
   ]
  },
  {
   "cell_type": "code",
   "execution_count": null,
   "metadata": {
    "deletable": false,
    "editable": false
   },
   "outputs": [],
   "source": [
    "grader.check(\"q8b\")"
   ]
  },
  {
   "cell_type": "markdown",
   "metadata": {
    "deletable": false,
    "editable": false
   },
   "source": [
    "<font color = #d14d0f>**QUESTION 8c**:</font> Use the formula for P(X=k) to calculate the probability of observing exactly `observed_count_100000` number of PacI recognition sites in a random DNA (with the same GC content as human). In other words, calculate P(X = `observed_count_100000`). Assign your results to `p_x_observedcount100000`.\n",
    "> Hint: `math.e` and `math.factorial(int)` may be useful."
   ]
  },
  {
   "cell_type": "code",
   "execution_count": null,
   "metadata": {
    "tags": [
     "otter_answer_cell"
    ]
   },
   "outputs": [],
   "source": [
    "\n",
    "p_x_observedcount100000 = ...\n",
    "\n",
    "print(f\"The probability of observed {observed_count_100000} number of PacI binding sites in random DNA of length 100,000 with human GC content is {p_x_observedcount100000}.\")"
   ]
  },
  {
   "cell_type": "code",
   "execution_count": null,
   "metadata": {
    "deletable": false,
    "editable": false
   },
   "outputs": [],
   "source": [
    "grader.check(\"q8c\")"
   ]
  },
  {
   "cell_type": "markdown",
   "metadata": {
    "deletable": false,
    "editable": false
   },
   "source": [
    "<font color = #d14d0f>**QUESTION 9a**:</font> Fill in the code below to create a list `pmf` (Probability Mass Function), which contains the probability of observing `k` number of PacI recongition sites in random DNA (with the same GC content as human), for up until `k` = 30. In other words, `pmf` should be a list containing P(X=0), P(X=1), P(X=2), and so on."
   ]
  },
  {
   "cell_type": "code",
   "execution_count": null,
   "metadata": {
    "editable": true,
    "slideshow": {
     "slide_type": ""
    },
    "tags": [
     "otter_answer_cell"
    ]
   },
   "outputs": [],
   "source": [
    "\n",
    "k_values = ...\n",
    "pmf = []\n",
    "for k in k_values:\n",
    "    p_x_k = ...\n",
    "    pmf.append(...)"
   ]
  },
  {
   "cell_type": "code",
   "execution_count": null,
   "metadata": {
    "deletable": false,
    "editable": false
   },
   "outputs": [],
   "source": [
    "grader.check(\"q9a\")"
   ]
  },
  {
   "cell_type": "markdown",
   "metadata": {
    "deletable": false,
    "editable": false
   },
   "source": [
    "<!-- BEGIN QUESTION -->\n",
    "<font color = #d14d0f>**QUESTION 9b**:</font> Fill in the code below to generate a `sns` scatterplot of the `pmf` (Probability Mass Function) for values of `k` from 0 to 60 (inclusive). \n",
    "> Note: the vertical red line is the number of PacI sites in 100,000 nucleotides of real DNA that you determined in Q8b."
   ]
  },
  {
   "cell_type": "code",
   "execution_count": null,
   "metadata": {
    "editable": true,
    "slideshow": {
     "slide_type": ""
    },
    "tags": [
     "otter_answer_cell"
    ]
   },
   "outputs": [],
   "source": [
    "\n",
    "ax = sns.scatterplot(...)\n",
    "\n",
    "ax.axvline(x = observed_count_100000, color = \"red\")\n",
    "ax.set_xlabel(\"k (Number of Observed Cut Sites)\")\n",
    "ax.set_ylabel(\"Probability\")\n",
    "ax.set_title(\"Poisson Probability Distribution of Observed k Number of Cut Sites in DNA length 5000\")"
   ]
  },
  {
   "cell_type": "code",
   "execution_count": null,
   "metadata": {
    "deletable": false,
    "editable": false
   },
   "outputs": [],
   "source": [
    "grader.check(\"q9b\")"
   ]
  },
  {
   "cell_type": "markdown",
   "metadata": {
    "deletable": false,
    "editable": false
   },
   "source": [
    "<font color = #d14d0f>**QUESTION 9c**:</font> Calculate the probability of observing at least 8 PacI cut sites. Assign your result to `p_x_atleast8`. Round your result to three signifcant figures \n",
    "> Note: assume the P(k>30) is negligible for these questions."
   ]
  },
  {
   "cell_type": "code",
   "execution_count": null,
   "metadata": {
    "tags": [
     "otter_answer_cell"
    ]
   },
   "outputs": [],
   "source": [
    "\n",
    "p_x_atleast8 = ...\n",
    "\n",
    "print(f\"The probability of observing at least 8 cut sites is  {p_x_atleast8:.4f}.\")"
   ]
  },
  {
   "cell_type": "code",
   "execution_count": null,
   "metadata": {
    "deletable": false,
    "editable": false
   },
   "outputs": [],
   "source": [
    "grader.check(\"q9c\")"
   ]
  },
  {
   "cell_type": "markdown",
   "metadata": {
    "deletable": false,
    "editable": false
   },
   "source": [
    "<font color = #d14d0f>**QUESTION 9d**:</font> Calculate the probability of observing between 5 and 10 (inclusive) PacI cut sites. Assign your result to `p_5_x_10`. Round your result to three signficant figures."
   ]
  },
  {
   "cell_type": "code",
   "execution_count": null,
   "metadata": {
    "tags": [
     "otter_answer_cell"
    ]
   },
   "outputs": [],
   "source": [
    "\n",
    "p_5_x_10 = ...\n",
    "\n",
    "print(f\"The probability of observing between 5 and 10 (inclusive) cut sites is {p_5_x_10:.3f}.\")"
   ]
  },
  {
   "cell_type": "code",
   "execution_count": null,
   "metadata": {
    "deletable": false,
    "editable": false
   },
   "outputs": [],
   "source": [
    "grader.check(\"q9d\")"
   ]
  },
  {
   "cell_type": "markdown",
   "metadata": {
    "deletable": false,
    "editable": false
   },
   "source": [
    "<!-- BEGIN QUESTION -->\n",
    "<font color = #d14d0f>**QUESTION 10**:</font> Explain whether λ must always be discrete for the Poisson distribution. Could the expected number of a cut sites be 1.5? Is it possible to observe 1.5 cut sites? Why?"
   ]
  },
  {
   "cell_type": "markdown",
   "metadata": {
    "deletable": false,
    "editable": true,
    "slideshow": {
     "slide_type": ""
    },
    "tags": []
   },
   "source": [
    "**ANSWER:** DOUBLE-CLICK TO TYPE YOUR RESPONSE HERE."
   ]
  },
  {
   "cell_type": "markdown",
   "metadata": {},
   "source": [
    "## 2. Fragment Lengths\n",
    "\n",
    "In this final section, we will be exploring trends in the fragment lengths between restriction enzyme cut sites in DNA. Throughout this section, we will assume that a cut site is made immediately at the end of a restriction enzyme binding site. Note the cut location can vary between enzymes but make this assumption for simplicity. "
   ]
  },
  {
   "cell_type": "markdown",
   "metadata": {
    "deletable": false,
    "editable": false
   },
   "source": [
    "<font color = #d14d0f>**QUESTION 11**:</font> Build a function `fragment_lengths` that takes in a `dna_sequence` and a `cut_site_sequence` and returns a list of lengths of the fragments generated. Choose either approach to yeild results, but only pick 1, and delete the other approach.\n",
    "> Hint:\n",
    "> - For example, `fragment_lengths(\"c\", \"GGG\")` should output a list like [3, 6, 5] (not necessarily in that order). It has three cut sites **after** each \"GGG\", highlighted: \"GGG<mark>|</mark>TTTGGG<mark>|</mark>TTGGG<mark>|</mark>\". Your function  calculates the distances between adjacent cut sites which subqeuntly give us fragment lenghts. \n",
    "> - Assume cutting goes total completion\n",
    "> - You do not have to follow the skeleton code if you have a different approach to this answering this question"
   ]
  },
  {
   "cell_type": "code",
   "execution_count": null,
   "metadata": {
    "tags": [
     "otter_answer_cell"
    ]
   },
   "outputs": [],
   "source": [
    "\n",
    "    #Approach 1\n",
    "    site_len = len(cut_site)\n",
    "    results = [] \n",
    "    prev_cut = 0 \n",
    "    while True:\n",
    "        idx = sequence.find(cut_site, ...) # Use the find method to index the next cutting site\n",
    "        if idx == -1:\n",
    "            break  \n",
    "        cut_position = idx + ... # Add the lenght of the cut site to the start index value \n",
    "        results.append(cut_position - prev_cut)\n",
    "        prev_cut = cut_position\n",
    "    if prev_cut < len(sequence):\n",
    "        results.append(len(sequence) - ...) # Add the remaining sequence after the last cut\n",
    "    return results\n",
    "\n",
    "    # Less Preferred Approach 2\n",
    "    pattern_len = len(pattern)\n",
    "    cut_positions = []\n",
    "    start_index = 0\n",
    "    while True:\n",
    "        pos = seq.find(pattern, start_index)\n",
    "        if pos == -1:\n",
    "            break\n",
    "        cut_positions.append(pos + pattern_len)\n",
    "        start_index = pos + pattern_len \n",
    "    if not cut_positions:\n",
    "        return [len(seq)] \n",
    "    fragments = [cut_positions[0]]  # first fragment length (from start to first cut) \n",
    "    for i in range(1, len(cut_positions)):\n",
    "        fragments.append(cut_positions[i] - cut_positions[i-1])   \n",
    "    final_fragment = len(seq) - cut_positions[-1]\n",
    "    if final_fragment != 0:  \n",
    "        fragments.append(...) # Add the correct element to list\n",
    "    return fragments"
   ]
  },
  {
   "cell_type": "code",
   "execution_count": null,
   "metadata": {
    "deletable": false,
    "editable": false
   },
   "outputs": [],
   "source": [
    "grader.check(\"q11\")"
   ]
  },
  {
   "cell_type": "markdown",
   "metadata": {},
   "source": [
    "Just run the cell below to generate plots of the distribution of the fragment lengths for each restriction enzyme. It compares the distribution of the fragment lengths for our real human dna and some random DNA with the same GC content. The cell may take up to a minute to run."
   ]
  },
  {
   "cell_type": "code",
   "execution_count": null,
   "metadata": {
    "scrolled": true
   },
   "outputs": [],
   "source": [
    "#Just run this cell\n",
    "enzyme_list = [\n",
    "    (\"MluCI\", \"AATT\"), \n",
    "    (\"MfeI\", \"CAATTG\"), \n",
    "    (\"PacI\", \"TTAATTAA\"), \n",
    "    (\"HaeIII\", \"GGCC\"), \n",
    "    (\"EagI-HF®\", \"CGGCCG\"), \n",
    "    (\"NotI\", \"GCGGCCGC\"), \n",
    "    (\"HpyCH4IV\", \"ACGT\"), \n",
    "    (\"ZraI\", \"GACGTC\"), \n",
    "    (\"BssSI-v2\", \"CACGAG\")\n",
    "]\n",
    "\n",
    "# Loop through each enzyme and generate a separate plot\n",
    "for enzyme_name, cut_seq in enzyme_list:\n",
    "    fragment_lengths_human = fragment_lengths(human_dna[:200000], cut_seq)\n",
    "    fragment_lengths_random = fragment_lengths(random_human[:200000], cut_seq)\n",
    "\n",
    "    plt.figure(figsize=(8, 5))\n",
    "    sns.histplot(fragment_lengths_human, bins=30, alpha=0.5, label=\"Human\", color=\"blue\")\n",
    "    sns.histplot(fragment_lengths_random, bins=30, alpha=0.5, label=\"Random\", color=\"orange\")\n",
    "\n",
    "    plt.xlabel(\"Fragment Length\")\n",
    "    plt.ylabel(\"Count\")\n",
    "    plt.title(f\"Histogram of Fragment Lengths for {enzyme_name} ({cut_seq})\")\n",
    "    plt.legend()\n",
    "    plt.show()\n"
   ]
  },
  {
   "cell_type": "markdown",
   "metadata": {
    "deletable": false,
    "editable": false,
    "slideshow": {
     "slide_type": ""
    },
    "tags": []
   },
   "source": [
    "<!-- BEGIN QUESTION -->\n",
    "\n",
    "<font color = #d14d0f>**QUESTION 12**:</font> What kinds of different fragment length distributions do you observe in the histograms above? Do any plots show a significantly different distribution from the human versus random DNA? If so, what is a possible biological explanation for those discrepancies?"
   ]
  },
  {
   "cell_type": "markdown",
   "metadata": {
    "deletable": false,
    "editable": true,
    "slideshow": {
     "slide_type": ""
    },
    "tags": []
   },
   "source": [
    "**ANSWER:** DOUBLE-CLICK TO TYPE YOUR ANSWER HERE."
   ]
  },
  {
   "cell_type": "markdown",
   "metadata": {
    "deletable": false,
    "editable": false,
    "slideshow": {
     "slide_type": ""
    },
    "tags": []
   },
   "source": [
    "<!-- BEGIN QUESTION -->\n",
    "\n",
    "**Cas9 Targeting**\n",
    "\n",
    "CRISPR-Cas9, a revolutionary technology for editing genes, operates in a highly targeted manner. During the Cas9 targeting process, the guide RNA and Cas9 protein complex moves along the DNA strand searching for a binding sequence.\n",
    "\n",
    "As the CRISPR-Cas9 complex moves along the DNA, it looks for the presence of a Protospacer Adjacent Motif (PAM) sequence. This PAM sequence is crucial because it signals the correct location for gene editing. The Cas9 enzyme from Streptococcus pyogenes, for example, recognizes the PAM sequence 'NGG' (where 'N' can be any nucleotide followed by two guanines).\n",
    "\n",
    "Once the PAM sequence is identified, the Cas9 protein induces a localized unwinding of the DNA helix. This allows the gRNA to bind or anneal to its complementary DNA sequence adjacent to the PAM. The binding is through standard base-pairing rules (A pairs with T, C pairs with G).\n",
    "\n",
    "After the gRNA successfully pairs with the target DNA sequence next to the PAM, the Cas9 protein activates its nuclease domains. The gRNA base pairing is 20 bp for actual of 23 match base pairs. These domains then cleave the DNA, typically cutting both strands, leading to a double-strand break at a precise location in the genome, allowing for gene editing to occur.\n",
    "\n",
    "You could explore either of these questions using `human_chr21`,`yeast_chr7` and/or `e_coli_genome`. \n"
   ]
  },
  {
   "cell_type": "markdown",
   "metadata": {
    "deletable": false,
    "editable": false
   },
   "source": [
    "<font color = #d14d0f>**QUESTION 13**:</font> These series of questions explore the statistical specificity of gRNA targeting based on sequence length, GC content, and PAM constraints, assessing their impact on target site availability and the precision of CRISPR-Cas9 in different genomes. These questions are open ended, but please show your work to prove your answers"
   ]
  },
  {
   "cell_type": "markdown",
   "metadata": {
    "deletable": false,
    "editable": false
   },
   "source": [
    "<font color = #d14d0f>**QUESTION 13a**:</font> What is the stastically expected minimum lenght of a gRNA target sequences needed in order to bind to only one site in $10^6$ bp for each species, considering their GC content?\n",
    "How does this compare to the true length (20+3)?\n"
   ]
  },
  {
   "cell_type": "code",
   "execution_count": null,
   "metadata": {
    "deletable": false,
    "editable": false
   },
   "outputs": [],
   "source": [
    "#use this code cell to show your work"
   ]
  },
  {
   "cell_type": "markdown",
   "metadata": {
    "deletable": false,
    "editable": false
   },
   "source": [
    "***Answer***:"
   ]
  },
  {
   "cell_type": "markdown",
   "metadata": {
    "deletable": false,
    "editable": false
   },
   "source": [
    "<font color = #d14d0f>**QUESTION 13b**:</font>How much does the NGG constraint matter for the number of target sites in the $10^6$ bp for each species?"
   ]
  },
  {
   "cell_type": "code",
   "execution_count": null,
   "metadata": {
    "deletable": false,
    "editable": false
   },
   "outputs": [],
   "source": [
    "#use this code cell to show your work"
   ]
  },
  {
   "cell_type": "markdown",
   "metadata": {
    "deletable": false,
    "slideshow": {
     "slide_type": ""
    },
    "tags": []
   },
   "source": [
    "***Answer***:"
   ]
  },
  {
   "cell_type": "markdown",
   "metadata": {
    "deletable": false,
    "editable": false
   },
   "source": [
    "<font color = #d14d0f>**QUESTION 13c**:</font>How many cut sites to you expect to occur by chance in each whole genome? (Hint genome sizes are: Ecoli: 4.6e6 bp, Yeast: 12.2e6 bp, Human 3.2e9 bp). You can assume GC content from above. Is this ‘good enough’ for precision genome engineering of human cells?"
   ]
  },
  {
   "cell_type": "code",
   "execution_count": null,
   "metadata": {
    "deletable": false,
    "editable": false
   },
   "outputs": [],
   "source": [
    "#use this code cell to show your work"
   ]
  },
  {
   "cell_type": "markdown",
   "metadata": {
    "deletable": false,
    "editable": true,
    "slideshow": {
     "slide_type": ""
    },
    "tags": []
   },
   "source": [
    "***Answer***:"
   ]
  },
  {
   "cell_type": "markdown",
   "metadata": {
    "deletable": false,
    "editable": false,
    "slideshow": {
     "slide_type": ""
    },
    "tags": []
   },
   "source": [
    "## Extra Credit\n",
    "Most assignments in this course will include optional extra credit questions. These questions are designed as starting points for students to explore more free-form mini projects. Therefore, there is no skeleton code and minimal guidance for these questions. Students are welcome to go beyond the scope of the question or adapt the question as necessary to answer their own scientific questions of interest. You are welcome to create as many coding cells as you would like for these mini-projects. In order to get extra credit, students should make a reasonable attempt (as judged by the grader) on at least one question and write a brief report.\n",
    "\n",
    "Write a summary on your methodology and your findings, highlighting key results and any interesting observations. The length of the report does not matter, as long as it answers all of the following questions:\n",
    "- What was your scientific goal with this project?\n",
    "- What methods did you use and why?\n",
    "- What were the key results you found for each method you implemented?\n",
    "- Were there any limitations in your methods?\n",
    "- What additional observations or comments can you make on your findings? What is the greater biological relevance or implication?\n",
    "- Are there any additional questions you would want to explore?"
   ]
  },
  {
   "cell_type": "markdown",
   "metadata": {
    "deletable": false,
    "editable": false
   },
   "source": [
    "<font color = #d14d0f>**EC Mini-Project A:**</font> There is a major patent dispute between UC Berkeley and the Broad Institute. Learn about this dispute and write 500 essay summarizing the current state of the litigation.\n",
    "\n",
    "\n",
    "<font color = #d14d0f>**EC Mini-Project B:**</font> Eric Lander, the director of the Broad Institute, wrote a high profile review article chronicling the early history of CRISPR during the patent litigation. How might this article have influenced the patent litigation? Do you see any discrepancies between this article and the history published by the Nobel committee? Do you notice any biases? Do you feel any potential conflicts of interest were adequately disclosed? https://www.cell.com/fulltext/S0092-8674%2815%2901705-5\n",
    "vs\n",
    "https://www.nobelprize.org/uploads/2020/10/popular-chemistryprize2020.pdf\n",
    "\n",
    "<font color = #d14d0f>**EC Mini-Project C:**</font> While Cas9 based CRISPR is currently the most popular tool for modifying genomes, other technologies existed before CRISPR, like TALENs and Zinc finger nucleases. Research one of these alternative methods for genome engineering and write a short paragraph comparing and contrasting that method with CRISPR. What are the advantages of each method? What are the disadvantages? This question is intended as an open ended exploration. You may want to investigate gene therapy dimensions and AAV delivery systems, or explore immunogenicity, describe genome target specificity, or describe ease of reagent validation. Please limit your answer to 500 words discussing one or a few contrasts. After exploring the strengths and weaknesses of these different technologies with the members of your group, what is your favorite method? Why?\n",
    "\n",
    "<font color = #d14d0f>**EC Mini-Project D:**</font> How many unique cut sites can you target in each of your 10^6 bp regions? "
   ]
  },
  {
   "cell_type": "code",
   "execution_count": null,
   "metadata": {
    "deletable": false,
    "editable": false,
    "slideshow": {
     "slide_type": ""
    },
    "tags": []
   },
   "outputs": [],
   "source": [
    "#YOUR CODE HERE. ADD ADDITIONAL CODE CELLS AS NEEDED."
   ]
  },
  {
   "cell_type": "markdown",
   "metadata": {
    "deletable": false,
    "editable": true,
    "slideshow": {
     "slide_type": ""
    },
    "tags": []
   },
   "source": [
    "**EXTRA CREDIT REPORT: [insert project choice here]** <br>\n",
    "\n",
    "*DOUBLE-CLICK TO EDIT THIS CELL AND TYPE YOUR REPORT*"
   ]
  },
  {
   "cell_type": "markdown",
   "metadata": {},
   "source": [
    "---\n",
    "### Congratulations! You have finished CRISPR Lab!\n",
    "---"
   ]
  },
  {
   "cell_type": "markdown",
   "metadata": {
    "deletable": false,
    "editable": false
   },
   "source": [
    "## Submission\n",
    "\n",
    "Make sure you have run all cells in your notebook in order before running the cell below, so that all images/graphs appear in the output. The cell below will generate a zip file for you to submit. **Please save before exporting!**\n",
    "\n",
    "Save, then download the zip file and submit it to the Gradescope autograder assignment. Then, extract the written solutions PDF and upload to the written work lab assignment."
   ]
  },
  {
   "cell_type": "code",
   "execution_count": null,
   "metadata": {
    "deletable": false,
    "editable": false,
    "slideshow": {
     "slide_type": ""
    },
    "tags": []
   },
   "outputs": [],
   "source": [
    "# Save your notebook first, then run this cell to export your submission.\n",
    "grader.export(run_tests=True)"
   ]
  },
  {
   "cell_type": "markdown",
   "metadata": {},
   "source": [
    " "
   ]
  }
 ],
 "metadata": {
  "kernelspec": {
   "display_name": "Python [conda env:base] *",
   "language": "python",
   "name": "conda-base-py"
  },
  "language_info": {
   "codemirror_mode": {
    "name": "ipython",
    "version": 3
   },
   "file_extension": ".py",
   "mimetype": "text/x-python",
   "name": "python",
   "nbconvert_exporter": "python",
   "pygments_lexer": "ipython3",
   "version": "3.11.0"
  },
  "otter": {
   "OK_FORMAT": true,
   "tests": {
    "q1": {
     "name": "q1",
     "points": 3,
     "suites": [
      {
       "cases": [
        {
         "code": ">>> type(human_dna) == str and type(yeast_dna) == str and (type(e_coli_dna) == str)\nTrue",
         "hidden": false,
         "locked": false
        },
        {
         "code": ">>> human_dna.count('N') + yeast_dna.count('N') + e_coli_dna.count('N')\n0",
         "hidden": false,
         "locked": false
        }
       ],
       "scored": true,
       "setup": "",
       "teardown": "",
       "type": "doctest"
      }
     ]
    },
    "q11": {
     "name": "q11",
     "points": 5,
     "suites": [
      {
       "cases": [
        {
         "code": ">>> sorted(fragment_lengths('AAATTAAA', 'AAA')) == [3, 5]\nTrue",
         "hidden": false,
         "locked": false
        },
        {
         "code": ">>> sorted(fragment_lengths('GGGTTTGGGTTGGG', 'GGG')) == [3, 5, 6]\nTrue",
         "hidden": false,
         "locked": false
        }
       ],
       "scored": true,
       "setup": "",
       "teardown": "",
       "type": "doctest"
      }
     ]
    },
    "q2": {
     "name": "q2",
     "points": 3,
     "suites": [
      {
       "cases": [
        {
         "code": ">>> int(100 * GC_proportion(e_coli_dna))\n51",
         "hidden": false,
         "locked": false
        }
       ],
       "scored": true,
       "setup": "",
       "teardown": "",
       "type": "doctest"
      }
     ]
    },
    "q3a": {
     "name": "q3a",
     "points": 3,
     "suites": [
      {
       "cases": [
        {
         "code": ">>> random_dna[:50]\n'TGCCAAAGCCAGGAAATCTTCATTTGACCACAAGGGTACTATAGTCTCCA'",
         "hidden": false,
         "locked": false
        },
        {
         "code": ">>> len(random_dna)\n1000000",
         "hidden": false,
         "locked": false
        }
       ],
       "scored": true,
       "setup": "",
       "teardown": "",
       "type": "doctest"
      }
     ]
    },
    "q3b": {
     "name": "q3b",
     "points": 2,
     "suites": [
      {
       "cases": [
        {
         "code": ">>> generate_random_DNA(0.5, 123)[:10]\n'CTACCTGCTT'",
         "hidden": false,
         "locked": false
        },
        {
         "code": ">>> generate_random_DNA(0.3, 123).count('A')\n349719",
         "hidden": false,
         "locked": false
        },
        {
         "code": ">>> len(generate_random_DNA(0.75, 46920))\n1000000",
         "hidden": false,
         "locked": false
        }
       ],
       "scored": true,
       "setup": "",
       "teardown": "",
       "type": "doctest"
      }
     ]
    },
    "q3c": {
     "name": "q3c",
     "points": 2,
     "suites": [
      {
       "cases": [
        {
         "code": ">>> random_human[:10] + random_yeast[:10] + random_ecoli[:10]\n'CACCTAACAAAATCTTATGGACTCAGGAGA'",
         "hidden": false,
         "locked": false
        },
        {
         "code": ">>> len(random_human) + len(random_yeast) + len(random_ecoli)\n3000000",
         "hidden": false,
         "locked": false
        }
       ],
       "scored": true,
       "setup": "",
       "teardown": "",
       "type": "doctest"
      }
     ]
    },
    "q4a": {
     "name": "q4a",
     "points": 1,
     "suites": [
      {
       "cases": [
        {
         "code": ">>> count_seq('AAATTTAAATTT', 'AAA') == 2\nTrue",
         "hidden": false,
         "locked": false
        }
       ],
       "scored": true,
       "setup": "",
       "teardown": "",
       "type": "doctest"
      }
     ]
    },
    "q4b": {
     "name": "q4b",
     "points": 4,
     "suites": [
      {
       "cases": [
        {
         "code": ">>> np.random.seed(10)\n>>> theoretical_count(np.random.choice(range(10, 1000000), 1)[0], 'ACGTA') == 337\nTrue",
         "hidden": false,
         "locked": false
        },
        {
         "code": ">>> np.random.seed(10)\n>>> theoretical_count(np.random.choice(range(1000, 1000000), 1)[0], 'GC') == 21647\nTrue",
         "hidden": false,
         "locked": false
        }
       ],
       "scored": true,
       "setup": "",
       "teardown": "",
       "type": "doctest"
      }
     ]
    },
    "q4c": {
     "name": "q4c",
     "points": 3,
     "suites": [
      {
       "cases": [
        {
         "code": ">>> re_frequencies.shape\n(9, 7)",
         "hidden": false,
         "locked": false
        },
        {
         "code": ">>> ' '.join(re_frequencies.columns.to_list())\n'Enzyme Recognition Sequence Expected Count Actual Count Human Actual Count Yeast Actual Count E. coli Actual Count Random'",
         "hidden": false,
         "locked": false
        },
        {
         "code": ">>> 1400 < np.mean(re_frequencies['Expected Count']) < 1420\nTrue",
         "hidden": false,
         "locked": false
        },
        {
         "code": ">>> 1290 < np.mean(re_frequencies['Actual Count Human']) < 1300\nTrue",
         "hidden": false,
         "locked": false
        }
       ],
       "scored": true,
       "setup": "",
       "teardown": "",
       "type": "doctest"
      }
     ]
    },
    "q5a": {
     "name": "q5a",
     "points": 5,
     "suites": [
      {
       "cases": [
        {
         "code": ">>> theoretical_count_with_GC(4, 'A', 0.5)\n1.0",
         "hidden": false,
         "locked": false
        },
        {
         "code": ">>> theoretical_count_with_GC(10, 'A', 0.6)\n2.0",
         "hidden": false,
         "locked": false
        }
       ],
       "scored": true,
       "setup": "",
       "teardown": "",
       "type": "doctest"
      }
     ]
    },
    "q5b": {
     "name": "q5b",
     "points": 3,
     "suites": [
      {
       "cases": [
        {
         "code": ">>> re_frequencies_GC.shape\n(9, 8)",
         "hidden": false,
         "locked": false
        },
        {
         "code": ">>> ' '.join(sorted(re_frequencies_GC.columns.to_list()))\n'Actual Count E. coli Actual Count Human Actual Count Yeast Enzyme Expected Count E. coli Expected Count Human Expected Count Yeast Recognition Sequence'",
         "hidden": false,
         "locked": false
        }
       ],
       "scored": true,
       "setup": "",
       "teardown": "",
       "type": "doctest"
      }
     ]
    },
    "q6b": {
     "name": "q6b",
     "points": 2,
     "suites": [
      {
       "cases": [
        {
         "code": ">>> len(predicted_counts)\n250",
         "hidden": false,
         "locked": false
        },
        {
         "code": ">>> predicted_counts[52]\n5928",
         "hidden": false,
         "locked": false
        }
       ],
       "scored": true,
       "setup": "",
       "teardown": "",
       "type": "doctest"
      }
     ]
    },
    "q6c": {
     "name": "q6c",
     "points": 1,
     "suites": [
      {
       "cases": [
        {
         "code": ">>> (np.array(predicted_counts) - np.array(observed_count)).mean()\n174.376",
         "hidden": false,
         "locked": false
        }
       ],
       "scored": true,
       "setup": "",
       "teardown": "",
       "type": "doctest"
      }
     ]
    },
    "q7a": {
     "name": "q7a",
     "points": 2,
     "suites": [
      {
       "cases": [
        {
         "code": ">>> 0 < p_value < 1\nTrue",
         "hidden": false,
         "locked": false
        }
       ],
       "scored": true,
       "setup": "",
       "teardown": "",
       "type": "doctest"
      }
     ]
    },
    "q8a": {
     "name": "q8a",
     "points": 2,
     "suites": [
      {
       "cases": [],
       "scored": true,
       "setup": "",
       "teardown": "",
       "type": "doctest"
      }
     ]
    },
    "q8b": {
     "name": "q8b",
     "points": 1,
     "suites": [
      {
       "cases": [
        {
         "code": ">>> observed_count_100000 == 1\nTrue",
         "hidden": false,
         "locked": false
        }
       ],
       "scored": true,
       "setup": "",
       "teardown": "",
       "type": "doctest"
      }
     ]
    },
    "q8c": {
     "name": "q8c",
     "points": 2,
     "suites": [
      {
       "cases": [
        {
         "code": ">>> 0 < p_x_observedcount100000 < 0.2\nTrue",
         "hidden": false,
         "locked": false
        }
       ],
       "scored": true,
       "setup": "",
       "teardown": "",
       "type": "doctest"
      }
     ]
    },
    "q9a": {
     "name": "q9a",
     "points": 3,
     "suites": [
      {
       "cases": [
        {
         "code": ">>> len(pmf)\n31",
         "hidden": false,
         "locked": false
        },
        {
         "code": ">>> all([True for i in pmf if 0 < i < 1])\nTrue",
         "hidden": false,
         "locked": false
        }
       ],
       "scored": true,
       "setup": "",
       "teardown": "",
       "type": "doctest"
      }
     ]
    },
    "q9b": {
     "name": "q9b",
     "points": null,
     "suites": [
      {
       "cases": [
        {
         "code": ">>> isinstance(ax, plt.Axes) == True\nTrue",
         "hidden": false,
         "locked": false
        },
        {
         "code": ">>> len(ax.collections) == 1\nTrue",
         "hidden": false,
         "locked": false
        }
       ],
       "scored": true,
       "setup": "",
       "teardown": "",
       "type": "doctest"
      }
     ]
    },
    "q9c": {
     "name": "q9c",
     "points": 2,
     "suites": [
      {
       "cases": [
        {
         "code": ">>> 0 < p_x_atleast8 < 0.02\nTrue",
         "hidden": false,
         "locked": false
        }
       ],
       "scored": true,
       "setup": "",
       "teardown": "",
       "type": "doctest"
      }
     ]
    },
    "q9d": {
     "name": "q9d",
     "points": 3,
     "suites": [
      {
       "cases": [
        {
         "code": ">>> 0.12 < p_5_x_10 < 0.2\nTrue",
         "hidden": false,
         "locked": false
        }
       ],
       "scored": true,
       "setup": "",
       "teardown": "",
       "type": "doctest"
      }
     ]
    }
   }
  }
 },
 "nbformat": 4,
 "nbformat_minor": 4
}
