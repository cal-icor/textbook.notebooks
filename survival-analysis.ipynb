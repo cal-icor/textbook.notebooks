{
 "cells": [
  {
   "cell_type": "code",
   "execution_count": null,
   "metadata": {
    "deletable": false,
    "editable": false
   },
   "outputs": [],
   "source": [
    "# Initialize Otter\n",
    "import otter\n",
    "grader = otter.Notebook(\"survival-analysis.ipynb\")"
   ]
  },
  {
   "cell_type": "code",
   "execution_count": null,
   "metadata": {},
   "outputs": [],
   "source": [
    "import pandas as pd\n",
    "import numpy as np\n",
    "import matplotlib.pyplot as plt\n",
    "import seaborn as sb\n",
    "!pip install lifelines --quiet\n",
    "from lifelines.plotting import plot_lifetimes # Lifeline package for the Survival Analysis\n",
    "\n",
    "%matplotlib inline\n",
    "pd.set_option('display.max_columns', None);\n",
    "plt.figure(figsize=(12, 6));"
   ]
  },
  {
   "cell_type": "markdown",
   "metadata": {},
   "source": [
    "# Lab 8: Survival Analysis"
   ]
  },
  {
   "cell_type": "markdown",
   "metadata": {},
   "source": [
    "In this lab, we will look at the concept of survival analysis. Survival analysis looks at the time until an event occurs (failure) or we lose them from the sample (censored observation). As economists, we are interested in how long they stay in the sample (survival). We are also interested in the risk of failure (hazard rates).\n",
    "\n",
    "Some applications of survival analysis include:\n",
    " * Firm survival and exit from a market.\n",
    " * Time to retirement.\n",
    " * How long a machine will last.\n",
    " * Likelihood a patient will survive after receiving a diagnosis or treatment.\n",
    " * How long before a customer will [change companies or _churn_](https://en.wikipedia.org/wiki/Churn_rate)."
   ]
  },
  {
   "cell_type": "markdown",
   "metadata": {},
   "source": [
    "## Math/Statistics Intuition"
   ]
  },
  {
   "cell_type": "markdown",
   "metadata": {},
   "source": [
    "Let's take a non-negative continuous random variable $T$ to represent time.\n",
    "\n",
    "As a continuous random variable, $T$ has both a probability density function (pdf) and a cumulative density function (cdf). $T$ will have pdf $f(t)$ and cdf $F(T)$.\n",
    "\n",
    "Using the properties of pdfs, we can express the cdf as:\n",
    "\n",
    "$$F(t)=P(T<t)$$\n",
    "\n",
    "In this, $F(t)$ gives us the probability that the event has occured by duration $t$. This also means that $F(t)$ gives us the proportion of population with the time to event value less than $t$.\n",
    "\n",
    "We can also express the cdf as an integral of the pdf:\n",
    "\n",
    "$$\\int_{0}^{t}f(x)dx$$\n",
    "\n",
    "\n",
    "\n",
    "**Survival Function**\n",
    "\n",
    "Using the cdf, we can calculate the survival function, or the probability that the event has not occurred by the time $t$. This means that, S(t) gives us the proportion of population with the time to event value more than t. The survival function looks like:\n",
    "\n",
    "$$S(t)=1-F(t)=P(T\\geq t)$$\n",
    "\n",
    "We can also express this as an integral:\n",
    "\n",
    "$$\\int_{t}^{\\infty}f(x)dx$$\n",
    "\n",
    "**An example S(t)**\n",
    "\n",
    "\n",
    "<center>\n",
    "<img src=\"https://cal-icor.github.io/textbook.data/ucb/econ-148/survival_analysis.png\" alt=\"Survival Analysis\" width=\"600\" height=\"300\">\n",
    "\n",
    "Credit: Anurag Pandey (Edited)\n",
    "</center>\n",
    "\n",
    "**How to Estimate S(t)**\n",
    "\n",
    "Because we don't know the true cdf or pdf for the event we are analyzing, we will use a statistical tool called the Kaplan-Meier estimate to help us."
   ]
  },
  {
   "cell_type": "markdown",
   "metadata": {},
   "source": [
    "## Kaplan-Meier Estimate"
   ]
  },
  {
   "cell_type": "markdown",
   "metadata": {},
   "source": [
    "As mentioned above, we will likely not have the cdf or pdf available for a real world application of survival analysis. Rather, we will have to estimate the survival function from the available data. For this, we will utilize a **Kaplan-Meier Estimate**. \n",
    "\n",
    "$$\\hat{S}=\\prod_{i:t_{i}\\leq t}\\frac{n_{i}-d_{i}}{n_{i}}$$\n",
    "\n",
    "In the estimate, denoted by $\\hat{S}$, $n_{i}$ is the population at risk at the time just prior to $t_{i}$. $d_{i}$ is the number of events that have occured at time $t_{i}$.\n",
    "\n",
    "For this notebook, we will be using Python to help us do the calculations. Don't worry if the formula is a little difficult to understand. The basic idea to know is that we are creating a survival curve (like the example given above) using observed data."
   ]
  },
  {
   "cell_type": "code",
   "execution_count": null,
   "metadata": {},
   "outputs": [],
   "source": [
    "# import Kaplan-Meier estimator\n",
    "from lifelines import KaplanMeierFitter"
   ]
  },
  {
   "cell_type": "markdown",
   "metadata": {},
   "source": [
    "Let's look at an example using some toy data. As mentioned above, we'll be using the `lifelines` Python package to help us compute these survival curves."
   ]
  },
  {
   "cell_type": "code",
   "execution_count": null,
   "metadata": {},
   "outputs": [],
   "source": [
    "# Example Data \n",
    "\n",
    "# how long did they survive (if they survive till the end, put max here)\n",
    "sample_durations = [5, 6, 6, 2.5, 4, 4]    \n",
    "\n",
    "# did an event occur (aka did they leave?) within the observation period\n",
    "sample_event_observed = [1, 0, 0, 1, 1, 1]"
   ]
  },
  {
   "cell_type": "markdown",
   "metadata": {},
   "source": [
    "In this example data: one entity survived till $T=2.5$, two entities survived till $T=4$, one entity survived till $T=5$, and the other two survived the entire observation period. Let's see what survival curve will the Kaplan-Meier estimator generate. "
   ]
  },
  {
   "cell_type": "code",
   "execution_count": null,
   "metadata": {},
   "outputs": [],
   "source": [
    "# create an kmf object\n",
    "kmf = KaplanMeierFitter() \n",
    "\n",
    "# Fit the data into the model\n",
    "kmf.fit(sample_durations, sample_event_observed, label='Kaplan Meier Estimate')\n",
    "\n",
    "# Create an estimate\n",
    "kmf.plot(ci_show=False)\n",
    "plt.title('Sample Analysis Curve')\n",
    "plt.ylabel('Likelihood of Survival');"
   ]
  },
  {
   "cell_type": "markdown",
   "metadata": {},
   "source": [
    "See how the survival curve approximates the data we have observed? Now that we have seen this in action, let's take a look at a real world example using some more complex data."
   ]
  },
  {
   "cell_type": "markdown",
   "metadata": {},
   "source": [
    "---\n",
    "## Section 1: Telco Customer Churn"
   ]
  },
  {
   "cell_type": "markdown",
   "metadata": {},
   "source": [
    "This dataset looks at customer churn for a telco company.\n",
    "\n",
    "The data set includes information about:\n",
    " * Customers who left within the last month – the column is called `Churn`\n",
    " * Services that each customer has signed up for – phone, multiple lines, internet, online security, online backup, device protection, tech support, and streaming TV and movies\n",
    " *  Customer account information – how long they’ve been a customer, contract, payment method, paperless billing, monthly charges, and total charges\n",
    " *  Demographic info about customers – gender, age range, and if they have partners and dependents\n",
    "\n",
    "\n",
    "Let's read in the data and take a look at the first couple of rows. The data comes from Kaggle and can be accessed [here](https://www.kaggle.com/datasets/blastchar/telco-customer-churn)."
   ]
  },
  {
   "cell_type": "code",
   "execution_count": null,
   "metadata": {},
   "outputs": [],
   "source": [
    "telco = pd.read_csv(\"https://cal-icor.github.io/textbook.data/ucb/econ-148/WA_Fn-UseC_-Telco-Customer-Churn.csv\")\n",
    "telco.head()"
   ]
  },
  {
   "cell_type": "code",
   "execution_count": null,
   "metadata": {},
   "outputs": [],
   "source": [
    "telco.dtypes"
   ]
  },
  {
   "cell_type": "markdown",
   "metadata": {},
   "source": [
    "Because the Kaplan-Meier process requires numeric values for the features we use, we'll have to do some cleaning and transformations. We'll also have to fill in some NaN values. \n",
    "\n",
    "There are a couple of issues we notice about this dataset. \n",
    "\n",
    "**1. \"Yes\" and \"No\" are very hard to process**  \n",
    "We should replace them with 0 (for \"No\") and 1 (for \"Yes\"). Replace **only** the `Churn` column (since this is the column we will use).\n",
    "\n",
    "**2. Column `TotalCharges` has object type, but it should contain numerical values**  \n",
    "We should convert the column to numerical values while handling the errors along the way. Then fill the missing values with the median of the column. "
   ]
  },
  {
   "cell_type": "markdown",
   "metadata": {
    "deletable": false,
    "editable": false
   },
   "source": [
    "**Question 1.1:** Handle the issues with `telco` dataset mentioned above.  \n",
    "\n",
    "*Hint*: when using `pd.to_numeric` function, set the parameter `errors = \"coerce\"`. "
   ]
  },
  {
   "cell_type": "code",
   "execution_count": null,
   "metadata": {
    "tags": []
   },
   "outputs": [],
   "source": [
    "...\n",
    "telco.head()"
   ]
  },
  {
   "cell_type": "code",
   "execution_count": null,
   "metadata": {
    "deletable": false,
    "editable": false
   },
   "outputs": [],
   "source": [
    "grader.check(\"q1_1\")"
   ]
  },
  {
   "cell_type": "markdown",
   "metadata": {},
   "source": [
    "Now that we have cleaned the data, let's create a Kaplan-Meier curve. We will do this for you as an example. "
   ]
  },
  {
   "cell_type": "code",
   "execution_count": null,
   "metadata": {},
   "outputs": [],
   "source": [
    "telco_durations = telco['tenure'] \n",
    "telco_event_observed = telco['Churn'] \n",
    "\n",
    "km = KaplanMeierFitter() \n",
    "\n",
    "km.fit(telco_durations, telco_event_observed, label='Kaplan Meier Estimate')\n",
    "\n",
    "km.plot()\n",
    "plt.axhline(km.survival_function_at_times(30).item(),color=\"red\",linestyle='dashed')\n",
    "plt.axvline(30, color=\"red\",linestyle='dashed')\n",
    "plt.title('Survival Curve using Telco data')\n",
    "plt.ylabel('Likelihood of Survival');"
   ]
  },
  {
   "cell_type": "markdown",
   "metadata": {},
   "source": [
    "**What does this curve mean?**\n",
    "\n",
    "For example, if we look at $t=30$, there is a 76% chance that a customer did not churn, or leave, until that point."
   ]
  },
  {
   "cell_type": "markdown",
   "metadata": {},
   "source": [
    "---\n",
    "## Credit Risk"
   ]
  },
  {
   "cell_type": "markdown",
   "metadata": {},
   "source": [
    "Let's look at another application of survival analysis: credit risk. Credit Risk refers to the likelihood that a borrower will not be able to repay a loan contracted by a lender. Thus throughout the years, financial institutions have developed various ways to quantify that risk so as to limit their exposure.\n",
    "\n",
    "Here, instead of simply modeling whether a borrower will repay, by using Survival Analysis, it becomes possible to determine when this will happen. Indeed, it is easy to consider that fully repaying a loan is an explicit event, and therefore not having paid back the loan yet can be defined as the censored situation.\n",
    "\n",
    "By using this configuration, banks, credit unions, or fintech startups in the lending space can predict the speed of repayment of a loan. This will help these institutions mitigate losses due to bad debt, customize interest rates, improve cash flow and credit collections, and determine which customers are likely to bring in the most revenue throughout a variety of products."
   ]
  },
  {
   "cell_type": "markdown",
   "metadata": {},
   "source": [
    "Let's start by reading in the data. The data is sourced from German credit data and comes from the [UCI Machine Learning Repository](https://archive.ics.uci.edu/ml/datasets/statlog+(german+credit+data)) and has been reformatted into CSV format [here](https://github.com/square/pysurvival/blob/master/pysurvival/datasets/credit_risk.csv)."
   ]
  },
  {
   "cell_type": "code",
   "execution_count": 21,
   "metadata": {},
   "outputs": [
    {
     "data": {
      "application/vnd.microsoft.datawrangler.viewer.v0+json": {
       "columns": [
        {
         "name": "index",
         "rawType": "int64",
         "type": "integer"
        },
        {
         "name": "checking_account_status",
         "rawType": "object",
         "type": "string"
        },
        {
         "name": "duration",
         "rawType": "int64",
         "type": "integer"
        },
        {
         "name": "credit_history",
         "rawType": "object",
         "type": "string"
        },
        {
         "name": "purpose",
         "rawType": "object",
         "type": "string"
        },
        {
         "name": "amount",
         "rawType": "int64",
         "type": "integer"
        },
        {
         "name": "savings_account_status",
         "rawType": "object",
         "type": "string"
        },
        {
         "name": "employment_years",
         "rawType": "object",
         "type": "string"
        },
        {
         "name": "installment_rate",
         "rawType": "int64",
         "type": "integer"
        },
        {
         "name": "personal_status",
         "rawType": "object",
         "type": "string"
        },
        {
         "name": "other_debtors",
         "rawType": "object",
         "type": "unknown"
        },
        {
         "name": "present_residence",
         "rawType": "int64",
         "type": "integer"
        },
        {
         "name": "property",
         "rawType": "object",
         "type": "string"
        },
        {
         "name": "age",
         "rawType": "int64",
         "type": "integer"
        },
        {
         "name": "other_installment_plans",
         "rawType": "object",
         "type": "unknown"
        },
        {
         "name": "housing",
         "rawType": "object",
         "type": "string"
        },
        {
         "name": "number_of_credits",
         "rawType": "int64",
         "type": "integer"
        },
        {
         "name": "job",
         "rawType": "object",
         "type": "string"
        },
        {
         "name": "people_liable",
         "rawType": "int64",
         "type": "integer"
        },
        {
         "name": "telephone",
         "rawType": "int64",
         "type": "integer"
        },
        {
         "name": "foreign_worker",
         "rawType": "int64",
         "type": "integer"
        },
        {
         "name": "full_repaid",
         "rawType": "int64",
         "type": "integer"
        }
       ],
       "ref": "55b19539-c249-4258-8e34-fc4c15dfa2d7",
       "rows": [
        [
         "0",
         "below_0",
         "6",
         "critical_account",
         "radio_TV",
         "1169",
         "unknown",
         "above_7",
         "4",
         "M_single",
         null,
         "4",
         "real_estate ",
         "67",
         null,
         "own",
         "2",
         "official",
         "1",
         "1",
         "1",
         "1"
        ],
        [
         "1",
         "0_to_200",
         "48",
         "existing_credit_paid",
         "radio_TV",
         "5951",
         "below_100",
         "between_1_4",
         "2",
         "F_not_single",
         null,
         "2",
         "real_estate ",
         "22",
         null,
         "own",
         "1",
         "official",
         "1",
         "0",
         "1",
         "0"
        ],
        [
         "2",
         "no_account",
         "12",
         "critical_account",
         "education",
         "2096",
         "below_100",
         "between_4_7",
         "2",
         "M_single",
         null,
         "3",
         "real_estate ",
         "49",
         null,
         "own",
         "1",
         "unskilled",
         "2",
         "0",
         "1",
         "1"
        ],
        [
         "3",
         "below_0",
         "42",
         "existing_credit_paid",
         "furniture_equipment",
         "7882",
         "below_100",
         "between_4_7",
         "2",
         "M_single",
         "guarantor",
         "4",
         "life_insurance  ",
         "45",
         null,
         "free",
         "1",
         "official",
         "2",
         "0",
         "1",
         "1"
        ],
        [
         "4",
         "below_0",
         "24",
         "delay_in_paying",
         "car_new",
         "4870",
         "below_100",
         "between_1_4",
         "3",
         "M_single",
         null,
         "4",
         "no_property",
         "53",
         null,
         "free",
         "2",
         "official",
         "2",
         "0",
         "1",
         "0"
        ]
       ],
       "shape": {
        "columns": 21,
        "rows": 5
       }
      },
      "text/html": [
       "<div>\n",
       "<style scoped>\n",
       "    .dataframe tbody tr th:only-of-type {\n",
       "        vertical-align: middle;\n",
       "    }\n",
       "\n",
       "    .dataframe tbody tr th {\n",
       "        vertical-align: top;\n",
       "    }\n",
       "\n",
       "    .dataframe thead th {\n",
       "        text-align: right;\n",
       "    }\n",
       "</style>\n",
       "<table border=\"1\" class=\"dataframe\">\n",
       "  <thead>\n",
       "    <tr style=\"text-align: right;\">\n",
       "      <th></th>\n",
       "      <th>checking_account_status</th>\n",
       "      <th>duration</th>\n",
       "      <th>credit_history</th>\n",
       "      <th>purpose</th>\n",
       "      <th>amount</th>\n",
       "      <th>savings_account_status</th>\n",
       "      <th>employment_years</th>\n",
       "      <th>installment_rate</th>\n",
       "      <th>personal_status</th>\n",
       "      <th>other_debtors</th>\n",
       "      <th>present_residence</th>\n",
       "      <th>property</th>\n",
       "      <th>age</th>\n",
       "      <th>other_installment_plans</th>\n",
       "      <th>housing</th>\n",
       "      <th>number_of_credits</th>\n",
       "      <th>job</th>\n",
       "      <th>people_liable</th>\n",
       "      <th>telephone</th>\n",
       "      <th>foreign_worker</th>\n",
       "      <th>full_repaid</th>\n",
       "    </tr>\n",
       "  </thead>\n",
       "  <tbody>\n",
       "    <tr>\n",
       "      <th>0</th>\n",
       "      <td>below_0</td>\n",
       "      <td>6</td>\n",
       "      <td>critical_account</td>\n",
       "      <td>radio_TV</td>\n",
       "      <td>1169</td>\n",
       "      <td>unknown</td>\n",
       "      <td>above_7</td>\n",
       "      <td>4</td>\n",
       "      <td>M_single</td>\n",
       "      <td>NaN</td>\n",
       "      <td>4</td>\n",
       "      <td>real_estate</td>\n",
       "      <td>67</td>\n",
       "      <td>NaN</td>\n",
       "      <td>own</td>\n",
       "      <td>2</td>\n",
       "      <td>official</td>\n",
       "      <td>1</td>\n",
       "      <td>1</td>\n",
       "      <td>1</td>\n",
       "      <td>1</td>\n",
       "    </tr>\n",
       "    <tr>\n",
       "      <th>1</th>\n",
       "      <td>0_to_200</td>\n",
       "      <td>48</td>\n",
       "      <td>existing_credit_paid</td>\n",
       "      <td>radio_TV</td>\n",
       "      <td>5951</td>\n",
       "      <td>below_100</td>\n",
       "      <td>between_1_4</td>\n",
       "      <td>2</td>\n",
       "      <td>F_not_single</td>\n",
       "      <td>NaN</td>\n",
       "      <td>2</td>\n",
       "      <td>real_estate</td>\n",
       "      <td>22</td>\n",
       "      <td>NaN</td>\n",
       "      <td>own</td>\n",
       "      <td>1</td>\n",
       "      <td>official</td>\n",
       "      <td>1</td>\n",
       "      <td>0</td>\n",
       "      <td>1</td>\n",
       "      <td>0</td>\n",
       "    </tr>\n",
       "    <tr>\n",
       "      <th>2</th>\n",
       "      <td>no_account</td>\n",
       "      <td>12</td>\n",
       "      <td>critical_account</td>\n",
       "      <td>education</td>\n",
       "      <td>2096</td>\n",
       "      <td>below_100</td>\n",
       "      <td>between_4_7</td>\n",
       "      <td>2</td>\n",
       "      <td>M_single</td>\n",
       "      <td>NaN</td>\n",
       "      <td>3</td>\n",
       "      <td>real_estate</td>\n",
       "      <td>49</td>\n",
       "      <td>NaN</td>\n",
       "      <td>own</td>\n",
       "      <td>1</td>\n",
       "      <td>unskilled</td>\n",
       "      <td>2</td>\n",
       "      <td>0</td>\n",
       "      <td>1</td>\n",
       "      <td>1</td>\n",
       "    </tr>\n",
       "    <tr>\n",
       "      <th>3</th>\n",
       "      <td>below_0</td>\n",
       "      <td>42</td>\n",
       "      <td>existing_credit_paid</td>\n",
       "      <td>furniture_equipment</td>\n",
       "      <td>7882</td>\n",
       "      <td>below_100</td>\n",
       "      <td>between_4_7</td>\n",
       "      <td>2</td>\n",
       "      <td>M_single</td>\n",
       "      <td>guarantor</td>\n",
       "      <td>4</td>\n",
       "      <td>life_insurance</td>\n",
       "      <td>45</td>\n",
       "      <td>NaN</td>\n",
       "      <td>free</td>\n",
       "      <td>1</td>\n",
       "      <td>official</td>\n",
       "      <td>2</td>\n",
       "      <td>0</td>\n",
       "      <td>1</td>\n",
       "      <td>1</td>\n",
       "    </tr>\n",
       "    <tr>\n",
       "      <th>4</th>\n",
       "      <td>below_0</td>\n",
       "      <td>24</td>\n",
       "      <td>delay_in_paying</td>\n",
       "      <td>car_new</td>\n",
       "      <td>4870</td>\n",
       "      <td>below_100</td>\n",
       "      <td>between_1_4</td>\n",
       "      <td>3</td>\n",
       "      <td>M_single</td>\n",
       "      <td>NaN</td>\n",
       "      <td>4</td>\n",
       "      <td>no_property</td>\n",
       "      <td>53</td>\n",
       "      <td>NaN</td>\n",
       "      <td>free</td>\n",
       "      <td>2</td>\n",
       "      <td>official</td>\n",
       "      <td>2</td>\n",
       "      <td>0</td>\n",
       "      <td>1</td>\n",
       "      <td>0</td>\n",
       "    </tr>\n",
       "  </tbody>\n",
       "</table>\n",
       "</div>"
      ],
      "text/plain": [
       "  checking_account_status  duration        credit_history  \\\n",
       "0                 below_0         6      critical_account   \n",
       "1                0_to_200        48  existing_credit_paid   \n",
       "2              no_account        12      critical_account   \n",
       "3                 below_0        42  existing_credit_paid   \n",
       "4                 below_0        24       delay_in_paying   \n",
       "\n",
       "               purpose  amount savings_account_status employment_years  \\\n",
       "0             radio_TV    1169                unknown          above_7   \n",
       "1             radio_TV    5951              below_100      between_1_4   \n",
       "2            education    2096              below_100      between_4_7   \n",
       "3  furniture_equipment    7882              below_100      between_4_7   \n",
       "4              car_new    4870              below_100      between_1_4   \n",
       "\n",
       "   installment_rate personal_status other_debtors  present_residence  \\\n",
       "0                 4        M_single           NaN                  4   \n",
       "1                 2    F_not_single           NaN                  2   \n",
       "2                 2        M_single           NaN                  3   \n",
       "3                 2        M_single     guarantor                  4   \n",
       "4                 3        M_single           NaN                  4   \n",
       "\n",
       "           property  age other_installment_plans housing  number_of_credits  \\\n",
       "0      real_estate    67                     NaN     own                  2   \n",
       "1      real_estate    22                     NaN     own                  1   \n",
       "2      real_estate    49                     NaN     own                  1   \n",
       "3  life_insurance     45                     NaN    free                  1   \n",
       "4       no_property   53                     NaN    free                  2   \n",
       "\n",
       "         job  people_liable  telephone  foreign_worker  full_repaid  \n",
       "0   official              1          1               1            1  \n",
       "1   official              1          0               1            0  \n",
       "2  unskilled              2          0               1            1  \n",
       "3   official              2          0               1            1  \n",
       "4   official              2          0               1            0  "
      ]
     },
     "execution_count": 21,
     "metadata": {},
     "output_type": "execute_result"
    }
   ],
   "source": [
    "credit = pd.read_csv(\"https://cal-icor.github.io/textbook.data/ucb/econ-148/credit_risk.csv\")\n",
    "credit.head()"
   ]
  },
  {
   "cell_type": "markdown",
   "metadata": {},
   "source": [
    "The dataset contains information useful to assess the borrowers creditworthiness as well as socio-demographic elements:"
   ]
  },
  {
   "cell_type": "markdown",
   "metadata": {},
   "source": [
    "| Feature category | Feature name | Description |\n",
    "| ----------- | ----------- | ----------- |\n",
    "| **Time** | `duration` | Duration in month |\n",
    "| **Event** | `full_repaid` | Specifies if the loan was fully repaid (1 if fully repaid) |\n",
    "| Bank information | `credit_history` | Credit history of the borrower |\n",
    "| Socio-Demographic | `age` | Age of the borrower (in years) |\n",
    "| Socio-Demographic | `telephone` | Indicates if the borrower owns a phone (1 if yes)|\n",
    "| Residence | `present_residence` | Years living at current residence |\n",
    "|  |  | ... (other variables omitted) |"
   ]
  },
  {
   "cell_type": "markdown",
   "metadata": {},
   "source": [
    "See [here](https://square.github.io/pysurvival/tutorials/credit_risk.html) for the full documentation. "
   ]
  },
  {
   "cell_type": "markdown",
   "metadata": {},
   "source": [
    "Now that we have read in the data, let's create a baseline survival curve similar to the ones we have seen earlier."
   ]
  },
  {
   "cell_type": "code",
   "execution_count": null,
   "metadata": {},
   "outputs": [],
   "source": [
    "credit_durations = credit['duration'] \n",
    "credit_event_observed = credit['full_repaid'] \n",
    "\n",
    "km = KaplanMeierFitter() \n",
    "\n",
    "km.fit(credit_durations, credit_event_observed, label='Kaplan Meier Estimate')\n",
    "\n",
    "km.plot()\n",
    "plt.title('Survival Curve using credit risk data')\n",
    "plt.ylabel('Likelihood of Survival');"
   ]
  },
  {
   "cell_type": "markdown",
   "metadata": {},
   "source": [
    "*Recall that the curve describe the duration of the debt (or \"survival\" of the debt). And ideally, a customer with good credit would repay all the debt as early as possible.*"
   ]
  },
  {
   "cell_type": "markdown",
   "metadata": {},
   "source": [
    "### Credit History"
   ]
  },
  {
   "cell_type": "markdown",
   "metadata": {},
   "source": [
    "Now that we have a baseline look at the estimate, let's look at how we can use other features in the dataset to enhance our understanding.\n",
    "\n",
    "First, let's take a look at how credit history impacts credit risk. We can start by looking at the different possible values that this column has using the `value_counts()` method."
   ]
  },
  {
   "cell_type": "code",
   "execution_count": null,
   "metadata": {},
   "outputs": [],
   "source": [
    "credit[\"credit_history\"].value_counts()"
   ]
  },
  {
   "cell_type": "markdown",
   "metadata": {},
   "source": [
    "We can see that there are 5 different possible values for `credit_history`. Let's take the top 3 and compare their survival curves."
   ]
  },
  {
   "cell_type": "markdown",
   "metadata": {
    "deletable": false,
    "editable": false
   },
   "source": [
    "**Question 1.2:** Use `KaplanMeierFitter()` to generate survival curves for the top 3 categories in `credit_history` and then plot the curves on the same graph. Feel free to use the example provided above. \n"
   ]
  },
  {
   "cell_type": "code",
   "execution_count": null,
   "metadata": {
    "tags": []
   },
   "outputs": [],
   "source": [
    "# Group 1: existing_credit_paid\n",
    "kmf_ch1 = KaplanMeierFitter() \n",
    "T1 = ...\n",
    "E1 = ...\n",
    "kmf_ch1.fit(T1, E1, label='Existing Credit Paid Off')   \n",
    "ax = kmf_ch1.plot(ci_show=False)\n",
    "\n",
    "# Group 2: critical_account\n",
    "kmf_ch2 = KaplanMeierFitter() \n",
    "T2 = ...\n",
    "E2 = ...\n",
    "kmf_ch2.fit(T2, E2, label='Critical Account/Other Credits Existing')   \n",
    "ax = kmf_ch2.plot(ci_show=False)\n",
    "\n",
    "# Group 3: delay_in_paying \n",
    "kmf_ch3 = KaplanMeierFitter() \n",
    "T3 = ...\n",
    "E3 = ...\n",
    "kmf_ch3.fit(T3, E3, label='Past Delay in Paying Off Credit')   \n",
    "ax = kmf_ch3.plot(ci_show=False)\n",
    "\n",
    "plt.title(\"Debt Duration and Credit History Survival Curve\")\n",
    "plt.ylabel('Likelihood of Survival');"
   ]
  },
  {
   "cell_type": "code",
   "execution_count": null,
   "metadata": {
    "deletable": false,
    "editable": false
   },
   "outputs": [],
   "source": [
    "grader.check(\"q1_2\")"
   ]
  },
  {
   "cell_type": "markdown",
   "metadata": {
    "deletable": false,
    "editable": false
   },
   "source": [
    "<!-- BEGIN QUESTION -->\n",
    "\n",
    "**Question 1.3:** Does the result of the graph above align with your intuition? Why or why not?"
   ]
  },
  {
   "cell_type": "markdown",
   "metadata": {},
   "source": [
    "_Type your answer here, replacing this text._"
   ]
  },
  {
   "cell_type": "markdown",
   "metadata": {
    "deletable": false,
    "editable": false
   },
   "source": [
    "<!-- END QUESTION -->\n",
    "\n",
    "You should see that those with prior delays in paying off their credit are more likely to pay their debt slower and therefore are deemed a credit risk sooner. Does this result align with your intuition?"
   ]
  },
  {
   "cell_type": "markdown",
   "metadata": {},
   "source": [
    "### Telephone Ownership\n",
    "\n",
    "Now that we have seen an example of how to use the `lifelines` package, let's look at how telephone ownership impacts credit risk. \n",
    "\n",
    "Let's start by using the `value_counts` on the `telephone` column of the `credit` dataframe."
   ]
  },
  {
   "cell_type": "code",
   "execution_count": null,
   "metadata": {},
   "outputs": [],
   "source": [
    "credit[\"telephone\"].value_counts()"
   ]
  },
  {
   "cell_type": "markdown",
   "metadata": {
    "deletable": false,
    "editable": false
   },
   "source": [
    "**Question 1.4:** Use `KaplanMeierFitter()` to generate survival curves for the both categories in `telephone` and then plot the curves on the same graph. \n",
    "\n",
    "*Note:* You must fit `kmf_has_phones` and `kmf_no_phones` in order to pass the autograder."
   ]
  },
  {
   "cell_type": "code",
   "execution_count": null,
   "metadata": {
    "tags": []
   },
   "outputs": [],
   "source": [
    "kmf_has_phones = KaplanMeierFitter()\n",
    "kmf_no_phones = KaplanMeierFitter() \n",
    "...\n",
    "plt.title(\"Debt Duration and Telephone Ownership\");"
   ]
  },
  {
   "cell_type": "code",
   "execution_count": null,
   "metadata": {
    "deletable": false,
    "editable": false
   },
   "outputs": [],
   "source": [
    "grader.check(\"q1_4\")"
   ]
  },
  {
   "cell_type": "markdown",
   "metadata": {
    "deletable": false,
    "editable": false
   },
   "source": [
    "**Question 1.5:** According to the survival curves, those who have a phone are _________ to fully repay their loans. \n",
    "\n",
    "Fill in the blank with either _faster_ or _slower_.\n",
    "\n",
    "1. faster\n",
    "2. slower\n",
    "\n",
    "Assign the number corresponding to your answer to `q1_4` below."
   ]
  },
  {
   "cell_type": "code",
   "execution_count": null,
   "metadata": {
    "tags": []
   },
   "outputs": [],
   "source": [
    "q1_5 = ..."
   ]
  },
  {
   "cell_type": "code",
   "execution_count": null,
   "metadata": {
    "deletable": false,
    "editable": false
   },
   "outputs": [],
   "source": [
    "grader.check(\"q1_5\")"
   ]
  },
  {
   "cell_type": "markdown",
   "metadata": {
    "deletable": false,
    "editable": false
   },
   "source": [
    "<!-- BEGIN QUESTION -->\n",
    "\n",
    "**Question 1.6:** Does this align with your intuition? What are some possible reasons for this to be the case?"
   ]
  },
  {
   "cell_type": "markdown",
   "metadata": {},
   "source": [
    "_Type your answer here, replacing this text._"
   ]
  },
  {
   "cell_type": "markdown",
   "metadata": {
    "deletable": false,
    "editable": false
   },
   "source": [
    "<!-- END QUESTION -->\n",
    "\n",
    "You can use the following cell as a scratch cell to play around with the `credit` data. Some strategies to come up with possible explanations involve using the `groupby()` method to see if there are any other differences between phone owners and non-phone owners. You can also use matplotlib's `plt.scatter()` method to visualize the data to identify differences. Another way is to look at a few of the data points for both phone owners and non-phone owners. "
   ]
  },
  {
   "cell_type": "code",
   "execution_count": null,
   "metadata": {},
   "outputs": [],
   "source": [
    "# This is a scratch cell for the question above"
   ]
  },
  {
   "cell_type": "markdown",
   "metadata": {
    "tags": []
   },
   "source": [
    "---\n",
    "## Section 2: Survival Regression\n",
    "\n",
    "Now let's regress other covariates on duration. In this example, we'll be using Cox's proportional hazard model for regression. Cox’s proportional hazard model states that the log-hazard of an individual is a linear function of their covariates and a population-level baseline hazard that changes over time. Mathematically:\n",
    "\n",
    "$$\\underbrace{h(t | x)}_{\\text{hazard}} = \\overbrace{b_0(t)}^{\\text{baseline hazard}} \\underbrace{\\exp \\overbrace{\\left(\\sum_{i=1}^n b_i (x_i - \\overline{x_i})\\right)}^{\\text{log-partial hazard}}}_ {\\text{partial hazard}}$$\n",
    "\n",
    "Don't worry if you don't fully understand how to math works. It is important to note that the Cox model _does not use an intercept term_ as the baseline hazard represents the intercept. Let's walkthrough an example of survival regression in action."
   ]
  },
  {
   "cell_type": "code",
   "execution_count": null,
   "metadata": {
    "tags": []
   },
   "outputs": [],
   "source": [
    "from lifelines.datasets import load_rossi\n",
    "from lifelines import CoxPHFitter\n",
    "\n",
    "cph = CoxPHFitter()\n",
    "cph.fit(credit, duration_col='duration', event_col='full_repaid', formula =\"age + present_residence\");"
   ]
  },
  {
   "cell_type": "markdown",
   "metadata": {},
   "source": [
    "Here we have fit a model that looks like\n",
    "\n",
    "$$\\text{Duration}_i = \\beta_1 * \\text{Age}_i + \\beta_2 * \\text{Present\\_Residence}_i$$\n",
    "\n",
    "We achieve this by adding our right side of the equation to the `formula` parameter in the format of `\"variable_1 + variable_2\"` as shown above.\n",
    "\n",
    "Remember that there is no intercept term. We can look at the regression output using the `summary()` method. This regression output should look similar to other ones we have seen in this course and other econometric classes."
   ]
  },
  {
   "cell_type": "code",
   "execution_count": null,
   "metadata": {},
   "outputs": [],
   "source": [
    "cph.summary"
   ]
  },
  {
   "cell_type": "markdown",
   "metadata": {},
   "source": [
    "Using the coefficients from the table, we can see that our model from above has coefficients:\n",
    "\n",
    "$$duration = \\underbrace{0.009584}_{(0.003445)}* age+  \\underbrace{-0.051758}_{(0.035235)}* present\\_residence$$\n",
    "\n",
    "What does this mean in the context of debt duration and credit risk? For every additional year in age, the debt duration increases by 0.009584 month. For every additional year in the present residence, the debt duration is lowered by 0.051758 month. \n",
    "\n",
    "Intuitively, this makes sense, as people who are older and may have retired may be unable to make their payments as fast. Similarly, for those who have lived in their present residence for a longer time may indicate that they are better able to make their payments and not default."
   ]
  },
  {
   "cell_type": "markdown",
   "metadata": {},
   "source": [
    "---"
   ]
  },
  {
   "cell_type": "markdown",
   "metadata": {},
   "source": [
    "Now's explore how telephone ownership status impacts credit default risk. "
   ]
  },
  {
   "cell_type": "markdown",
   "metadata": {
    "deletable": false,
    "editable": false
   },
   "source": [
    "**Question 2.1:** Use the `age` and `telephone` variables in a regression model. Remember to put a `+` in between each variable in the forumla. Reference the example above if you need a quick reminder on the syntax."
   ]
  },
  {
   "cell_type": "code",
   "execution_count": null,
   "metadata": {
    "tags": []
   },
   "outputs": [],
   "source": [
    "cph = CoxPHFitter()\n",
    "...\n",
    "cph.summary"
   ]
  },
  {
   "cell_type": "code",
   "execution_count": null,
   "metadata": {
    "deletable": false,
    "editable": false
   },
   "outputs": [],
   "source": [
    "grader.check(\"q2_1\")"
   ]
  },
  {
   "cell_type": "markdown",
   "metadata": {
    "deletable": false,
    "editable": false
   },
   "source": [
    "<!-- BEGIN QUESTION -->\n",
    "\n",
    "**Question 2.2:** In the cell below, explain the regression summary. How do `age` and `telephone` affect loan duration? Are the findings significant? How do you interpret these findings in relation to your answer from 1.5?"
   ]
  },
  {
   "cell_type": "markdown",
   "metadata": {},
   "source": [
    "_Type your answer here, replacing this text._"
   ]
  },
  {
   "cell_type": "markdown",
   "metadata": {
    "deletable": false,
    "editable": false
   },
   "source": [
    "<!-- END QUESTION -->\n",
    "\n",
    " "
   ]
  },
  {
   "cell_type": "markdown",
   "metadata": {},
   "source": [
    "**Congratulations!** You have successfully finished lab 8."
   ]
  },
  {
   "cell_type": "markdown",
   "metadata": {
    "deletable": false,
    "editable": false
   },
   "source": [
    "## Submission\n",
    "\n",
    "Make sure you have run all cells in your notebook in order before running the cell below, so that all images/graphs appear in the output. The cell below will generate a zip file for you to submit. **Please save before exporting!**"
   ]
  },
  {
   "cell_type": "code",
   "execution_count": null,
   "metadata": {
    "deletable": false,
    "editable": false
   },
   "outputs": [],
   "source": [
    "# Save your notebook first, then run this cell to export your submission.\n",
    "grader.export(run_tests=True)"
   ]
  }
 ],
 "metadata": {
  "kernelspec": {
   "display_name": "Python 3",
   "language": "python",
   "name": "python3"
  },
  "language_info": {
   "codemirror_mode": {
    "name": "ipython",
    "version": 3
   },
   "file_extension": ".py",
   "mimetype": "text/x-python",
   "name": "python",
   "nbconvert_exporter": "python",
   "pygments_lexer": "ipython3",
   "version": "3.12.7"
  },
  "otter": {
   "OK_FORMAT": true,
   "export_pdf_failure_message": "PDF did not generate, please submit screenshots for questions 2.2, 2.3, 3.2 and 3.3.",
   "require_no_pdf_confirmation": true,
   "tests": {
    "q1_1": {
     "name": "q1_1",
     "points": null,
     "suites": [
      {
       "cases": [
        {
         "code": ">>> assert telco.shape == (7043, 21)\n",
         "hidden": false,
         "locked": false
        },
        {
         "code": ">>> assert telco['Churn'].dtype in ['int', 'int32', 'int64'] and telco['Churn'].nunique() == 2\n",
         "hidden": false,
         "locked": false
        },
        {
         "code": ">>> assert telco['TotalCharges'].dtype in ['float', 'float32', 'float64']\n",
         "hidden": false,
         "locked": false
        },
        {
         "code": ">>> assert telco['TotalCharges'].isna().sum() == 0\n",
         "hidden": false,
         "locked": false
        },
        {
         "code": ">>> assert np.isclose(np.mean(telco['TotalCharges']), 2281.9169281556156)\n",
         "hidden": false,
         "locked": false
        }
       ],
       "scored": true,
       "setup": "",
       "teardown": "",
       "type": "doctest"
      }
     ]
    },
    "q1_2": {
     "name": "q1_2",
     "points": null,
     "suites": [
      {
       "cases": [
        {
         "code": ">>> assert kmf_ch1.survival_function_.shape == (30, 1)\n",
         "hidden": false,
         "locked": false
        },
        {
         "code": ">>> assert kmf_ch2.survival_function_.shape == (27, 1)\n",
         "hidden": false,
         "locked": false
        },
        {
         "code": ">>> assert kmf_ch3.survival_function_.shape == (19, 1)\n",
         "hidden": false,
         "locked": false
        }
       ],
       "scored": true,
       "setup": "",
       "teardown": "",
       "type": "doctest"
      }
     ]
    },
    "q1_4": {
     "name": "q1_4",
     "points": null,
     "suites": [
      {
       "cases": [
        {
         "code": ">>> assert kmf_has_phones.survival_function_.shape == (28, 1)\n",
         "hidden": false,
         "locked": false
        },
        {
         "code": ">>> assert kmf_no_phones.survival_function_.shape == (31, 1)\n",
         "hidden": false,
         "locked": false
        }
       ],
       "scored": true,
       "setup": "",
       "teardown": "",
       "type": "doctest"
      }
     ]
    },
    "q1_5": {
     "name": "q1_5",
     "points": null,
     "suites": [
      {
       "cases": [
        {
         "code": ">>> assert q1_5 == 2\n",
         "hidden": false,
         "locked": false
        }
       ],
       "scored": true,
       "setup": "",
       "teardown": "",
       "type": "doctest"
      }
     ]
    },
    "q2_1": {
     "name": "q2_1",
     "points": null,
     "suites": [
      {
       "cases": [
        {
         "code": ">>> assert len(cph.params_) == 2\n",
         "hidden": false,
         "locked": false
        },
        {
         "code": ">>> assert np.isclose(cph.params_['age'], 0.009707513784471935)\n",
         "hidden": false,
         "locked": false
        },
        {
         "code": ">>> assert np.isclose(cph.params_['telephone'], -0.24538065756103947)\n",
         "hidden": false,
         "locked": false
        }
       ],
       "scored": true,
       "setup": "",
       "teardown": "",
       "type": "doctest"
      }
     ]
    }
   }
  }
 },
 "nbformat": 4,
 "nbformat_minor": 4
}
